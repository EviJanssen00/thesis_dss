{
 "cells": [
  {
   "cell_type": "markdown",
   "metadata": {
    "application/vnd.databricks.v1+cell": {
     "cellMetadata": {
      "byteLimit": 2048000,
      "rowLimit": 10000
     },
     "inputWidgets": {},
     "nuid": "b984c00f-736d-4cac-a137-6231388cf291",
     "showTitle": false,
     "tableResultSettingsMap": {},
     "title": ""
    }
   },
   "source": [
    "# Employee Attrition prediction models "
   ]
  },
  {
   "cell_type": "code",
   "execution_count": 0,
   "metadata": {
    "application/vnd.databricks.v1+cell": {
     "cellMetadata": {
      "byteLimit": 2048000,
      "rowLimit": 10000
     },
     "inputWidgets": {},
     "nuid": "01357bbf-cc0f-46e0-8bec-6b0e67939290",
     "showTitle": false,
     "tableResultSettingsMap": {},
     "title": ""
    }
   },
   "outputs": [],
   "source": [
    "# Install packages\n",
    "!pip install imbalanced-learn\n",
    "!pip install --upgrade numpy scipy threadpoolctl  \n",
    "!pip install xgboost \n",
    "!pip install catboost   \n",
    "!pip install lightgbm\n",
    "!pip install shap"
   ]
  },
  {
   "cell_type": "code",
   "execution_count": 0,
   "metadata": {
    "application/vnd.databricks.v1+cell": {
     "cellMetadata": {
      "byteLimit": 2048000,
      "rowLimit": 10000
     },
     "inputWidgets": {},
     "nuid": "bfe1dcdf-f93f-4fbb-9508-67d3bdf9d415",
     "showTitle": false,
     "tableResultSettingsMap": {},
     "title": ""
    }
   },
   "outputs": [],
   "source": [
    "# Import libraries\n",
    "import pandas as pd\n",
    "from sklearn.model_selection import train_test_split, cross_val_score\n",
    "from sklearn.ensemble import RandomForestClassifier\n",
    "from sklearn.tree import DecisionTreeClassifier\n",
    "from sklearn.preprocessing import LabelEncoder\n",
    "from sklearn.metrics import classification_report, confusion_matrix, accuracy_score, recall_score, f1_score, cohen_kappa_score\n",
    "from imblearn.over_sampling import SMOTE\n",
    "from sklearn.utils.class_weight import compute_class_weight\n",
    "from sklearn.ensemble import GradientBoostingClassifier\n",
    "from xgboost import XGBClassifier  \n",
    "from catboost import CatBoostClassifier\n",
    "import numpy as np\n",
    "from sklearn.model_selection import KFold, StratifiedKFold\n",
    "from sklearn.feature_selection import SelectKBest, f_classif\n",
    "from sklearn.preprocessing import StandardScaler\n",
    "from sklearn.model_selection import StratifiedKFold\n",
    "from sklearn.linear_model import LogisticRegression\n",
    "from sklearn.svm import SVC\n",
    "import lightgbm as lgb\n",
    "from sklearn.model_selection import GridSearchCV\n",
    "import matplotlib.pyplot as plt\n",
    "import seaborn as sns\n",
    "import shap\n",
    "import lightgbm\n",
    "from lightgbm import LGBMClassifier\n"
   ]
  },
  {
   "cell_type": "code",
   "execution_count": 0,
   "metadata": {
    "application/vnd.databricks.v1+cell": {
     "cellMetadata": {
      "byteLimit": 2048000,
      "rowLimit": 10000
     },
     "inputWidgets": {},
     "nuid": "fef320f4-a366-401d-94a2-958427146624",
     "showTitle": false,
     "tableResultSettingsMap": {},
     "title": ""
    }
   },
   "outputs": [],
   "source": [
    "# Load cleaned data extended model\n",
    "df_employees_cleaned = pd.read_csv(\"Employee_attrition_cleaned2.csv\")"
   ]
  },
  {
   "cell_type": "code",
   "execution_count": 0,
   "metadata": {
    "application/vnd.databricks.v1+cell": {
     "cellMetadata": {
      "byteLimit": 2048000,
      "rowLimit": 10000
     },
     "inputWidgets": {},
     "nuid": "f01b7902-7b91-48a3-b746-80c311c6a1d0",
     "showTitle": false,
     "tableResultSettingsMap": {},
     "title": ""
    }
   },
   "outputs": [],
   "source": [
    "# Drop features that are disregarded in model \n",
    "df_employees_cleaned = df_employees_cleaned.drop(columns=[\"AnonymizedEmployeeCode\", \"CompanyID\", \"City\", \"YearsInServiceGroupNew\"])\n"
   ]
  },
  {
   "cell_type": "code",
   "execution_count": 0,
   "metadata": {
    "application/vnd.databricks.v1+cell": {
     "cellMetadata": {},
     "inputWidgets": {},
     "nuid": "bdbfd69b-8422-426a-96ca-6adef24d3944",
     "showTitle": false,
     "tableResultSettingsMap": {},
     "title": ""
    }
   },
   "outputs": [],
   "source": [
    "# Exclude novel features for dataframe baseline model\n",
    "columns_to_exclude = [\n",
    "    \"ManualLabor_Yes\",\n",
    "    \"NumContractTypeChanges\",\n",
    "    \"NumFunctionChanges\",\n",
    "    \"NumLocationChanges\",\n",
    "    \"NumOrganisationPartChanges\",\n",
    "    \"SalaryIncreasesCount\",\n",
    "    \"YearsCurrentContractType\",\n",
    "    \"YearsCurrentDepartment\",\n",
    "    \"YearsCurrentFunction\",\n",
    "    \"YearsCurrentLocation\",\n",
    "    \"YearsCurrentOrganisationPart\"\n",
    "]\n",
    "\n",
    "# Create df_employees_baseline_features by excluding specified columns\n",
    "df_employees_baseline_features = df_employees_cleaned.drop(columns=columns_to_exclude)"
   ]
  },
  {
   "cell_type": "markdown",
   "metadata": {
    "application/vnd.databricks.v1+cell": {
     "cellMetadata": {
      "byteLimit": 2048000,
      "rowLimit": 10000
     },
     "inputWidgets": {},
     "nuid": "df0b9033-b8db-4d5b-bd2e-3bc2a4af6ee9",
     "showTitle": false,
     "tableResultSettingsMap": {},
     "title": ""
    }
   },
   "source": [
    "# Feature Encoding "
   ]
  },
  {
   "cell_type": "markdown",
   "metadata": {
    "application/vnd.databricks.v1+cell": {
     "cellMetadata": {
      "byteLimit": 2048000,
      "rowLimit": 10000
     },
     "inputWidgets": {},
     "nuid": "391d1a9f-6fb4-4fa9-9214-1eb6045c8edf",
     "showTitle": false,
     "tableResultSettingsMap": {},
     "title": ""
    }
   },
   "source": [
    "## Ordinal encoding AgeGroup"
   ]
  },
  {
   "cell_type": "code",
   "execution_count": 0,
   "metadata": {
    "application/vnd.databricks.v1+cell": {
     "cellMetadata": {
      "byteLimit": 2048000,
      "rowLimit": 10000
     },
     "inputWidgets": {},
     "nuid": "c60251db-8e56-41a2-8f4e-8313ee1df77a",
     "showTitle": false,
     "tableResultSettingsMap": {},
     "title": ""
    }
   },
   "outputs": [],
   "source": [
    "# Define the order of the AgeGroup\n",
    "age_order = [\n",
    "    'under 20',   # 0\n",
    "    '20-24',      # 1\n",
    "    '25-29',      # 2\n",
    "    '30-34',      # 3\n",
    "    '35-39',      # 4\n",
    "    '40-44',      # 5\n",
    "    '45-49',      # 6\n",
    "    '50-54',      # 7\n",
    "    '55-59',      # 8\n",
    "    '60-64',      # 9\n",
    "    '65+'         # 10\n",
    "]\n",
    "\n",
    "# Create a mapping from AgeGroup to ordinal values\n",
    "age_mapping = {age: idx for idx, age in enumerate(age_order)}\n",
    "\n",
    "# Overwrite the AgeGroup column with the encoded values\n",
    "df_employees_cleaned['AgeGroup'] = df_employees_cleaned['AgeGroup'].map(age_mapping)\n",
    "df_employees_baseline_features['AgeGroup'] = df_employees_baseline_features['AgeGroup'].map(age_mapping)"
   ]
  },
  {
   "cell_type": "markdown",
   "metadata": {
    "application/vnd.databricks.v1+cell": {
     "cellMetadata": {
      "byteLimit": 2048000,
      "rowLimit": 10000
     },
     "inputWidgets": {},
     "nuid": "c0ae0cf0-3119-45cb-89cb-ae2fd9c5d66b",
     "showTitle": false,
     "tableResultSettingsMap": {},
     "title": ""
    }
   },
   "source": [
    "## Ordinal encoding Generation "
   ]
  },
  {
   "cell_type": "code",
   "execution_count": 0,
   "metadata": {
    "application/vnd.databricks.v1+cell": {
     "cellMetadata": {
      "byteLimit": 2048000,
      "rowLimit": 10000
     },
     "inputWidgets": {},
     "nuid": "af13e489-95cd-4221-b77b-1c9a5dcdb463",
     "showTitle": false,
     "tableResultSettingsMap": {},
     "title": ""
    }
   },
   "outputs": [],
   "source": [
    "# Define the order of generations\n",
    "generation_order = [\n",
    "    'Silent Generation (1926-1940)',\n",
    "    'Protest Generation (1941-1955)',\n",
    "    'Generation X (1956-1970)',\n",
    "    'Pragmatic Generation (1971-1985)',\n",
    "    'Generation Y (1986-2000)',\n",
    "    'Generation Z (2001-2015)',\n",
    "    'Generation Alpha (2016-2030)'\n",
    "]\n",
    "\n",
    "# Create a mapping from generation to ordinal number\n",
    "generation_mapping = {generation: index for index, generation in enumerate(generation_order)}\n",
    "\n",
    "# Perform ordinal encoding\n",
    "df_employees_cleaned['Generation'] = df_employees_cleaned['Generation'].replace(generation_mapping)\n",
    "df_employees_baseline_features['Generation'] = df_employees_baseline_features['Generation'].replace(generation_mapping)"
   ]
  },
  {
   "cell_type": "markdown",
   "metadata": {
    "application/vnd.databricks.v1+cell": {
     "cellMetadata": {
      "byteLimit": 2048000,
      "rowLimit": 10000
     },
     "inputWidgets": {},
     "nuid": "07966244-2ec5-4762-a4e0-baad84ef7b33",
     "showTitle": false,
     "tableResultSettingsMap": {},
     "title": ""
    }
   },
   "source": [
    "## Ordinal encoding YearDateService"
   ]
  },
  {
   "cell_type": "code",
   "execution_count": 0,
   "metadata": {
    "application/vnd.databricks.v1+cell": {
     "cellMetadata": {
      "byteLimit": 2048000,
      "rowLimit": 10000
     },
     "inputWidgets": {},
     "nuid": "f34c8090-12c7-4a56-94e8-6f5455dd4aea",
     "showTitle": false,
     "tableResultSettingsMap": {},
     "title": ""
    }
   },
   "outputs": [],
   "source": [
    "# Define the year range\n",
    "min_year = 1977\n",
    "max_year = 2024\n",
    "\n",
    "# Create a mapping from year to ordinal value\n",
    "year_mapping = {year: year - min_year for year in range(min_year, max_year + 1)}\n",
    "\n",
    "# Overwrite the YearDateService column with its ordinal encoding\n",
    "df_employees_cleaned['YearDateService'] = df_employees_cleaned['YearDateService'].map(year_mapping)\n",
    "df_employees_baseline_features['YearDateService'] = df_employees_baseline_features['YearDateService'].map(year_mapping)"
   ]
  },
  {
   "cell_type": "markdown",
   "metadata": {
    "application/vnd.databricks.v1+cell": {
     "cellMetadata": {
      "byteLimit": 2048000,
      "rowLimit": 10000
     },
     "inputWidgets": {},
     "nuid": "9b86463a-64e0-4649-846d-a94dfed0d200",
     "showTitle": false,
     "tableResultSettingsMap": {},
     "title": ""
    }
   },
   "source": [
    "## Ordinal encoding FunctionCategory"
   ]
  },
  {
   "cell_type": "code",
   "execution_count": 0,
   "metadata": {
    "application/vnd.databricks.v1+cell": {
     "cellMetadata": {
      "byteLimit": 2048000,
      "rowLimit": 10000
     },
     "inputWidgets": {},
     "nuid": "6a50c4ac-1910-4c3d-a8c8-940aca4099e3",
     "showTitle": false,
     "tableResultSettingsMap": {},
     "title": ""
    }
   },
   "outputs": [],
   "source": [
    "# Define the order of categories\n",
    "category_order = [\n",
    "    'Intern', \n",
    "    'Flex worker', \n",
    "    'Junior', \n",
    "    'General Level', \n",
    "    'Medior', \n",
    "    'Lead or Supervisor', \n",
    "    'Manager', \n",
    "    'Senior', \n",
    "    'Partner and C-level'\n",
    "]\n",
    "\n",
    "# Create a mapping from category to ordinal number\n",
    "category_mapping = {category: index for index, category in enumerate(category_order)}\n",
    "\n",
    "# Perform ordinal encoding\n",
    "df_employees_cleaned['FunctionCategory'] = df_employees_cleaned['FunctionCategory'].replace(category_mapping)\n",
    "df_employees_baseline_features['FunctionCategory'] = df_employees_baseline_features['FunctionCategory'].replace(category_mapping)"
   ]
  },
  {
   "cell_type": "markdown",
   "metadata": {
    "application/vnd.databricks.v1+cell": {
     "cellMetadata": {
      "byteLimit": 2048000,
      "rowLimit": 10000
     },
     "inputWidgets": {},
     "nuid": "75edb84c-4f48-4053-ba85-645e5eb03bb0",
     "showTitle": false,
     "tableResultSettingsMap": {},
     "title": ""
    }
   },
   "source": [
    "## One-hot encoding"
   ]
  },
  {
   "cell_type": "code",
   "execution_count": 0,
   "metadata": {
    "application/vnd.databricks.v1+cell": {
     "cellMetadata": {
      "byteLimit": 2048000,
      "rowLimit": 10000
     },
     "inputWidgets": {},
     "nuid": "8fdc05e6-13c5-4e68-ac30-586ab6ed895b",
     "showTitle": false,
     "tableResultSettingsMap": {},
     "title": ""
    }
   },
   "outputs": [],
   "source": [
    "# Specify the features to be one-hot encoded\n",
    "features_to_encode_complete_model = [\"Gender\", \"Country\", \"EmployeeType\", \"MaritalStatus\", \"DepartmentCategory\", \"ManualLabor\", \"ContractType\", \"CompanySize\", \"Industry\"] \n",
    "\n",
    "features_to_encode_baseline_model = [\"DepartmentCategory\", \"CompanySize\", \"Gender\", \"MaritalStatus\"]\n",
    "\n",
    "# Apply one-hot encoding and overwrite the original DataFrame\n",
    "df_employees_cleaned = pd.get_dummies(df_employees_cleaned, columns=features_to_encode_complete_model, drop_first=True)\n",
    "df_employees_baseline_features = pd.get_dummies(df_employees_baseline_features, columns=features_to_encode_baseline_model, drop_first=True)"
   ]
  },
  {
   "cell_type": "markdown",
   "metadata": {
    "application/vnd.databricks.v1+cell": {
     "cellMetadata": {},
     "inputWidgets": {},
     "nuid": "8419fe25-0f68-46f1-b514-2a76691ac60e",
     "showTitle": false,
     "tableResultSettingsMap": {},
     "title": ""
    }
   },
   "source": [
    "## Feature Selection"
   ]
  },
  {
   "cell_type": "code",
   "execution_count": 0,
   "metadata": {
    "application/vnd.databricks.v1+cell": {
     "cellMetadata": {
      "byteLimit": 2048000,
      "rowLimit": 10000
     },
     "inputWidgets": {},
     "nuid": "825d3fb4-2f2d-4585-b25b-62fc1f9624cd",
     "showTitle": false,
     "tableResultSettingsMap": {},
     "title": ""
    }
   },
   "outputs": [],
   "source": [
    "df_employees_cleaned = df_employees_cleaned.drop([\"YearsInService\", \"Generation\"], axis=1)"
   ]
  },
  {
   "cell_type": "markdown",
   "metadata": {
    "application/vnd.databricks.v1+cell": {
     "cellMetadata": {
      "byteLimit": 2048000,
      "rowLimit": 10000
     },
     "inputWidgets": {},
     "nuid": "50f32264-06ba-4443-9543-fae179f69222",
     "showTitle": false,
     "tableResultSettingsMap": {},
     "title": ""
    }
   },
   "source": [
    "# Extended Models"
   ]
  },
  {
   "cell_type": "markdown",
   "metadata": {
    "application/vnd.databricks.v1+cell": {
     "cellMetadata": {
      "byteLimit": 2048000,
      "rowLimit": 10000
     },
     "inputWidgets": {},
     "nuid": "45d18639-92ab-43e9-877d-bde3f9592cfc",
     "showTitle": false,
     "tableResultSettingsMap": {},
     "title": ""
    }
   },
   "source": [
    "## Decision Tree"
   ]
  },
  {
   "cell_type": "markdown",
   "metadata": {
    "application/vnd.databricks.v1+cell": {
     "cellMetadata": {
      "byteLimit": 2048000,
      "rowLimit": 10000
     },
     "inputWidgets": {},
     "nuid": "59df94c6-59ad-4163-ad06-b9edc7c9ed49",
     "showTitle": false,
     "tableResultSettingsMap": {},
     "title": ""
    }
   },
   "source": [
    "### Hyperparameter tuning"
   ]
  },
  {
   "cell_type": "code",
   "execution_count": 0,
   "metadata": {
    "application/vnd.databricks.v1+cell": {
     "cellMetadata": {
      "byteLimit": 2048000,
      "rowLimit": 10000
     },
     "inputWidgets": {},
     "nuid": "c1f63f7f-792a-4f0e-8b64-ccd1d50c9c13",
     "showTitle": false,
     "tableResultSettingsMap": {},
     "title": ""
    },
    "jupyter": {
     "outputs_hidden": true
    }
   },
   "outputs": [],
   "source": [
    "# Prepare the feature variables (X) and target variable (y)\n",
    "X = df_employees_cleaned.drop(columns=[\"Attrition\"])  # Features\n",
    "y = df_employees_cleaned[\"Attrition\"]  # Target variable\n",
    "\n",
    "# Convert the target variable to numeric (0 = 'No', 1 = 'Yes')\n",
    "label_encoder = LabelEncoder()\n",
    "y = label_encoder.fit_transform(y)\n",
    "\n",
    "# Split the dataset into training and a completely separate test set (20% test size)\n",
    "X_train_full, X_test, y_train_full, y_test = train_test_split(\n",
    "    X, y, test_size=0.2, stratify=y, random_state=42\n",
    ")\n",
    "\n",
    "# Initialize StratifiedKFold for cross-validation\n",
    "stratified_kfold = StratifiedKFold(n_splits=5, shuffle=True, random_state=42)\n",
    "\n",
    "# Hyperparameter grid for Decision Tree\n",
    "param_grid = {\n",
    "    'criterion': ['gini', 'entropy'],  # Split criterion\n",
    "    'max_depth': [None, 10, 20, 30],  # Maximum depth of the tree\n",
    "    'min_samples_split': [2, 5, 10],  # Minimum number of samples required to split a node\n",
    "    'min_samples_leaf': [1, 2, 4],    # Minimum number of samples at a leaf node\n",
    "    'max_features': [None, 'sqrt', 'log2'],  # Number of features to consider at each split\n",
    "    'splitter': ['best', 'random']  # Strategy used to split at each node\n",
    "}\n",
    "\n",
    "# Initialize Decision Tree Classifier\n",
    "dt_classifier = DecisionTreeClassifier(random_state=42)\n",
    "\n",
    "# Initialize GridSearchCV for hyperparameter tuning\n",
    "grid_search = GridSearchCV(\n",
    "    estimator=dt_classifier,\n",
    "    param_grid=param_grid,\n",
    "    scoring='recall',\n",
    "    cv=stratified_kfold,\n",
    "    n_jobs=-1,\n",
    "    verbose=2\n",
    ")\n",
    "\n",
    "# Initialize lists to store metrics for each fold\n",
    "accuracy_dt = []\n",
    "recall_dt = []\n",
    "f1_score_dt = []\n",
    "\n",
    "# Perform stratified k-fold cross-validation on the training set\n",
    "print(\"Starting Stratified K-Fold Cross-Validation with Hyperparameter Tuning for Decision Tree...\")\n",
    "for fold, (train_index, val_index) in enumerate(stratified_kfold.split(X_train_full, y_train_full), 1):\n",
    "    print(f\"\\nProcessing fold {fold}...\")\n",
    "\n",
    "    X_train, X_val = X_train_full.iloc[train_index], X_train_full.iloc[val_index]\n",
    "    y_train, y_val = y_train_full[train_index], y_train_full[val_index]\n",
    "\n",
    "    # Apply SMOTE to the training data\n",
    "    smote = SMOTE(random_state=42)\n",
    "    X_train_resampled, y_train_resampled = smote.fit_resample(X_train, y_train)\n",
    "\n",
    "    # Perform hyperparameter tuning with GridSearchCV on resampled data\n",
    "    print(f\"Performing GridSearchCV for fold {fold}...\")\n",
    "    grid_search.fit(X_train_resampled, y_train_resampled)\n",
    "\n",
    "    # Get the best estimator (model with the best hyperparameters)\n",
    "    best_dt_model = grid_search.best_estimator_\n",
    "\n",
    "    # Make predictions on the validation set using the best model\n",
    "    y_val_pred_dt = best_dt_model.predict(X_val)\n",
    "\n",
    "    # Calculate metrics for the current fold\n",
    "    accuracy_dt.append(accuracy_score(y_val, y_val_pred_dt))\n",
    "    recall_dt.append(recall_score(y_val, y_val_pred_dt, pos_label=1))  # Assuming 'Yes' = 1\n",
    "    f1_score_dt.append(f1_score(y_val, y_val_pred_dt, pos_label=1))  # Assuming 'Yes' = 1\n",
    "\n",
    "    # Print progress for this fold\n",
    "    print(f\"Fold {fold} complete. Accuracy: {accuracy_dt[-1]:.4f}, Recall: {recall_dt[-1]:.4f}, F1 Score: {f1_score_dt[-1]:.4f}\")\n",
    "\n",
    "# Calculate average metrics across all folds\n",
    "avg_accuracy_dt = np.mean(accuracy_dt)\n",
    "avg_recall_dt = np.mean(recall_dt)\n",
    "avg_f1_score_dt = np.mean(f1_score_dt)\n",
    "\n",
    "# Display average metrics\n",
    "print(\"\\nAverage Metrics for Decision Tree Across Stratified K-Fold Cross-Validation (With Hyperparameter Tuning):\")\n",
    "print(f\"Accuracy: {avg_accuracy_dt:.4f}\")\n",
    "print(f\"Recall: {avg_recall_dt:.4f}\")\n",
    "print(f\"F1 Score: {avg_f1_score_dt:.4f}\")\n",
    "\n",
    "# Display the best hyperparameters found by GridSearchCV\n",
    "print(\"\\nBest Hyperparameters from GridSearchCV:\")\n",
    "print(grid_search.best_params_)\n",
    "\n",
    "# Evaluate the final model on the completely separate test set\n",
    "final_model_dt = grid_search.best_estimator_\n",
    "y_test_pred_dt = final_model_dt.predict(X_test)\n",
    "\n",
    "# Test set performance metrics\n",
    "test_accuracy = accuracy_score(y_test, y_test_pred_dt)\n",
    "test_recall = recall_score(y_test, y_test_pred_dt, pos_label=1)\n",
    "test_f1_score = f1_score(y_test, y_test_pred_dt, pos_label=1)\n",
    "\n",
    "print(\"\\nTest Set Evaluation:\")\n",
    "print(f\"Accuracy: {test_accuracy:.4f}\")\n",
    "print(f\"Recall: {test_recall:.4f}\")\n",
    "print(f\"F1 Score: {test_f1_score:.4f}\")\n"
   ]
  },
  {
   "cell_type": "markdown",
   "metadata": {
    "application/vnd.databricks.v1+cell": {
     "cellMetadata": {
      "byteLimit": 2048000,
      "rowLimit": 10000
     },
     "inputWidgets": {},
     "nuid": "1c255dc1-9560-4910-b61e-ea7b1dad9629",
     "showTitle": false,
     "tableResultSettingsMap": {},
     "title": ""
    }
   },
   "source": [
    "### Model training optimal hyperparameters"
   ]
  },
  {
   "cell_type": "code",
   "execution_count": 0,
   "metadata": {
    "application/vnd.databricks.v1+cell": {
     "cellMetadata": {
      "byteLimit": 2048000,
      "rowLimit": 10000
     },
     "inputWidgets": {},
     "nuid": "561c025c-7ec2-4461-ad50-48c964a81fce",
     "showTitle": false,
     "tableResultSettingsMap": {},
     "title": ""
    }
   },
   "outputs": [
    {
     "output_type": "stream",
     "name": "stdout",
     "output_type": "stream",
     "text": [
      "\nFinal Test Set Evaluation for Decision Tree Classifier (Using Optimal Hyperparameters):\nAccuracy: 0.8956\nRecall: 0.8040\nF1 Score: 0.7992\nAUC (ROC): 0.8657\nAUC-PR: 0.6894\n"
     ]
    }
   ],
   "source": [
    "# Prepare the feature variables (X) and target variable (y)\n",
    "X = df_employees_cleaned.drop(columns=[\"Attrition\"])  # Features\n",
    "y = df_employees_cleaned[\"Attrition\"]  # Target variable\n",
    "\n",
    "# Convert the target variable to numeric (0 = \"No\", 1 = \"Yes\")\n",
    "label_encoder = LabelEncoder()\n",
    "y = label_encoder.fit_transform(y)  # \"No\" = 0, \"Yes\" = 1\n",
    "\n",
    "# Split the dataset into training and test sets (80% train, 20% test)\n",
    "X_train, X_test, y_train, y_test = train_test_split(\n",
    "    X, y, test_size=0.2, stratify=y, random_state=42\n",
    ")\n",
    "\n",
    "# Apply SMOTE to the training data to handle class imbalance\n",
    "smote = SMOTE(random_state=42)\n",
    "X_train_resampled, y_train_resampled = smote.fit_resample(X_train, y_train)\n",
    "\n",
    "# Define the best hyperparameters for the Decision Tree\n",
    "best_params_dt = {\n",
    "    'criterion': 'gini',\n",
    "    'max_depth': None,\n",
    "    'max_features': None,\n",
    "    'min_samples_leaf': 1,\n",
    "    'min_samples_split': 2,\n",
    "    'splitter': 'best'\n",
    "}\n",
    "\n",
    "# Create and train the Decision Tree classifier using the best hyperparameters\n",
    "final_dt_classifier = DecisionTreeClassifier(random_state=42, **best_params_dt)\n",
    "final_dt_classifier.fit(X_train_resampled, y_train_resampled)\n",
    "\n",
    "# Make predictions on the test set\n",
    "y_test_pred_dt = final_dt_classifier.predict(X_test)\n",
    "y_test_pred_proba_dt = final_dt_classifier.predict_proba(X_test)[:, 1]  # Probabilities for AUC and AUC-PR\n",
    "\n",
    "# Calculate performance metrics for the test set\n",
    "test_accuracy_dt = accuracy_score(y_test, y_test_pred_dt)\n",
    "test_recall_dt = recall_score(y_test, y_test_pred_dt, pos_label=1)  # Assuming \"Yes\" = 1\n",
    "test_f1_score_dt = f1_score(y_test, y_test_pred_dt, pos_label=1)    # Assuming \"Yes\" = 1\n",
    "\n",
    "# Compute AUC (Area Under ROC Curve)\n",
    "auc_dt = roc_auc_score(y_test, y_test_pred_proba_dt)\n",
    "\n",
    "# Compute AUC-PR (Area Under Precision-Recall Curve)\n",
    "auc_pr_dt = average_precision_score(y_test, y_test_pred_proba_dt)\n",
    "\n",
    "# Display the final test set evaluation results\n",
    "print(\"\\nFinal Test Set Evaluation for Decision Tree Classifier (Using Optimal Hyperparameters):\")\n",
    "print(f\"Accuracy: {test_accuracy_dt:.4f}\")\n",
    "print(f\"Recall: {test_recall_dt:.4f}\")\n",
    "print(f\"F1 Score: {test_f1_score_dt:.4f}\")\n",
    "print(f\"AUC (ROC): {auc_dt:.4f}\")\n",
    "print(f\"AUC-PR: {auc_pr_dt:.4f}\")\n"
   ]
  },
  {
   "cell_type": "markdown",
   "metadata": {
    "application/vnd.databricks.v1+cell": {
     "cellMetadata": {
      "byteLimit": 2048000,
      "rowLimit": 10000
     },
     "inputWidgets": {},
     "nuid": "fde262bd-1d0e-4d6e-8157-42a18285fb46",
     "showTitle": false,
     "tableResultSettingsMap": {},
     "title": ""
    }
   },
   "source": [
    "### Feature importance Decision Tree"
   ]
  },
  {
   "cell_type": "code",
   "execution_count": 0,
   "metadata": {
    "application/vnd.databricks.v1+cell": {
     "cellMetadata": {
      "byteLimit": 2048000,
      "rowLimit": 10000
     },
     "inputWidgets": {},
     "nuid": "0a8087fc-fc4c-41e3-838b-6546d6629c40",
     "showTitle": false,
     "tableResultSettingsMap": {},
     "title": ""
    }
   },
   "outputs": [],
   "source": [
    "# Prepare the feature variables (X) and target variable (y)\n",
    "X = df_employees_cleaned.drop(columns=[\"Attrition\"])  # Features\n",
    "y = df_employees_cleaned[\"Attrition\"]  # Target variable\n",
    "\n",
    "# Convert the target variable to numeric (0 = \"No\", 1 = \"Yes\")\n",
    "label_encoder = LabelEncoder()\n",
    "y = label_encoder.fit_transform(y)  # \"No\" = 0, \"Yes\" = 1\n",
    "\n",
    "# Split the dataset into training+validation set and test set\n",
    "X_train_full, X_test, y_train_full, y_test = train_test_split(\n",
    "    X, y, test_size=0.2, stratify=y, random_state=42\n",
    ")\n",
    "\n",
    "# Initialize Decision Tree classifier for feature importance\n",
    "dt_classifier = DecisionTreeClassifier(random_state=42)\n",
    "\n",
    "# Apply SMOTE to the training data\n",
    "smote = SMOTE(random_state=42)\n",
    "X_train_resampled, y_train_resampled = smote.fit_resample(X_train_full, y_train_full)\n",
    "\n",
    "# Train the Decision Tree model\n",
    "dt_classifier.fit(X_train_resampled, y_train_resampled)\n",
    "\n",
    "# Get feature importances from the trained model\n",
    "importances = dt_classifier.feature_importances_\n",
    "\n",
    "# Get the feature names (assuming your DataFrame is named df_employees_cleaned)\n",
    "feature_names = X_train_full.columns\n",
    "\n",
    "# Replace \"YearsInServiceNew\" with \"YearsInService\" in the feature names (if applicable)\n",
    "feature_names = [name.replace(\"YearsInServiceNew\", \"YearsInService\") for name in feature_names]\n",
    "\n",
    "# Sort the feature importances in descending order\n",
    "indices = np.argsort(importances)[::-1]\n",
    "\n",
    "# Get the top 15 feature indices\n",
    "top_15_indices = indices[:15]\n",
    "\n",
    "# Print the top 15 feature importances with their names\n",
    "print(\"Top 15 Feature Importances (Decision Tree):\")\n",
    "for idx in top_15_indices:\n",
    "    print(f\"{feature_names[idx]}: {importances[idx]:.4f}\")\n",
    "\n",
    "# Set the color palette to Set3\n",
    "colors = sns.color_palette(\"Set3\", n_colors=15)[0]\n",
    "\n",
    "# Visualize the top 15 feature importances using a bar chart\n",
    "plt.figure(figsize=(10, 6))\n",
    "plt.title(\"Feature Importances Decision Tree\")\n",
    "bars = plt.barh(range(15), importances[top_15_indices], align=\"center\", color=colors)\n",
    "plt.yticks(range(15), [feature_names[idx] for idx in top_15_indices])  # Ensure correct labels\n",
    "plt.xlabel(\"Relative Importance\")\n",
    "plt.gca().invert_yaxis()  # To display the highest importance at the top\n",
    "\n",
    "# Show the plot\n",
    "plt.show()\n"
   ]
  },
  {
   "cell_type": "markdown",
   "metadata": {
    "application/vnd.databricks.v1+cell": {
     "cellMetadata": {},
     "inputWidgets": {},
     "nuid": "ed0fde0b-41e3-4664-8bbb-723dbde3198f",
     "showTitle": false,
     "tableResultSettingsMap": {},
     "title": ""
    }
   },
   "source": [
    "### Confusion Matrix"
   ]
  },
  {
   "cell_type": "code",
   "execution_count": 0,
   "metadata": {
    "application/vnd.databricks.v1+cell": {
     "cellMetadata": {},
     "inputWidgets": {},
     "nuid": "b9102763-406d-4c67-913f-01501144b067",
     "showTitle": false,
     "tableResultSettingsMap": {},
     "title": ""
    }
   },
   "outputs": [],
   "source": [
    "# Generate confusion matrix for Decision Tree\n",
    "confusion_matrix_dt = confusion_matrix(y_test, y_test_pred_dt  # Replace with RF model predictions\n",
    "\n",
    "# Print confusion matrix\n",
    "print(\"\\nConfusion Matrix Decision Tree:\")\n",
    "print(confusion_matrix_dt)\n",
    "\n",
    "# Visualize the confusion matrix with a heatmap\n",
    "plt.figure(figsize=(6, 4))\n",
    "\n",
    "# Use sns.color_palette to extract the first color from 'Set3'\n",
    "color = sns.color_palette(\"Set3\")[0]  # Extract first color\n",
    "\n",
    "sns.heatmap(confusion_matrix_rf, annot=True, fmt='d', cmap=sns.light_palette(color, as_cmap=True), \n",
    "            xticklabels=['No', 'Yes'], yticklabels=['No', 'Yes'])\n",
    "\n",
    "plt.title('Confusion Matrix Decision Tree')\n",
    "plt.xlabel('Predicted')\n",
    "plt.ylabel('Actual')\n",
    "plt.show()"
   ]
  },
  {
   "cell_type": "markdown",
   "metadata": {
    "application/vnd.databricks.v1+cell": {
     "cellMetadata": {
      "byteLimit": 2048000,
      "rowLimit": 10000
     },
     "inputWidgets": {},
     "nuid": "d502f4cf-b5cc-49a2-93c9-8bbe3f7e9274",
     "showTitle": false,
     "tableResultSettingsMap": {},
     "title": ""
    }
   },
   "source": [
    "## Random Forest"
   ]
  },
  {
   "cell_type": "markdown",
   "metadata": {
    "application/vnd.databricks.v1+cell": {
     "cellMetadata": {
      "byteLimit": 2048000,
      "rowLimit": 10000
     },
     "inputWidgets": {},
     "nuid": "b3791443-6e29-4260-8282-9b8b2acff8f7",
     "showTitle": false,
     "tableResultSettingsMap": {},
     "title": ""
    }
   },
   "source": [
    "### Hyperparameter tuning"
   ]
  },
  {
   "cell_type": "code",
   "execution_count": 0,
   "metadata": {
    "application/vnd.databricks.v1+cell": {
     "cellMetadata": {
      "byteLimit": 2048000,
      "rowLimit": 10000
     },
     "inputWidgets": {},
     "nuid": "c5330359-fc3e-417e-a661-3a4a2c127f5d",
     "showTitle": false,
     "tableResultSettingsMap": {},
     "title": ""
    }
   },
   "outputs": [],
   "source": [
    "# Prepare the feature variables (X) and target variable (y)\n",
    "X = df_employees_cleaned.drop(columns=[\"Attrition\"])  # Features\n",
    "y = df_employees_cleaned[\"Attrition\"]  # Target variable\n",
    "\n",
    "# Convert the target variable to numeric (0 = \"No\", 1 = \"Yes\")\n",
    "label_encoder = LabelEncoder()\n",
    "y = label_encoder.fit_transform(y)  # \"No\" = 0, \"Yes\" = 1\n",
    "\n",
    "# Split the dataset into training+validation set and test set\n",
    "X_train_full, X_test, y_train_full, y_test = train_test_split(\n",
    "    X, y, test_size=0.2, stratify=y, random_state=42\n",
    ")\n",
    "\n",
    "# Initialize StratifiedKFold for cross-validation on the training+validation set\n",
    "stratified_kfold = StratifiedKFold(n_splits=5, shuffle=True, random_state=42)\n",
    "\n",
    "# Hyperparameter grid for Random Forest (regularized)\n",
    "param_grid = {\n",
    "    'n_estimators': [50, 100, 150, 200],  # Number of trees in the forest\n",
    "    'max_depth': [20, 30, 40, 50, None],  # Maximum depth of the tree\n",
    "    'min_samples_split': [2, 5, 10],  # Minimum number of samples required to split a node\n",
    "    'min_samples_leaf': [1, 2, 4],    # Minimum number of samples required to be at a leaf node\n",
    "    'max_features': ['auto', 'sqrt', 'log2'],  # The number of features to consider for splitting\n",
    "    'bootstrap': [True, False]  # Whether bootstrap samples are used when building trees\n",
    "}\n",
    "\n",
    "# Initialize Random Forest classifier\n",
    "rf_classifier = RandomForestClassifier(random_state=42)\n",
    "\n",
    "# Initialize GridSearchCV with StratifiedKFold and Random Forest\n",
    "grid_search = GridSearchCV(estimator=rf_classifier, param_grid=param_grid, \n",
    "                           scoring='recall', cv=stratified_kfold, n_jobs=-1, verbose=2)\n",
    "\n",
    "# Initialize lists to store metrics\n",
    "accuracy_rf = []\n",
    "recall_rf = []\n",
    "f1_score_rf = []\n",
    "\n",
    "# Perform stratified k-fold cross-validation on the training+validation set\n",
    "for train_index, val_index in stratified_kfold.split(X_train_full, y_train_full):\n",
    "    X_train, X_val = X_train_full.iloc[train_index], X_train_full.iloc[val_index]\n",
    "    y_train, y_val = y_train_full[train_index], y_train_full[val_index]\n",
    "\n",
    "    # Apply SMOTE to the training data (oversampling for handling imbalanced classes)\n",
    "    smote = SMOTE(random_state=42)\n",
    "    X_train_resampled, y_train_resampled = smote.fit_resample(X_train, y_train)\n",
    "\n",
    "    # Perform hyperparameter tuning with GridSearchCV on resampled data\n",
    "    grid_search.fit(X_train_resampled, y_train_resampled)\n",
    "\n",
    "    # Get the best estimator (model with the best hyperparameters)\n",
    "    best_rf_model = grid_search.best_estimator_\n",
    "\n",
    "    # Make predictions on the validation set using the best model\n",
    "    y_val_pred_rf = best_rf_model.predict(X_val)\n",
    "\n",
    "    # Calculate metrics for the current fold\n",
    "    accuracy_rf.append(accuracy_score(y_val, y_val_pred_rf))\n",
    "    recall_rf.append(recall_score(y_val, y_val_pred_rf, pos_label=1))  # Assuming 'Yes' = 1\n",
    "    f1_score_rf.append(f1_score(y_val, y_val_pred_rf, pos_label=1))  # Assuming 'Yes' = 1\n",
    "\n",
    "# Calculate average metrics across all folds\n",
    "avg_accuracy_rf = np.mean(accuracy_rf)\n",
    "avg_recall_rf = np.mean(recall_rf)\n",
    "avg_f1_score_rf = np.mean(f1_score_rf)\n",
    "\n",
    "# Display average metrics from cross-validation\n",
    "print(\"Average Metrics for Random Forest Across Stratified K-Fold Cross-Validation (With Hyperparameter Tuning):\")\n",
    "print(f\"Accuracy: {avg_accuracy_rf:.4f}\")\n",
    "print(f\"Recall: {avg_recall_rf:.4f}\")\n",
    "print(f\"F1 Score: {avg_f1_score_rf:.4f}\")\n",
    "\n",
    "# Display the best hyperparameters found by GridSearchCV\n",
    "print(\"\\nBest Hyperparameters from GridSearchCV:\")\n",
    "print(grid_search.best_params_)\n",
    "\n",
    "# ----------------------------------------------------\n",
    "# Evaluate the final model on the separate test set\n",
    "# ----------------------------------------------------\n",
    "\n",
    "# Apply SMOTE on the full training set (before retraining the final model)\n",
    "smote = SMOTE(random_state=42)\n",
    "X_train_resampled, y_train_resampled = smote.fit_resample(X_train_full, y_train_full)\n",
    "\n",
    "# Retrain the final model on the resampled full training set using best parameters\n",
    "final_rf_classifier = grid_search.best_estimator_  # Use the best model from GridSearchCV\n",
    "final_rf_classifier.fit(X_train_resampled, y_train_resampled)\n",
    "\n",
    "# Predict on the test set\n",
    "y_test_pred_rf = final_rf_classifier.predict(X_test)\n",
    "\n",
    "# Test set performance metrics\n",
    "test_accuracy_rf = accuracy_score(y_test, y_test_pred_rf)\n",
    "test_recall_rf = recall_score(y_test, y_test_pred_rf, pos_label=1)\n",
    "test_f1_score_rf = f1_score(y_test, y_test_pred_rf, pos_label=1)\n",
    "\n",
    "print(\"\\nTest Set Evaluation:\")\n",
    "print(f\"Accuracy: {test_accuracy_rf:.4f}\")\n",
    "print(f\"Recall: {test_recall_rf:.4f}\")\n",
    "print(f\"F1 Score: {test_f1_score_rf:.4f}\")"
   ]
  },
  {
   "cell_type": "markdown",
   "metadata": {
    "application/vnd.databricks.v1+cell": {
     "cellMetadata": {
      "byteLimit": 2048000,
      "rowLimit": 10000
     },
     "inputWidgets": {},
     "nuid": "1b72e74c-c257-42fe-bf18-ce880f390398",
     "showTitle": false,
     "tableResultSettingsMap": {},
     "title": ""
    }
   },
   "source": [
    "### Model training optimal hyperparameters"
   ]
  },
  {
   "cell_type": "code",
   "execution_count": 0,
   "metadata": {
    "application/vnd.databricks.v1+cell": {
     "cellMetadata": {
      "byteLimit": 2048000,
      "rowLimit": 10000
     },
     "inputWidgets": {},
     "nuid": "0ff632a9-66d5-4ed4-b8aa-c96a8e314a82",
     "showTitle": false,
     "tableResultSettingsMap": {},
     "title": ""
    }
   },
   "outputs": [
    {
     "output_type": "stream",
     "name": "stdout",
     "output_type": "stream",
     "text": [
      "\nTest Set Evaluation for Random Forest (with optimal parameters):\nAccuracy: 0.9243\nRecall: 0.7604\nF1 Score: 0.8384\nAUC (ROC): 0.9680\nAUC-PR: 0.9370\n"
     ]
    }
   ],
   "source": [
    "from sklearn.ensemble import RandomForestClassifier\n",
    "from sklearn.model_selection import train_test_split\n",
    "from sklearn.preprocessing import LabelEncoder\n",
    "from imblearn.over_sampling import SMOTE\n",
    "from sklearn.metrics import accuracy_score, recall_score, f1_score, roc_auc_score, average_precision_score\n",
    "\n",
    "# Prepare feature and target variables\n",
    "X = df_employees_cleaned.drop(columns=[\"Attrition\"])  # Features\n",
    "y = df_employees_cleaned[\"Attrition\"]  # Target variable\n",
    "\n",
    "# Convert the target variable to numeric (0 = \"No\", 1 = \"Yes\")\n",
    "label_encoder = LabelEncoder()\n",
    "y = label_encoder.fit_transform(y)\n",
    "\n",
    "# Split the dataset into training and test sets (80% training, 20% test)\n",
    "X_train_full, X_test, y_train_full, y_test = train_test_split(\n",
    "    X, y, test_size=0.2, stratify=y, random_state=42\n",
    ")\n",
    "\n",
    "# Apply SMOTE to handle class imbalance in the training set\n",
    "smote = SMOTE(random_state=42)\n",
    "X_train_resampled, y_train_resampled = smote.fit_resample(X_train_full, y_train_full)\n",
    "\n",
    "# Initialize the Random Forest classifier with optimal hyperparameters\n",
    "final_rf_classifier = RandomForestClassifier(\n",
    "    n_estimators=150, \n",
    "    max_depth=40, \n",
    "    max_features='sqrt', \n",
    "    min_samples_split=2, \n",
    "    min_samples_leaf=1, \n",
    "    bootstrap=False,\n",
    "    random_state=42\n",
    ")\n",
    "\n",
    "# Retrain the model on the resampled training set\n",
    "final_rf_classifier.fit(X_train_resampled, y_train_resampled)\n",
    "\n",
    "# Make predictions on the test set\n",
    "y_test_pred_rf = final_rf_classifier.predict(X_test)\n",
    "y_test_pred_proba_rf = final_rf_classifier.predict_proba(X_test)[:, 1]  # Probabilities for AUC and AUC-PR\n",
    "\n",
    "# Evaluate model performance on the test set\n",
    "test_accuracy_rf = accuracy_score(y_test, y_test_pred_rf)\n",
    "test_recall_rf = recall_score(y_test, y_test_pred_rf, pos_label=1)\n",
    "test_f1_score_rf = f1_score(y_test, y_test_pred_rf, pos_label=1)\n",
    "\n",
    "# Compute AUC (Area Under the ROC Curve)\n",
    "auc_rf = roc_auc_score(y_test, y_test_pred_proba_rf)\n",
    "\n",
    "# Compute AUC-PR (Area Under the Precision-Recall Curve)\n",
    "auc_pr_rf = average_precision_score(y_test, y_test_pred_proba_rf)\n",
    "\n",
    "# Display test set evaluation results\n",
    "print(\"\\nTest Set Evaluation for Random Forest (with optimal parameters):\")\n",
    "print(f\"Accuracy: {test_accuracy_rf:.4f}\")\n",
    "print(f\"Recall: {test_recall_rf:.4f}\")\n",
    "print(f\"F1 Score: {test_f1_score_rf:.4f}\")\n",
    "print(f\"AUC (ROC): {auc_rf:.4f}\")\n",
    "print(f\"AUC-PR: {auc_pr_rf:.4f}\")\n"
   ]
  },
  {
   "cell_type": "markdown",
   "metadata": {
    "application/vnd.databricks.v1+cell": {
     "cellMetadata": {
      "byteLimit": 2048000,
      "rowLimit": 10000
     },
     "inputWidgets": {},
     "nuid": "53f9b39c-c5a8-469c-b2ab-f5094fa8ced6",
     "showTitle": false,
     "tableResultSettingsMap": {},
     "title": ""
    }
   },
   "source": [
    "### Feature importance Random Forest"
   ]
  },
  {
   "cell_type": "code",
   "execution_count": 0,
   "metadata": {
    "application/vnd.databricks.v1+cell": {
     "cellMetadata": {
      "byteLimit": 2048000,
      "rowLimit": 10000
     },
     "inputWidgets": {},
     "nuid": "92a3d785-7fb7-419c-9abd-5a2361661248",
     "showTitle": false,
     "tableResultSettingsMap": {},
     "title": ""
    }
   },
   "outputs": [],
   "source": [
    "# Get feature importances from the trained model\n",
    "importances = final_rf_classifier.feature_importances_\n",
    "\n",
    "# Get the feature names (assuming your DataFrame is named df_employees_cleaned)\n",
    "feature_names = X_train_full.columns\n",
    "\n",
    "# Replace \"YearsInServiceNew\" with \"YearsInService\" in the feature names\n",
    "feature_names = [name.replace(\"YearsInServiceNew\", \"YearsInService\") for name in feature_names]\n",
    "\n",
    "# Sort the feature importances in descending order\n",
    "indices = np.argsort(importances)[::-1]\n",
    "\n",
    "# Get the top 15 feature indices\n",
    "top_15_indices = indices[:15]\n",
    "\n",
    "# Print the top 15 feature importances with their names\n",
    "print(\"Top 15 Feature Importances:\")\n",
    "for idx in top_15_indices:\n",
    "    print(f\"{feature_names[idx]}: {importances[idx]:.4f}\")\n",
    "\n",
    "# Set the color palette to Set3\n",
    "colors = sns.color_palette(\"Set3\", n_colors=15)[0]\n",
    "\n",
    "# Visualize the top 15 feature importances using a bar chart\n",
    "plt.figure(figsize=(10, 6))\n",
    "plt.title(\" Feature Importances Random Forest\")\n",
    "bars = plt.barh(range(15), importances[top_15_indices], align=\"center\", color=colors)\n",
    "plt.yticks(range(15), [feature_names[idx] for idx in top_15_indices])  # Ensure correct labels\n",
    "plt.xlabel(\"Relative Importance\")\n",
    "plt.gca().invert_yaxis()  # To display the highest importance at the top\n",
    "\n",
    "# Show the plot\n",
    "plt.show()\n",
    "\n"
   ]
  },
  {
   "cell_type": "markdown",
   "metadata": {
    "application/vnd.databricks.v1+cell": {
     "cellMetadata": {
      "byteLimit": 2048000,
      "rowLimit": 10000
     },
     "inputWidgets": {},
     "nuid": "34ae0200-2ec5-4ade-9ea6-e57a724e85d6",
     "showTitle": false,
     "tableResultSettingsMap": {},
     "title": ""
    }
   },
   "source": [
    "### Confusion Matrix"
   ]
  },
  {
   "cell_type": "code",
   "execution_count": 0,
   "metadata": {
    "application/vnd.databricks.v1+cell": {
     "cellMetadata": {
      "byteLimit": 2048000,
      "rowLimit": 10000
     },
     "inputWidgets": {},
     "nuid": "a52ce10b-967c-4e70-ac06-957f4f24c092",
     "showTitle": false,
     "tableResultSettingsMap": {},
     "title": ""
    }
   },
   "outputs": [],
   "source": [
    "# Generate confusion matrix for Random Forest\n",
    "confusion_matrix_rf = confusion_matrix(y_test, y_test_pred_rf)  # Replace with RF model predictions\n",
    "\n",
    "# Print confusion matrix\n",
    "print(\"\\nConfusion Matrix Random Forest:\")\n",
    "print(confusion_matrix_rf)\n",
    "\n",
    "# Visualize the confusion matrix with a heatmap\n",
    "plt.figure(figsize=(6, 4))\n",
    "\n",
    "# Use sns.color_palette to extract the first color from 'Set3'\n",
    "color = sns.color_palette(\"Set3\")[0]  # Extract first color\n",
    "\n",
    "sns.heatmap(confusion_matrix_rf, annot=True, fmt='d', cmap=sns.light_palette(color, as_cmap=True), \n",
    "            xticklabels=['No', 'Yes'], yticklabels=['No', 'Yes'])\n",
    "\n",
    "plt.title('Confusion Matrix Random Forest')\n",
    "plt.xlabel('Predicted')\n",
    "plt.ylabel('Actual')\n",
    "plt.show()\n"
   ]
  },
  {
   "cell_type": "markdown",
   "metadata": {
    "application/vnd.databricks.v1+cell": {
     "cellMetadata": {
      "byteLimit": 2048000,
      "rowLimit": 10000
     },
     "inputWidgets": {},
     "nuid": "3e780e14-ed55-4888-9ed1-22fbd3924bc6",
     "showTitle": false,
     "tableResultSettingsMap": {},
     "title": ""
    }
   },
   "source": [
    "## Gradient Boosting Machine"
   ]
  },
  {
   "cell_type": "markdown",
   "metadata": {
    "application/vnd.databricks.v1+cell": {
     "cellMetadata": {
      "byteLimit": 2048000,
      "rowLimit": 10000
     },
     "inputWidgets": {},
     "nuid": "9d029bd4-f638-4414-82eb-6f3693668583",
     "showTitle": false,
     "tableResultSettingsMap": {},
     "title": ""
    }
   },
   "source": [
    "### Hyperparameter tuning"
   ]
  },
  {
   "cell_type": "code",
   "execution_count": 0,
   "metadata": {
    "application/vnd.databricks.v1+cell": {
     "cellMetadata": {
      "byteLimit": 2048000,
      "rowLimit": 10000
     },
     "inputWidgets": {},
     "nuid": "df6951e7-5cd6-431b-afc6-b9589c162b5e",
     "showTitle": false,
     "tableResultSettingsMap": {},
     "title": ""
    }
   },
   "outputs": [],
   "source": [
    "# Prepare the feature variables (X) and target variable (y)\n",
    "X = pd.get_dummies(df_employees_cleaned.drop(columns=['Attrition']))  # One-hot encode categorical features\n",
    "y = df_employees_cleaned['Attrition']  # Target variable\n",
    "\n",
    "# Convert the target variable to numeric (0 = 'No', 1 = 'Yes')\n",
    "label_encoder = LabelEncoder()\n",
    "y = label_encoder.fit_transform(y)  # 'No' = 0, 'Yes' = 1\n",
    "\n",
    "# Split the dataset into training and test sets (80% train, 20% test)\n",
    "X_train, X_test, y_train, y_test = train_test_split(X, y, test_size=0.2, stratify=y, random_state=42)\n",
    "\n",
    "# Initialize StratifiedKFold for cross-validation\n",
    "stratified_kfold = StratifiedKFold(n_splits=5, shuffle=True, random_state=42)\n",
    "\n",
    "# Define the extended hyperparameter grid for GBM\n",
    "param_grid_gbm = {\n",
    "    'n_estimators': [50, 100, 150, 200],           # Number of boosting iterations (trees)\n",
    "    'learning_rate': [0.01, 0.05, 0.1, 0.2],       # Learning rate (shrinkage)\n",
    "    'max_depth': [3, 6, 10, 15],                   # Maximum depth of the trees\n",
    "    'min_samples_split': [2, 5, 10, 15],           # Minimum number of samples required to split an internal node\n",
    "    'subsample': [0.6, 0.8, 1.0],                  # Fraction of samples used for fitting each tree\n",
    "}\n",
    "\n",
    "# Initialize the Gradient Boosting Classifier\n",
    "gbm_classifier = GradientBoostingClassifier(random_state=42)\n",
    "\n",
    "# Initialize GridSearchCV with StratifiedKFold and GBM\n",
    "grid_search_gbm = GridSearchCV(estimator=gbm_classifier, param_grid=param_grid_gbm,\n",
    "                               scoring='recall', cv=stratified_kfold, n_jobs=-1, verbose=2)\n",
    "\n",
    "# Initialize lists to store metrics\n",
    "accuracy_gbm = []\n",
    "recall_gbm = []\n",
    "f1_score_gbm = []\n",
    "\n",
    "print(\"Starting Stratified K-Fold Cross-Validation with Extended Hyperparameter Tuning for Gradient Boosting...\")\n",
    "\n",
    "# Perform stratified k-fold cross-validation for GBM with extended hyperparameter tuning\n",
    "for fold, (train_index, val_index) in enumerate(stratified_kfold.split(X_train, y_train), 1):\n",
    "    print(f\"\\nProcessing fold {fold}...\")\n",
    "\n",
    "    # Split the data into training and validation sets for the current fold\n",
    "    X_train_fold, X_val = X_train.iloc[train_index], X_train.iloc[val_index]\n",
    "    y_train_fold, y_val = y_train[train_index], y_train[val_index]\n",
    "\n",
    "    # Apply SMOTE to the training data\n",
    "    smote = SMOTE(random_state=42)\n",
    "    X_train_resampled, y_train_resampled = smote.fit_resample(X_train_fold, y_train_fold)\n",
    "\n",
    "    # Perform GridSearchCV on resampled data\n",
    "    print(f\"Performing GridSearchCV for fold {fold}...\")\n",
    "    grid_search_gbm.fit(X_train_resampled, y_train_resampled)\n",
    "\n",
    "    # Get the best model for the current fold\n",
    "    best_gbm_model = grid_search_gbm.best_estimator_\n",
    "\n",
    "    # Validate the model on the validation set\n",
    "    y_pred_gbm = best_gbm_model.predict(X_val)\n",
    "\n",
    "    # Compute performance metrics for this fold\n",
    "    accuracy_gbm.append(accuracy_score(y_val, y_pred_gbm))\n",
    "    recall_gbm.append(recall_score(y_val, y_pred_gbm, pos_label=1))\n",
    "    f1_score_gbm.append(f1_score(y_val, y_pred_gbm, pos_label=1))\n",
    "\n",
    "    print(f\"Fold {fold} complete. Accuracy: {accuracy_gbm[-1]:.4f}, Recall: {recall_gbm[-1]:.4f}, F1 Score: {f1_score_gbm[-1]:.4f}\")\n",
    "\n",
    "# Compute average metrics across all folds\n",
    "avg_accuracy_gbm = np.mean(accuracy_gbm)\n",
    "avg_recall_gbm = np.mean(recall_gbm)\n",
    "avg_f1_score_gbm = np.mean(f1_score_gbm)\n",
    "\n",
    "# Display the average cross-validation metrics\n",
    "print(\"\\nAverage Metrics Across Stratified K-Fold Cross-Validation for GBM:\")\n",
    "print(f\"Accuracy: {avg_accuracy_gbm:.4f}\")\n",
    "print(f\"Recall: {avg_recall_gbm:.4f}\")\n",
    "print(f\"F1 Score: {avg_f1_score_gbm:.4f}\")\n",
    "\n",
    "# Display the best hyperparameters from GridSearchCV\n",
    "print(\"\\nBest Hyperparameters from Extended GridSearchCV for GBM:\")\n",
    "print(grid_search_gbm.best_params_)\n",
    "\n",
    "# Retrain the final model on the full training set using SMOTE\n",
    "X_train_resampled, y_train_resampled = smote.fit_resample(X_train, y_train)\n",
    "final_gbm_classifier = grid_search_gbm.best_estimator_\n",
    "final_gbm_classifier.fit(X_train_resampled, y_train_resampled)\n",
    "\n",
    "# Evaluate the final model on the test set\n",
    "y_pred_test_gbm = final_gbm_classifier.predict(X_test)\n",
    "\n",
    "# Calculate and display the test set performance metrics\n",
    "test_accuracy_gbm = accuracy_score(y_test, y_pred_test_gbm)\n",
    "test_recall_gbm = recall_score(y_test, y_pred_test_gbm, pos_label=1)\n",
    "test_f1_score_gbm = f1_score(y_test, y_pred_test_gbm, pos_label=1)\n",
    "\n",
    "print(\"\\nFinal Test Set Evaluation for GBM:\")\n",
    "print(f\"Accuracy: {test_accuracy_gbm:.4f}\")\n",
    "print(f\"Recall: {test_recall_gbm:.4f}\")\n",
    "print(f\"F1 Score: {test_f1_score_gbm:.4f}\")\n"
   ]
  },
  {
   "cell_type": "markdown",
   "metadata": {
    "application/vnd.databricks.v1+cell": {
     "cellMetadata": {
      "byteLimit": 2048000,
      "rowLimit": 10000
     },
     "inputWidgets": {},
     "nuid": "cf9eeea6-bd79-4e02-9437-b62757fc52ca",
     "showTitle": false,
     "tableResultSettingsMap": {},
     "title": ""
    }
   },
   "source": [
    "### Model training optimal hyperparameters"
   ]
  },
  {
   "cell_type": "code",
   "execution_count": 0,
   "metadata": {
    "application/vnd.databricks.v1+cell": {
     "cellMetadata": {
      "byteLimit": 2048000,
      "rowLimit": 10000
     },
     "inputWidgets": {},
     "nuid": "2cfd0716-2043-46ca-b800-a9926f9a3902",
     "showTitle": false,
     "tableResultSettingsMap": {},
     "title": ""
    }
   },
   "outputs": [
    {
     "output_type": "stream",
     "name": "stdout",
     "output_type": "stream",
     "text": [
      "\nFinal Test Set Evaluation for Gradient Boosting Classifier (Using Optimal Hyperparameters):\nAccuracy: 0.9524\nRecall: 0.8436\nF1 Score: 0.9016\nAUC (ROC): 0.9806\nAUC-PR: 0.9631\n"
     ]
    }
   ],
   "source": [
    "from sklearn.ensemble import GradientBoostingClassifier\n",
    "from sklearn.model_selection import train_test_split\n",
    "from sklearn.preprocessing import LabelEncoder\n",
    "from imblearn.over_sampling import SMOTE\n",
    "from sklearn.metrics import accuracy_score, recall_score, f1_score, roc_auc_score, average_precision_score\n",
    "import pandas as pd\n",
    "\n",
    "# Data preparation and splitting\n",
    "X = pd.get_dummies(df_employees_cleaned.drop(columns=['Attrition']))  # One-hot encode categorical features\n",
    "y = df_employees_cleaned['Attrition']  # Target variable\n",
    "\n",
    "# Convert the target variable to numeric (0 = 'No', 1 = 'Yes')\n",
    "label_encoder = LabelEncoder()\n",
    "y = label_encoder.fit_transform(y)  # 'No' = 0, 'Yes' = 1\n",
    "\n",
    "# Split the dataset into training and test sets (80% train, 20% test)\n",
    "X_train, X_test, y_train, y_test = train_test_split(\n",
    "    X, y, test_size=0.2, stratify=y, random_state=42\n",
    ")\n",
    "\n",
    "# Define the best hyperparameters from GridSearchCV\n",
    "best_params_gbm = {\n",
    "    'learning_rate': 0.1,\n",
    "    'max_depth': 10,\n",
    "    'min_samples_split': 10,\n",
    "    'n_estimators': 150,\n",
    "    'subsample': 0.8\n",
    "}\n",
    "\n",
    "# Create the final GBM model using the best hyperparameters\n",
    "final_gbm_classifier = GradientBoostingClassifier(random_state=42, **best_params_gbm)\n",
    "\n",
    "# Apply SMOTE to the entire training set to balance the class distribution\n",
    "smote = SMOTE(random_state=42)\n",
    "X_train_resampled, y_train_resampled = smote.fit_resample(X_train, y_train)\n",
    "\n",
    "# Retrain the model on the resampled training set\n",
    "final_gbm_classifier.fit(X_train_resampled, y_train_resampled)\n",
    "\n",
    "# Make predictions on the test set\n",
    "y_test_pred_gbm = final_gbm_classifier.predict(X_test)\n",
    "y_test_pred_proba_gbm = final_gbm_classifier.predict_proba(X_test)[:, 1]  # Probabilities for AUC and AUC-PR\n",
    "\n",
    "# Calculate performance metrics for the test set\n",
    "test_accuracy_gbm = accuracy_score(y_test, y_test_pred_gbm)\n",
    "test_recall_gbm = recall_score(y_test, y_test_pred_gbm, pos_label=1)  # Assuming 'Yes' is encoded as 1\n",
    "test_f1_score_gbm = f1_score(y_test, y_test_pred_gbm, pos_label=1)    # Assuming 'Yes' is encoded as 1\n",
    "\n",
    "# Compute AUC (Area Under ROC Curve)\n",
    "auc_gbm = roc_auc_score(y_test, y_test_pred_proba_gbm)\n",
    "\n",
    "# Compute AUC-PR (Area Under Precision-Recall Curve)\n",
    "auc_pr_gbm = average_precision_score(y_test, y_test_pred_proba_gbm)\n",
    "\n",
    "# Display the final test set evaluation\n",
    "print(\"\\nFinal Test Set Evaluation for Gradient Boosting Classifier (Using Optimal Hyperparameters):\")\n",
    "print(f\"Accuracy: {test_accuracy_gbm:.4f}\")\n",
    "print(f\"Recall: {test_recall_gbm:.4f}\")\n",
    "print(f\"F1 Score: {test_f1_score_gbm:.4f}\")\n",
    "print(f\"AUC (ROC): {auc_gbm:.4f}\")\n",
    "print(f\"AUC-PR: {auc_pr_gbm:.4f}\")\n"
   ]
  },
  {
   "cell_type": "markdown",
   "metadata": {
    "application/vnd.databricks.v1+cell": {
     "cellMetadata": {
      "byteLimit": 2048000,
      "rowLimit": 10000
     },
     "inputWidgets": {},
     "nuid": "3b5409e7-ff91-479e-bdb7-9865be248864",
     "showTitle": false,
     "tableResultSettingsMap": {},
     "title": ""
    }
   },
   "source": [
    "### Confusion Matrix"
   ]
  },
  {
   "cell_type": "code",
   "execution_count": 0,
   "metadata": {
    "application/vnd.databricks.v1+cell": {
     "cellMetadata": {
      "byteLimit": 2048000,
      "rowLimit": 10000
     },
     "inputWidgets": {},
     "nuid": "0c345f4d-1953-4e93-a1be-632cce85e475",
     "showTitle": false,
     "tableResultSettingsMap": {},
     "title": ""
    }
   },
   "outputs": [],
   "source": [
    "# Generate confusion matrix for Gradient Boosting Machine (GBM)\n",
    "confusion_matrix_gbm = confusion_matrix(y_test, y_test_pred_gbm)  # Replace with GBM model predictions\n",
    "\n",
    "# Print confusion matrix\n",
    "print(\"\\nConfusion Matrix - GBM:\")\n",
    "print(confusion_matrix_gbm)\n",
    "\n",
    "# Visualize the confusion matrix with a heatmap\n",
    "plt.figure(figsize=(6, 4))\n",
    "\n",
    "# Use sns.color_palette to extract the first color from 'Set3'\n",
    "color = sns.color_palette(\"Set3\")[0]  # Extract first color\n",
    "\n",
    "sns.heatmap(confusion_matrix_gbm, annot=True, fmt='d', cmap=sns.light_palette(color, as_cmap=True), \n",
    "            xticklabels=['No', 'Yes'], yticklabels=['No', 'Yes'])\n",
    "\n",
    "plt.title('Confusion Matrix GBM')\n",
    "plt.xlabel('Predicted')\n",
    "plt.ylabel('Actual')\n",
    "plt.show()\n"
   ]
  },
  {
   "cell_type": "markdown",
   "metadata": {
    "application/vnd.databricks.v1+cell": {
     "cellMetadata": {
      "byteLimit": 2048000,
      "rowLimit": 10000
     },
     "inputWidgets": {},
     "nuid": "2b08430e-cb6b-4446-8ea0-4e9a747828a7",
     "showTitle": false,
     "tableResultSettingsMap": {},
     "title": ""
    }
   },
   "source": [
    "## XGBoost"
   ]
  },
  {
   "cell_type": "markdown",
   "metadata": {
    "application/vnd.databricks.v1+cell": {
     "cellMetadata": {
      "byteLimit": 2048000,
      "rowLimit": 10000
     },
     "inputWidgets": {},
     "nuid": "7504d235-973b-481e-8a8a-be1089144f78",
     "showTitle": false,
     "tableResultSettingsMap": {},
     "title": ""
    }
   },
   "source": [
    "### Hyperparameter tuning "
   ]
  },
  {
   "cell_type": "code",
   "execution_count": 0,
   "metadata": {
    "application/vnd.databricks.v1+cell": {
     "cellMetadata": {
      "byteLimit": 2048000,
      "rowLimit": 10000
     },
     "inputWidgets": {},
     "nuid": "38c2c001-ae75-4cb8-a5ec-555d21f326a0",
     "showTitle": false,
     "tableResultSettingsMap": {},
     "title": ""
    }
   },
   "outputs": [],
   "source": [
    "# Prepare the feature variables (X) and target variable (y)\n",
    "X = df_employees_cleaned.drop(columns=[\"Attrition\"])  # Features\n",
    "y = df_employees_cleaned[\"Attrition\"]  # Target variable\n",
    "\n",
    "# Convert the target variable to numeric (0 = \"No\", 1 = \"Yes\")\n",
    "label_encoder = LabelEncoder()\n",
    "y = label_encoder.fit_transform(y)  # \"No\" = 0, \"Yes\" = 1\n",
    "\n",
    "# ---------------------------------------------------\n",
    "# Split the dataset into training+validation set and test set (20% test set)\n",
    "# ---------------------------------------------------\n",
    "X_train_full, X_test, y_train_full, y_test = train_test_split(\n",
    "    X, y, test_size=0.2, stratify=y, random_state=42\n",
    ")\n",
    "\n",
    "# Initialize StratifiedKFold for cross-validation on the training+validation set\n",
    "stratified_kfold = StratifiedKFold(n_splits=5, shuffle=True, random_state=42)\n",
    "\n",
    "# Define the reduced hyperparameter grid for XGBoost (only top 5 parameters)\n",
    "param_grid_xgb = {\n",
    "    'n_estimators': [50, 100, 150, 200],          # Number of boosting rounds (trees)\n",
    "    'learning_rate': [0.01, 0.05, 0.1, 0.3, 0.5],      # Learning rate (shrinkage)\n",
    "    'max_depth': [6, 10, 12, 15],                  # Maximum depth of a tree\n",
    "    'subsample': [0.6, 0.8, 1.0],             # Fraction of samples used for fitting trees\n",
    "    'colsample_bytree': [0.6, 0.8, 1.0],     # Fraction of features used for fitting each tree\n",
    "}\n",
    "\n",
    "# Initialize XGBoost classifier\n",
    "xgb_classifier = XGBClassifier(random_state=42, objective='binary:logistic', eval_metric='logloss')\n",
    "\n",
    "# Initialize GridSearchCV with StratifiedKFold and XGBoost\n",
    "grid_search_xgb = GridSearchCV(estimator=xgb_classifier, param_grid=param_grid_xgb,\n",
    "                               scoring='recall', cv=stratified_kfold, n_jobs=-1, verbose=2)\n",
    "\n",
    "# Initialize lists to store metrics\n",
    "accuracy_xgb = []\n",
    "recall_xgb = []\n",
    "f1_score_xgb = []\n",
    "\n",
    "# Perform stratified k-fold cross-validation on the training+validation set\n",
    "fold = 1  # Initialize fold counter for printing\n",
    "for train_index, val_index in stratified_kfold.split(X_train_full, y_train_full):\n",
    "    print(f\"\\nStarting Fold {fold}...\")\n",
    "\n",
    "    X_train, X_val = X_train_full.iloc[train_index], X_train_full.iloc[val_index]\n",
    "    y_train, y_val = y_train_full[train_index], y_train_full[val_index]\n",
    "\n",
    "    # Apply SMOTE to the training data (oversampling for handling imbalanced classes)\n",
    "    smote = SMOTE(random_state=42)\n",
    "    X_train_resampled, y_train_resampled = smote.fit_resample(X_train, y_train)\n",
    "\n",
    "    # Perform hyperparameter tuning with GridSearchCV on resampled data\n",
    "    grid_search_xgb.fit(X_train_resampled, y_train_resampled)\n",
    "\n",
    "    # Get the best estimator (model with the best hyperparameters)\n",
    "    best_xgb_model = grid_search_xgb.best_estimator_\n",
    "\n",
    "    # Make predictions on the validation set using the best model\n",
    "    y_val_pred_xgb = best_xgb_model.predict(X_val)\n",
    "\n",
    "    # Calculate metrics for the current fold\n",
    "    accuracy_xgb.append(accuracy_score(y_val, y_val_pred_xgb))\n",
    "    recall_xgb.append(recall_score(y_val, y_val_pred_xgb, pos_label=1))  # Assuming 'Yes' = 1\n",
    "    f1_score_xgb.append(f1_score(y_val, y_val_pred_xgb, pos_label=1))  # Assuming 'Yes' = 1\n",
    "\n",
    "    # Print metrics for the current fold\n",
    "    print(f\"Fold {fold} - Accuracy: {accuracy_xgb[-1]:.4f}, Recall: {recall_xgb[-1]:.4f}, F1 Score: {f1_score_xgb[-1]:.4f}\")\n",
    "\n",
    "    # Increment the fold counter\n",
    "    fold += 1\n",
    "\n",
    "# Calculate average metrics across all folds\n",
    "avg_accuracy_xgb = np.mean(accuracy_xgb)\n",
    "avg_recall_xgb = np.mean(recall_xgb)\n",
    "avg_f1_score_xgb = np.mean(f1_score_xgb)\n",
    "\n",
    "# Display average metrics from cross-validation\n",
    "print(\"\\nAverage Metrics for XGBoost Across Stratified K-Fold Cross-Validation (Optimizing Recall):\")\n",
    "print(f\"Accuracy: {avg_accuracy_xgb:.4f}\")\n",
    "print(f\"Recall: {avg_recall_xgb:.4f}\")\n",
    "print(f\"F1 Score: {avg_f1_score_xgb:.4f}\")\n",
    "\n",
    "# Display the best hyperparameters found by GridSearchCV\n",
    "print(\"\\nBest Hyperparameters from GridSearchCV:\")\n",
    "print(grid_search_xgb.best_params_)\n",
    "\n",
    "# ----------------------------------------------------\n",
    "# Retrain the final model on the full training set (using best hyperparameters)\n",
    "# ----------------------------------------------------\n",
    "\n",
    "# Apply SMOTE on the full training set (before retraining the final model)\n",
    "smote = SMOTE(random_state=42)\n",
    "X_train_resampled, y_train_resampled = smote.fit_resample(X_train_full, y_train_full)\n",
    "\n",
    "# Retrain the model on the resampled full training set using the best hyperparameters from GridSearchCV\n",
    "final_xgb_classifier = grid_search_xgb.best_estimator_  # Use the best model from GridSearchCV\n",
    "final_xgb_classifier.fit(X_train_resampled, y_train_resampled)\n",
    "\n",
    "# ----------------------------------------------------\n",
    "# Evaluate the final model on the separate test set\n",
    "# ----------------------------------------------------\n",
    "\n",
    "# Predict on the test set\n",
    "y_test_pred_xgb = final_xgb_classifier.predict(X_test)\n",
    "\n",
    "# Test set performance metrics\n",
    "test_accuracy_xgb = accuracy_score(y_test, y_test_pred_xgb)\n",
    "test_recall_xgb = recall_score(y_test, y_test_pred_xgb, pos_label=1)\n",
    "test_f1_score_xgb = f1_score(y_test, y_test_pred_xgb, pos_label=1)\n",
    "\n",
    "print(\"\\nTest Set Evaluation:\")\n",
    "print(f\"Accuracy: {test_accuracy_xgb:.4f}\")\n",
    "print(f\"Recall: {test_recall_xgb:.4f}\")\n",
    "print(f\"F1 Score: {test_f1_score_xgb:.4f}\")\n",
    "\n",
    "\n"
   ]
  },
  {
   "cell_type": "markdown",
   "metadata": {
    "application/vnd.databricks.v1+cell": {
     "cellMetadata": {
      "byteLimit": 2048000,
      "rowLimit": 10000
     },
     "inputWidgets": {},
     "nuid": "55a36b79-9cf2-4360-adb4-0e4a4c7731bf",
     "showTitle": false,
     "tableResultSettingsMap": {},
     "title": ""
    }
   },
   "source": [
    "### Model training optimal hyperparameters"
   ]
  },
  {
   "cell_type": "code",
   "execution_count": 0,
   "metadata": {
    "application/vnd.databricks.v1+cell": {
     "cellMetadata": {
      "byteLimit": 2048000,
      "rowLimit": 10000
     },
     "inputWidgets": {},
     "nuid": "f4ccec6d-cb14-4e00-bcc8-8ae132f84da4",
     "showTitle": false,
     "tableResultSettingsMap": {},
     "title": ""
    }
   },
   "outputs": [
    {
     "output_type": "stream",
     "name": "stderr",
     "output_type": "stream",
     "text": [
      "/local_disk0/.ephemeral_nfs/envs/pythonEnv-3ff626f0-b308-4b52-9ccd-09d6f17515df/lib/python3.11/site-packages/xgboost/core.py:158: UserWarning: [08:58:42] WARNING: /workspace/src/learner.cc:740: \nParameters: { \"use_label_encoder\" } are not used.\n\n  warnings.warn(smsg, UserWarning)\n"
     ]
    },
    {
     "output_type": "stream",
     "name": "stdout",
     "output_type": "stream",
     "text": [
      "\nFinal Test Set Evaluation for XGBoost Classifier (Using Optimal Hyperparameters):\nAccuracy: 0.9591\nRecall: 0.8634\nF1 Score: 0.9160\n"
     ]
    }
   ],
   "source": [
    "# Prepare the feature variables (X) and target variable (y)\n",
    "X = df_employees_cleaned.drop(columns=[\"Attrition\"])  # Features\n",
    "y = df_employees_cleaned[\"Attrition\"]  # Target variable\n",
    "\n",
    "# Convert the target variable to numeric (0 = \"No\", 1 = \"Yes\")\n",
    "label_encoder = LabelEncoder()\n",
    "y = label_encoder.fit_transform(y)  # \"No\" = 0, \"Yes\" = 1\n",
    "\n",
    "# Split the dataset into training and test sets (80% train, 20% test)\n",
    "X_train, X_test, y_train, y_test = train_test_split(\n",
    "    X, y, test_size=0.2, stratify=y, random_state=42\n",
    ")\n",
    "\n",
    "# Apply SMOTE to the training data to handle class imbalance\n",
    "smote = SMOTE(random_state=42)\n",
    "X_train_resampled, y_train_resampled = smote.fit_resample(X_train, y_train)\n",
    "\n",
    "# Define the best hyperparameters for XGBoost\n",
    "best_params_xgb = {\n",
    "    'colsample_bytree': 0.8,\n",
    "    'learning_rate': 0.1,\n",
    "    'max_depth': 10,\n",
    "    'n_estimators': 150,\n",
    "    'subsample': 1.0\n",
    "}\n",
    "\n",
    "# Create and train the XGBoost classifier using the best hyperparameters\n",
    "final_xgb_classifier = XGBClassifier(\n",
    "    random_state=42,\n",
    "    use_label_encoder=False,  # Suppress deprecation warning for `use_label_encoder`\n",
    "    eval_metric='logloss',  # Recommended when `use_label_encoder` is False\n",
    "    **best_params_xgb\n",
    ")\n",
    "final_xgb_classifier.fit(X_train_resampled, y_train_resampled)\n",
    "\n",
    "# Make predictions on the test set\n",
    "y_test_pred_xgb = final_xgb_classifier.predict(X_test)\n",
    "\n",
    "# Evaluate the model's performance on the test set\n",
    "test_accuracy_xgb = accuracy_score(y_test, y_test_pred_xgb)\n",
    "test_recall_xgb = recall_score(y_test, y_test_pred_xgb, pos_label=1)  # Assuming \"Yes\" = 1\n",
    "test_f1_score_xgb = f1_score(y_test, y_test_pred_xgb, pos_label=1)    # Assuming \"Yes\" = 1\n",
    "\n",
    "# Display the final test set evaluation results\n",
    "print(\"\\nFinal Test Set Evaluation for XGBoost Classifier (Using Optimal Hyperparameters):\")\n",
    "print(f\"Accuracy: {test_accuracy_xgb:.4f}\")\n",
    "print(f\"Recall: {test_recall_xgb:.4f}\")\n",
    "print(f\"F1 Score: {test_f1_score_xgb:.4f}\")"
   ]
  },
  {
   "cell_type": "markdown",
   "metadata": {
    "application/vnd.databricks.v1+cell": {
     "cellMetadata": {
      "byteLimit": 2048000,
      "rowLimit": 10000
     },
     "inputWidgets": {},
     "nuid": "f17e3459-3bd8-49df-9eaf-fe7316ce0c67",
     "showTitle": false,
     "tableResultSettingsMap": {},
     "title": ""
    }
   },
   "source": [
    "### Feature importance XGBoost"
   ]
  },
  {
   "cell_type": "code",
   "execution_count": 0,
   "metadata": {
    "application/vnd.databricks.v1+cell": {
     "cellMetadata": {
      "byteLimit": 2048000,
      "rowLimit": 10000
     },
     "inputWidgets": {},
     "nuid": "862aed85-aa78-4d79-9dad-a2c8ffa5d297",
     "showTitle": false,
     "tableResultSettingsMap": {},
     "title": ""
    }
   },
   "outputs": [],
   "source": [
    "# Initialize the SHAP TreeExplainer\n",
    "explainer = shap.TreeExplainer(final_xgb_classifier)\n",
    "\n",
    "# Calculate SHAP values for the dataset (e.g., X_test)\n",
    "shap_values = explainer.shap_values(X_test)\n",
    "\n",
    "# 1. Local Explanations (Summary Plot) – unchanged\n",
    "plt.figure(figsize=(12, 8))\n",
    "shap.summary_plot(shap_values, X_test, plot_size=(14, 8))  # Summary plot for local explanations\n",
    "\n",
    "# 2. Global Feature Importance - Top 15 Features\n",
    "# Calculate mean absolute SHAP values for global importance\n",
    "global_feature_importance = np.abs(shap_values).mean(axis=0)  # Average absolute SHAP value per feature\n",
    "\n",
    "# Create a DataFrame for visualization\n",
    "feature_importance_df = pd.DataFrame({\n",
    "    'Feature': X_test.columns,\n",
    "    'Mean SHAP Value': global_feature_importance\n",
    "}).sort_values(by='Mean SHAP Value', ascending=False)\n",
    "\n",
    "# Select the top 15 features\n",
    "top_15_features = feature_importance_df.head(15)\n",
    "\n",
    "# Plot the top 15 global feature importance\n",
    "plt.figure(figsize=(10, 6))\n",
    "plt.barh(top_15_features['Feature'], top_15_features['Mean SHAP Value'], color='skyblue')\n",
    "plt.xlabel('Mean |SHAP Value|', fontsize=12)\n",
    "plt.ylabel('Feature', fontsize=12)\n",
    "plt.title('Top 15 Global Feature Importance (Mean SHAP Values)', fontsize=16)\n",
    "plt.gca().invert_yaxis()  # Highest importance at the top\n",
    "plt.tight_layout()\n",
    "plt.show()\n",
    "\n",
    "\n",
    "\n"
   ]
  },
  {
   "cell_type": "markdown",
   "metadata": {
    "application/vnd.databricks.v1+cell": {
     "cellMetadata": {
      "byteLimit": 2048000,
      "rowLimit": 10000
     },
     "inputWidgets": {},
     "nuid": "68c12fc1-9f15-48e9-838d-09e2d9d52951",
     "showTitle": false,
     "tableResultSettingsMap": {},
     "title": ""
    }
   },
   "source": [
    "### Confusion Matrix"
   ]
  },
  {
   "cell_type": "code",
   "execution_count": 0,
   "metadata": {
    "application/vnd.databricks.v1+cell": {
     "cellMetadata": {
      "byteLimit": 2048000,
      "rowLimit": 10000
     },
     "inputWidgets": {},
     "nuid": "3a55bae2-5385-45fc-8f8a-54126f68a7cb",
     "showTitle": false,
     "tableResultSettingsMap": {},
     "title": ""
    }
   },
   "outputs": [],
   "source": [
    "# Generate confusion matrix for XGBoost (XGB)\n",
    "confusion_matrix_xgb = confusion_matrix(y_test, y_test_pred_xgb)  # Replace with XGB model predictions\n",
    "\n",
    "# Print confusion matrix\n",
    "print(\"\\nConfusion Matrix - XGBoost (XGB):\")\n",
    "print(confusion_matrix_xgb)\n",
    "\n",
    "# Visualize the confusion matrix with a heatmap\n",
    "plt.figure(figsize=(6, 4))\n",
    "\n",
    "# Use sns.color_palette to extract the first color from 'Set3'\n",
    "color = sns.color_palette(\"Set3\")[0]  # Extract first color\n",
    "\n",
    "sns.heatmap(confusion_matrix_xgb, annot=True, fmt='d', cmap=sns.light_palette(color, as_cmap=True), \n",
    "            xticklabels=['No', 'Yes'], yticklabels=['No', 'Yes'])\n",
    "\n",
    "plt.title('Confusion Matrix - XGBoost (XGB)')\n",
    "plt.xlabel('Predicted')\n",
    "plt.ylabel('Actual')\n",
    "plt.show()\n",
    "\n"
   ]
  },
  {
   "cell_type": "markdown",
   "metadata": {
    "application/vnd.databricks.v1+cell": {
     "cellMetadata": {
      "byteLimit": 2048000,
      "rowLimit": 10000
     },
     "inputWidgets": {},
     "nuid": "919e23d9-dd76-414b-b6cb-8de7e2378a1a",
     "showTitle": false,
     "tableResultSettingsMap": {},
     "title": ""
    }
   },
   "source": [
    "## CatBoost"
   ]
  },
  {
   "cell_type": "markdown",
   "metadata": {
    "application/vnd.databricks.v1+cell": {
     "cellMetadata": {
      "byteLimit": 2048000,
      "rowLimit": 10000
     },
     "inputWidgets": {},
     "nuid": "39393e4f-3898-45c9-96da-ce4690aeef30",
     "showTitle": false,
     "tableResultSettingsMap": {},
     "title": ""
    }
   },
   "source": [
    "### Hyperparameter tuning "
   ]
  },
  {
   "cell_type": "code",
   "execution_count": 0,
   "metadata": {
    "application/vnd.databricks.v1+cell": {
     "cellMetadata": {
      "byteLimit": 2048000,
      "rowLimit": 10000
     },
     "inputWidgets": {},
     "nuid": "43b40405-07ba-4a3a-aa10-4f136e0f2c04",
     "showTitle": false,
     "tableResultSettingsMap": {},
     "title": ""
    }
   },
   "outputs": [],
   "source": [
    "# Prepare the feature variables (X) and target variable (y)\n",
    "X = pd.get_dummies(df_employees_cleaned.drop(columns=['Attrition']))  # One-hot encode categorical features\n",
    "y = df_employees_cleaned['Attrition']  # Target variable\n",
    "\n",
    "# Convert the target variable to numeric (0 = 'No', 1 = 'Yes')\n",
    "label_encoder = LabelEncoder()\n",
    "y = label_encoder.fit_transform(y)  # 'No' = 0, 'Yes' = 1\n",
    "\n",
    "# ---------------------------------------------------\n",
    "# Split the dataset into training+validation set and test set (20% test set)\n",
    "# ---------------------------------------------------\n",
    "\n",
    "X_train_full, X_test_final, y_train_full, y_test_final = train_test_split(\n",
    "    X, y, test_size=0.2, stratify=y, random_state=42\n",
    ")\n",
    "\n",
    "# Initialize StratifiedKFold for cross-validation on the training set\n",
    "stratified_kfold = StratifiedKFold(n_splits=5, shuffle=True, random_state=42)\n",
    "\n",
    "# Define the hyperparameter grid for CatBoost\n",
    "param_grid_catboost = {\n",
    "    'iterations': [500, 1000, 1500],              # Number of boosting iterations\n",
    "    'learning_rate': [0.05, 0.1, 0.3, 0.5],      # Learning rate\n",
    "    'depth': [4, 6, 8],                          # Depth of trees\n",
    "    'l2_leaf_reg': [3, 5, 7],                    # L2 regularization coefficient\n",
    "    'border_count': [32, 50, 128]                # Number of splits for numerical features\n",
    "}\n",
    "\n",
    "# Initialize the CatBoostClassifier\n",
    "catboost_classifier = CatBoostClassifier(verbose=0, random_seed=42)\n",
    "\n",
    "# Initialize GridSearchCV with StratifiedKFold and CatBoost\n",
    "grid_search_catboost = GridSearchCV(estimator=catboost_classifier, param_grid=param_grid_catboost,\n",
    "                                    scoring='recall', cv=stratified_kfold, n_jobs=-1, verbose=2)\n",
    "\n",
    "# Initialize lists to store metrics\n",
    "accuracy_catboost = []\n",
    "recall_catboost = []\n",
    "f1_score_catboost = []\n",
    "\n",
    "# Perform stratified k-fold cross-validation with SMOTE and GridSearchCV\n",
    "fold = 1  # Initialize fold counter for printing\n",
    "for train_index, val_index in stratified_kfold.split(X_train_full, y_train_full):\n",
    "    print(f\"\\nStarting Fold {fold}...\")\n",
    "\n",
    "    X_train, X_val = X_train_full.iloc[train_index], X_train_full.iloc[val_index]\n",
    "    y_train, y_val = y_train_full[train_index], y_train_full[val_index]\n",
    "\n",
    "    # Apply SMOTE to the training data to balance the class distribution\n",
    "    smote = SMOTE(random_state=42)\n",
    "    X_train_resampled, y_train_resampled = smote.fit_resample(X_train, y_train)\n",
    "\n",
    "    # Perform hyperparameter tuning with GridSearchCV on resampled data\n",
    "    grid_search_catboost.fit(X_train_resampled, y_train_resampled)\n",
    "\n",
    "    # Get the best estimator (model with the best hyperparameters)\n",
    "    best_catboost_model = grid_search_catboost.best_estimator_\n",
    "\n",
    "    # Make predictions on the validation set using the best model\n",
    "    y_pred_catboost = best_catboost_model.predict(X_val)\n",
    "\n",
    "    # Calculate metrics for the current fold\n",
    "    accuracy_catboost.append(accuracy_score(y_val, y_pred_catboost))\n",
    "    recall_catboost.append(recall_score(y_val, y_pred_catboost, pos_label=1))  # Assuming 'Yes' is encoded as 1\n",
    "    f1_score_catboost.append(f1_score(y_val, y_pred_catboost, pos_label=1))    # Assuming 'Yes' is encoded as 1\n",
    "\n",
    "    # Increment the fold counter\n",
    "    fold += 1\n",
    "\n",
    "# Calculate average metrics across all folds\n",
    "avg_accuracy_catboost = np.mean(accuracy_catboost)\n",
    "avg_recall_catboost = np.mean(recall_catboost)\n",
    "avg_f1_score_catboost = np.mean(f1_score_catboost)\n",
    "\n",
    "# Display average metrics\n",
    "print(\"\\nAverage Metrics for CatBoost Across Stratified K-Fold Cross-Validation (With Hyperparameter Tuning):\")\n",
    "print(f\"Accuracy: {avg_accuracy_catboost:.4f}\")\n",
    "print(f\"Recall: {avg_recall_catboost:.4f}\")\n",
    "print(f\"F1 Score: {avg_f1_score_catboost:.4f}\")\n",
    "\n",
    "# Display the best hyperparameters found by GridSearchCV\n",
    "print(\"\\nBest Hyperparameters from GridSearchCV for CatBoost:\")\n",
    "print(grid_search_catboost.best_params_)\n",
    "\n",
    "# ----------------------------------------------------\n",
    "# Retrain the final model on the full training set (using best hyperparameters)\n",
    "# ----------------------------------------------------\n",
    "\n",
    "# Apply SMOTE on the full training set (before retraining the final model)\n",
    "smote = SMOTE(random_state=42)\n",
    "X_train_resampled, y_train_resampled = smote.fit_resample(X_train_full, y_train_full)\n",
    "\n",
    "# Retrain the model on the resampled full training set using the best hyperparameters from GridSearchCV\n",
    "final_catboost_classifier = grid_search_catboost.best_estimator_  # Use the best model from GridSearchCV\n",
    "final_catboost_classifier.fit(X_train_resampled, y_train_resampled)\n",
    "\n",
    "# ----------------------------------------------------\n",
    "# Evaluate the final model on the separate test set\n",
    "# ----------------------------------------------------\n",
    "\n",
    "# Predict on the final test set\n",
    "y_test_pred_catboost = final_catboost_classifier.predict(X_test_final)\n",
    "\n",
    "# Test set performance metrics\n",
    "test_accuracy_catboost = accuracy_score(y_test_final, y_test_pred_catboost)\n",
    "test_recall_catboost = recall_score(y_test_final, y_test_pred_catboost, pos_label=1)\n",
    "test_f1_score_catboost = f1_score(y_test_final, y_test_pred_catboost, pos_label=1)\n",
    "\n",
    "# Display test set metrics\n",
    "print(\"\\nTest Set Evaluation:\")\n",
    "print(f\"Accuracy: {test_accuracy_catboost:.4f}\")\n",
    "print(f\"Recall: {test_recall_catboost:.4f}\")\n",
    "print(f\"F1 Score: {test_f1_score_catboost:.4f}\")\n",
    "\n",
    "\n"
   ]
  },
  {
   "cell_type": "markdown",
   "metadata": {
    "application/vnd.databricks.v1+cell": {
     "cellMetadata": {
      "byteLimit": 2048000,
      "rowLimit": 10000
     },
     "inputWidgets": {},
     "nuid": "d2c03e00-079e-4937-b7b1-57e09885016f",
     "showTitle": false,
     "tableResultSettingsMap": {},
     "title": ""
    }
   },
   "source": [
    "### Model training optimal hyperparameters"
   ]
  },
  {
   "cell_type": "code",
   "execution_count": 0,
   "metadata": {
    "application/vnd.databricks.v1+cell": {
     "cellMetadata": {
      "byteLimit": 2048000,
      "rowLimit": 10000
     },
     "inputWidgets": {},
     "nuid": "747b0f26-a99c-432b-9483-5b6d79cc0f25",
     "showTitle": false,
     "tableResultSettingsMap": {},
     "title": ""
    }
   },
   "outputs": [
    {
     "output_type": "stream",
     "name": "stdout",
     "output_type": "stream",
     "text": [
      "Test Accuracy: 0.9524\nTest Recall: 0.8634\nTest F1 Score: 0.9036\nAUC (ROC): 0.9786\nAUC-PR: 0.9620\n"
     ]
    }
   ],
   "source": [
    "# Prepare the feature variables (X) and target variable (y)\n",
    "X = pd.get_dummies(df_employees_cleaned.drop(columns=['Attrition']))  # One-hot encode categorical features\n",
    "y = df_employees_cleaned['Attrition']  # Target variable\n",
    "\n",
    "# Convert the target variable to numeric (0 = 'No', 1 = 'Yes')\n",
    "y = LabelEncoder().fit_transform(y)\n",
    "\n",
    "# Split the dataset into training and test sets (80% train, 20% test)\n",
    "X_train, X_test, y_train, y_test = train_test_split(X, y, test_size=0.2, stratify=y, random_state=42)\n",
    "\n",
    "# Apply SMOTE to balance the class distribution\n",
    "X_train_resampled, y_train_resampled = SMOTE(random_state=42).fit_resample(X_train, y_train)\n",
    "\n",
    "# Define and train the CatBoost model with the best hyperparameters from GridSearchCV\n",
    "final_catboost_classifier = CatBoostClassifier(\n",
    "    iterations=1500, depth=4, learning_rate=0.3, l2_leaf_reg=7, border_count=32, \n",
    "    random_state=42, verbose=0, auto_class_weights=\"Balanced\"\n",
    ")\n",
    "\n",
    "final_catboost_classifier.fit(X_train_resampled, y_train_resampled)\n",
    "\n",
    "# Evaluate the model on the test set\n",
    "y_test_pred_catboost = final_catboost_classifier.predict(X_test)\n",
    "y_test_pred_proba_catboost = final_catboost_classifier.predict_proba(X_test)[:, 1]  # Probabilities for AUC and AUC-PR\n",
    "\n",
    "# Calculate metrics\n",
    "test_accuracy_catboost = accuracy_score(y_test, y_test_pred_catboost)\n",
    "test_recall_catboost = recall_score(y_test, y_test_pred_catboost)\n",
    "test_f1_score_catboost = f1_score(y_test, y_test_pred_catboost)\n",
    "\n",
    "# Compute AUC (Area Under ROC Curve)\n",
    "auc_catboost = roc_auc_score(y_test, y_test_pred_proba_catboost)\n",
    "\n",
    "# Compute AUC-PR (Area Under Precision-Recall Curve)\n",
    "auc_pr_catboost = average_precision_score(y_test, y_test_pred_proba_catboost)\n",
    "\n",
    "# Print the results\n",
    "print(f\"Test Accuracy: {test_accuracy_catboost:.4f}\")\n",
    "print(f\"Test Recall: {test_recall_catboost:.4f}\")\n",
    "print(f\"Test F1 Score: {test_f1_score_catboost:.4f}\")\n",
    "print(f\"AUC (ROC): {auc_catboost:.4f}\")\n",
    "print(f\"AUC-PR: {auc_pr_catboost:.4f}\")\n",
    "\n"
   ]
  },
  {
   "cell_type": "markdown",
   "metadata": {
    "application/vnd.databricks.v1+cell": {
     "cellMetadata": {
      "byteLimit": 2048000,
      "rowLimit": 10000
     },
     "inputWidgets": {},
     "nuid": "2fd26225-9107-458b-8be0-ed248030efed",
     "showTitle": false,
     "tableResultSettingsMap": {},
     "title": ""
    }
   },
   "source": [
    "### Confusion Matrix"
   ]
  },
  {
   "cell_type": "code",
   "execution_count": 0,
   "metadata": {
    "application/vnd.databricks.v1+cell": {
     "cellMetadata": {
      "byteLimit": 2048000,
      "rowLimit": 10000
     },
     "inputWidgets": {},
     "nuid": "c04dbc87-5cb0-419d-8efa-ea3177725ec1",
     "showTitle": false,
     "tableResultSettingsMap": {},
     "title": ""
    }
   },
   "outputs": [],
   "source": [
    "# Generate confusion matrix for CatBoost\n",
    "confusion_matrix_catboost = confusion_matrix(y_test, y_test_pred_catboost) \n",
    "\n",
    "# Print confusion matrix\n",
    "print(\"\\nConfusion Matrix CatBoost:\")\n",
    "print(confusion_matrix_catboost)\n",
    "\n",
    "# Visualize the confusion matrix with a heatmap\n",
    "plt.figure(figsize=(6, 4))\n",
    "\n",
    "# Use sns.color_palette to extract the first color from 'Set3'\n",
    "color = sns.color_palette(\"Set3\")[0]  # Extract first color\n",
    "\n",
    "sns.heatmap(confusion_matrix_catboost, annot=True, fmt='d', cmap=sns.light_palette(color, as_cmap=True), \n",
    "            xticklabels=['No', 'Yes'], yticklabels=['No', 'Yes'])\n",
    "\n",
    "plt.title('Confusion Matrix CatBoost')\n",
    "plt.xlabel('Predicted')\n",
    "plt.ylabel('Actual')\n",
    "plt.show()\n"
   ]
  },
  {
   "cell_type": "markdown",
   "metadata": {
    "application/vnd.databricks.v1+cell": {
     "cellMetadata": {
      "byteLimit": 2048000,
      "rowLimit": 10000
     },
     "inputWidgets": {},
     "nuid": "171566cb-c09f-4c79-a48b-7d538ec1b5ce",
     "showTitle": false,
     "tableResultSettingsMap": {},
     "title": ""
    }
   },
   "source": [
    "## LightGBM"
   ]
  },
  {
   "cell_type": "markdown",
   "metadata": {
    "application/vnd.databricks.v1+cell": {
     "cellMetadata": {
      "byteLimit": 2048000,
      "rowLimit": 10000
     },
     "inputWidgets": {},
     "nuid": "74ec21b9-e55a-4d80-91cc-1b0f4d27fb55",
     "showTitle": false,
     "tableResultSettingsMap": {},
     "title": ""
    }
   },
   "source": [
    "### Hyperparameter tuning "
   ]
  },
  {
   "cell_type": "code",
   "execution_count": 0,
   "metadata": {
    "application/vnd.databricks.v1+cell": {
     "cellMetadata": {
      "byteLimit": 2048000,
      "rowLimit": 10000
     },
     "inputWidgets": {},
     "nuid": "c5a375e8-6d41-41d8-b7a5-1ce331942803",
     "showTitle": false,
     "tableResultSettingsMap": {},
     "title": ""
    }
   },
   "outputs": [],
   "source": [
    "# Prepare the feature variables (X) and target variable (y)\n",
    "X = df_employees_cleaned.drop(columns=[\"Attrition\"])  # Features\n",
    "y = df_employees_cleaned[\"Attrition\"]  # Target variable\n",
    "\n",
    "# Convert the target variable to numeric (0 = \"No\", 1 = \"Yes\")\n",
    "label_encoder = LabelEncoder()\n",
    "y = label_encoder.fit_transform(y)  # \"No\" = 0, \"Yes\" = 1\n",
    "\n",
    "# ---------------------------------------------------\n",
    "# Split the dataset into training+validation set and test set (20% test set)\n",
    "# ---------------------------------------------------\n",
    "\n",
    "X_train_full, X_test, y_train_full, y_test = train_test_split(\n",
    "    X, y, test_size=0.2, stratify=y, random_state=42\n",
    ")\n",
    "\n",
    "# Initialize StratifiedKFold for cross-validation on the training+validation set\n",
    "stratified_kfold = StratifiedKFold(n_splits=2, shuffle=True, random_state=42)\n",
    "\n",
    "# Define the reduced hyperparameter grid for LightGBM (only 5 parameters)\n",
    "param_grid_lgbm = {\n",
    "    'n_estimators': [50, 100, 150, 200],         # Number of boosting rounds (trees)\n",
    "    'learning_rate': [0.05, 0.1, 0.3, 0.5],     # Learning rate (shrinkage)\n",
    "    'max_depth': [-1, 3, 6, 10, 12, 15],                 # Maximum depth of a tree\n",
    "    'num_leaves': [20, 31, 50, 100],             # Number of leaves in one tree\n",
    "    'subsample': [0.6, 0.8, 1.0],            # Fraction of samples used for fitting trees\n",
    "}\n",
    "\n",
    "# Initialize LightGBM classifier\n",
    "lgbm_classifier = lgb.LGBMClassifier(random_state=42)\n",
    "\n",
    "# Initialize GridSearchCV with StratifiedKFold and LightGBM\n",
    "grid_search_lgbm = GridSearchCV(estimator=lgbm_classifier, param_grid=param_grid_lgbm,\n",
    "                                scoring='recall', cv=stratified_kfold, n_jobs=-1, verbose=2)\n",
    "\n",
    "# Initialize lists to store metrics\n",
    "accuracy_lgbm = []\n",
    "recall_lgbm = []\n",
    "f1_score_lgbm = []\n",
    "\n",
    "# Perform stratified k-fold cross-validation on the training+validation set\n",
    "for fold, (train_index, val_index) in enumerate(stratified_kfold.split(X_train_full, y_train_full), 1):\n",
    "    print(f\"\\nProcessing Fold {fold}...\")  # Print the current fold number\n",
    "    X_train, X_val = X_train_full.iloc[train_index], X_train_full.iloc[val_index]\n",
    "    y_train, y_val = y_train_full[train_index], y_train_full[val_index]\n",
    "\n",
    "    # Apply SMOTE to the training data (oversampling for handling imbalanced classes)\n",
    "    smote = SMOTE(random_state=42)\n",
    "    X_train_resampled, y_train_resampled = smote.fit_resample(X_train, y_train)\n",
    "\n",
    "    # Perform hyperparameter tuning with GridSearchCV on resampled data\n",
    "    grid_search_lgbm.fit(X_train_resampled, y_train_resampled)\n",
    "\n",
    "    # Get the best estimator (model with the best hyperparameters)\n",
    "    best_lgbm_model = grid_search_lgbm.best_estimator_\n",
    "\n",
    "    # Make predictions on the validation set using the best model\n",
    "    y_val_pred_lgbm = best_lgbm_model.predict(X_val)\n",
    "\n",
    "    # Calculate metrics for the current fold\n",
    "    accuracy_lgbm.append(accuracy_score(y_val, y_val_pred_lgbm))\n",
    "    recall_lgbm.append(recall_score(y_val, y_val_pred_lgbm, pos_label=1))  # Assuming 'Yes' = 1\n",
    "    f1_score_lgbm.append(f1_score(y_val, y_val_pred_lgbm, pos_label=1))  # Assuming 'Yes' = 1\n",
    "\n",
    "# Calculate average metrics across all folds\n",
    "avg_accuracy_lgbm = np.mean(accuracy_lgbm)\n",
    "avg_recall_lgbm = np.mean(recall_lgbm)\n",
    "avg_f1_score_lgbm = np.mean(f1_score_lgbm)\n",
    "\n",
    "# Display average metrics from cross-validation\n",
    "print(\"\\nAverage Metrics for LightGBM Across Stratified K-Fold Cross-Validation (With Hyperparameter Tuning):\")\n",
    "print(f\"Accuracy: {avg_accuracy_lgbm:.4f}\")\n",
    "print(f\"Recall: {avg_recall_lgbm:.4f}\")\n",
    "print(f\"F1 Score: {avg_f1_score_lgbm:.4f}\")\n",
    "\n",
    "# Display the best hyperparameters found by GridSearchCV\n",
    "print(\"\\nBest Hyperparameters from GridSearchCV:\")\n",
    "print(grid_search_lgbm.best_params_)\n",
    "\n",
    "# ----------------------------------------------------\n",
    "# Retrain the final model on the full training set (using best hyperparameters)\n",
    "# ----------------------------------------------------\n",
    "\n",
    "# Apply SMOTE on the full training set (before retraining the final model)\n",
    "smote = SMOTE(random_state=42)\n",
    "X_train_resampled, y_train_resampled = smote.fit_resample(X_train_full, y_train_full)\n",
    "\n",
    "# Retrain the model on the resampled full training set using the best hyperparameters from GridSearchCV\n",
    "final_lgbm_classifier = grid_search_lgbm.best_estimator_  # Use the best model from GridSearchCV\n",
    "final_lgbm_classifier.fit(X_train_resampled, y_train_resampled)\n",
    "\n",
    "# ----------------------------------------------------\n",
    "# Evaluate the final model on the separate test set\n",
    "# ----------------------------------------------------\n",
    "\n",
    "# Predict on the test set\n",
    "y_test_pred_lgbm = final_lgbm_classifier.predict(X_test)\n",
    "\n",
    "# Test set performance metrics\n",
    "test_accuracy_lgbm = accuracy_score(y_test, y_test_pred_lgbm)\n",
    "test_recall_lgbm = recall_score(y_test, y_test_pred_lgbm, pos_label=1)\n",
    "test_f1_score_lgbm = f1_score(y_test, y_test_pred_lgbm, pos_label=1)\n",
    "\n",
    "print(\"\\nTest Set Evaluation:\")\n",
    "print(f\"Accuracy: {test_accuracy_lgbm:.4f}\")\n",
    "print(f\"Recall: {test_recall_lgbm:.4f}\")\n",
    "print(f\"F1 Score: {test_f1_score_lgbm:.4f}\")\n"
   ]
  },
  {
   "cell_type": "markdown",
   "metadata": {
    "application/vnd.databricks.v1+cell": {
     "cellMetadata": {
      "byteLimit": 2048000,
      "rowLimit": 10000
     },
     "inputWidgets": {},
     "nuid": "5e3ea88e-19ba-4234-b6bd-e681c793e3bf",
     "showTitle": false,
     "tableResultSettingsMap": {},
     "title": ""
    }
   },
   "source": [
    "### Model training optimal hyperparameters"
   ]
  },
  {
   "cell_type": "code",
   "execution_count": 0,
   "metadata": {
    "application/vnd.databricks.v1+cell": {
     "cellMetadata": {
      "byteLimit": 2048000,
      "rowLimit": 10000
     },
     "inputWidgets": {},
     "nuid": "48fc2717-c4a8-44a4-9200-18f09e4c7dc1",
     "showTitle": false,
     "tableResultSettingsMap": {},
     "title": ""
    }
   },
   "outputs": [
    {
     "output_type": "stream",
     "name": "stdout",
     "output_type": "stream",
     "text": [
      "[LightGBM] [Warning] Found whitespace in feature_names, replace with underlines\n[LightGBM] [Info] Number of positive: 5795, number of negative: 5795\n[LightGBM] [Info] Auto-choosing row-wise multi-threading, the overhead of testing was 0.002672 seconds.\nYou can set `force_row_wise=true` to remove the overhead.\nAnd if memory is not enough, you can set `force_col_wise=true`.\n[LightGBM] [Info] Total Bins 1860\n[LightGBM] [Info] Number of data points in the train set: 11590, number of used features: 78\n[LightGBM] [Info] [binary:BoostFromScore]: pavg=0.500000 -> initscore=0.000000\nTest Accuracy: 0.9570\nTest Recall: 0.8614\nTest F1 Score: 0.9119\nAUC (ROC): 0.9811\nAUC-PR: 0.9664\n"
     ]
    }
   ],
   "source": [
    "# Prepare the feature variables (X) and target variable (y)\n",
    "X = pd.get_dummies(df_employees_cleaned.drop(columns=['Attrition']))  # One-hot encode categorical features\n",
    "y = df_employees_cleaned['Attrition']  # Target variable\n",
    "\n",
    "# Convert the target variable to numeric (0 = 'No', 1 = 'Yes')\n",
    "y = LabelEncoder().fit_transform(y)\n",
    "\n",
    "# Split the dataset into training and test sets (80% train, 20% test)\n",
    "X_train, X_test, y_train, y_test = train_test_split(X, y, test_size=0.2, stratify=y, random_state=42)\n",
    "\n",
    "# Apply SMOTE to balance the class distribution\n",
    "X_train_resampled, y_train_resampled = SMOTE(random_state=42).fit_resample(X_train, y_train)\n",
    "\n",
    "# Define and train the LGBM model with the best hyperparameters\n",
    "final_lgbm_classifier = lgb.LGBMClassifier(\n",
    "    learning_rate=0.1, \n",
    "    max_depth=10, \n",
    "    n_estimators=150, \n",
    "    num_leaves=31, \n",
    "    subsample=0.6, \n",
    "    random_state=42\n",
    ")\n",
    "\n",
    "final_lgbm_classifier.fit(X_train_resampled, y_train_resampled)\n",
    "\n",
    "# Evaluate the model on the test set\n",
    "y_test_pred_lgbm = final_lgbm_classifier.predict(X_test)\n",
    "y_test_pred_proba_lgbm = final_lgbm_classifier.predict_proba(X_test)[:, 1]  # Probability scores for AUC and AUC-PR\n",
    "\n",
    "# Calculate metrics\n",
    "test_accuracy_lgbm = accuracy_score(y_test, y_test_pred_lgbm)\n",
    "test_recall_lgbm = recall_score(y_test, y_test_pred_lgbm)\n",
    "test_f1_score_lgbm = f1_score(y_test, y_test_pred_lgbm)\n",
    "\n",
    "# Compute AUC (Area Under ROC Curve)\n",
    "auc_lgbm = roc_auc_score(y_test, y_test_pred_proba_lgbm)\n",
    "\n",
    "# Compute AUC-PR (Area Under Precision-Recall Curve)\n",
    "auc_pr_lgbm = average_precision_score(y_test, y_test_pred_proba_lgbm)\n",
    "\n",
    "# Print the results\n",
    "print(f\"Test Accuracy: {test_accuracy_lgbm:.4f}\")\n",
    "print(f\"Test Recall: {test_recall_lgbm:.4f}\")\n",
    "print(f\"Test F1 Score: {test_f1_score_lgbm:.4f}\")\n",
    "print(f\"AUC (ROC): {auc_lgbm:.4f}\")\n",
    "print(f\"AUC-PR: {auc_pr_lgbm:.4f}\")\n"
   ]
  },
  {
   "cell_type": "markdown",
   "metadata": {
    "application/vnd.databricks.v1+cell": {
     "cellMetadata": {
      "byteLimit": 2048000,
      "rowLimit": 10000
     },
     "inputWidgets": {},
     "nuid": "118e4edb-ebb0-43ab-a855-c461d0e89bde",
     "showTitle": false,
     "tableResultSettingsMap": {},
     "title": ""
    }
   },
   "source": [
    "### Confusion Matrix "
   ]
  },
  {
   "cell_type": "code",
   "execution_count": 0,
   "metadata": {
    "application/vnd.databricks.v1+cell": {
     "cellMetadata": {
      "byteLimit": 2048000,
      "rowLimit": 10000
     },
     "inputWidgets": {},
     "nuid": "19ad970a-2d4b-4ff1-8ddb-9b0244ee20b5",
     "showTitle": false,
     "tableResultSettingsMap": {},
     "title": ""
    }
   },
   "outputs": [],
   "source": [
    "# Generate confusion matrix for LightGBM\n",
    "confusion_matrix_lgbm = confusion_matrix(y_test, y_test_pred_lgbm)  # Replace with LGBM model predictions\n",
    "\n",
    "# Print confusion matrix\n",
    "print(\"\\nConfusion Matrix LightGBM:\")\n",
    "print(confusion_matrix_lgbm)\n",
    "\n",
    "# Visualize the confusion matrix with a heatmap\n",
    "plt.figure(figsize=(6, 4))\n",
    "\n",
    "# Use sns.color_palette to extract the first color from 'Set3'\n",
    "color = sns.color_palette(\"Set3\")[0]  # Extract first color\n",
    "\n",
    "sns.heatmap(confusion_matrix_lgbm, annot=True, fmt='d', cmap=sns.light_palette(color, as_cmap=True), \n",
    "            xticklabels=['No', 'Yes'], yticklabels=['No', 'Yes'])\n",
    "\n",
    "plt.title('Confusion Matrix LightGBM')\n",
    "plt.xlabel('Predicted')\n",
    "plt.ylabel('Actual')\n",
    "plt.show()\n"
   ]
  },
  {
   "cell_type": "markdown",
   "metadata": {
    "application/vnd.databricks.v1+cell": {
     "cellMetadata": {
      "byteLimit": 2048000,
      "rowLimit": 10000
     },
     "inputWidgets": {},
     "nuid": "6d91c69e-876d-4246-95c6-d7a7eb07fd7c",
     "showTitle": false,
     "tableResultSettingsMap": {},
     "title": ""
    }
   },
   "source": [
    "# Baseline Models"
   ]
  },
  {
   "cell_type": "markdown",
   "metadata": {
    "application/vnd.databricks.v1+cell": {
     "cellMetadata": {
      "byteLimit": 2048000,
      "rowLimit": 10000
     },
     "inputWidgets": {},
     "nuid": "2e84bd26-b53c-41bd-b94e-505271dd92e3",
     "showTitle": false,
     "tableResultSettingsMap": {},
     "title": ""
    }
   },
   "source": [
    "## Baseline Decision Tree"
   ]
  },
  {
   "cell_type": "markdown",
   "metadata": {
    "application/vnd.databricks.v1+cell": {
     "cellMetadata": {},
     "inputWidgets": {},
     "nuid": "806e6f3f-554e-4cd4-a41a-bc743d8f94ff",
     "showTitle": false,
     "tableResultSettingsMap": {},
     "title": ""
    }
   },
   "source": [
    "### Hyperparameter Tuning"
   ]
  },
  {
   "cell_type": "code",
   "execution_count": 0,
   "metadata": {
    "application/vnd.databricks.v1+cell": {
     "cellMetadata": {
      "byteLimit": 2048000,
      "rowLimit": 10000
     },
     "inputWidgets": {},
     "nuid": "a2198c11-32b0-44c2-a856-0ebf16fc4cfe",
     "showTitle": false,
     "tableResultSettingsMap": {},
     "title": ""
    }
   },
   "outputs": [],
   "source": [
    "# Prepare the feature variables (X) and target variable (y) for the reduced model\n",
    "X_baseline_dt = df_employees_baseline_features.drop(columns=[\"Attrition\"])  # Features\n",
    "y_baseline_dt = df_employees_baseline_features[\"Attrition\"]  # Target variable\n",
    "\n",
    "# Convert the target variable to numeric (0 = \"No\", 1 = \"Yes\")\n",
    "label_encoder_dt = LabelEncoder()\n",
    "y_baseline_dt = label_encoder_dt.fit_transform(y_baseline_dt)  # \"No\" = 0, \"Yes\" = 1\n",
    "\n",
    "# Split the dataset into training+validation set and test set\n",
    "X_train_full_baseline_dt, X_test_baseline_dt, y_train_full_baseline_dt, y_test_baseline_dt = train_test_split(\n",
    "    X_baseline_dt, y_baseline_dt, test_size=0.2, stratify=y_baseline_dt, random_state=42\n",
    ")\n",
    "\n",
    "# Initialize StratifiedKFold for cross-validation on the training+validation set\n",
    "stratified_kfold_dt = StratifiedKFold(n_splits=5, shuffle=True, random_state=42)\n",
    "\n",
    "# Hyperparameter grid for Decision Tree (same as the complete model)\n",
    "param_grid = {\n",
    "    'criterion': ['gini', 'entropy'],  # Split criterion\n",
    "    'max_depth': [None, 10, 20, 30],  # Maximum depth of the tree\n",
    "    'min_samples_split': [2, 5, 10],  # Minimum number of samples required to split a node\n",
    "    'min_samples_leaf': [1, 2, 4],    # Minimum number of samples at a leaf node\n",
    "    'max_features': [None, 'sqrt', 'log2'],  # Number of features to consider at each split\n",
    "    'splitter': ['best', 'random']  # Strategy used to split at each node\n",
    "}\n",
    "\n",
    "# Initialize Decision Tree Classifier for baseline model\n",
    "dt_classifier_baseline = DecisionTreeClassifier(random_state=42)\n",
    "\n",
    "# Initialize GridSearchCV for hyperparameter tuning on the baseline model\n",
    "grid_search_baseline = GridSearchCV(\n",
    "    estimator=dt_classifier_baseline,\n",
    "    param_grid=param_grid,\n",
    "    scoring='recall',\n",
    "    cv=stratified_kfold_dt,\n",
    "    n_jobs=-1,\n",
    "    verbose=2\n",
    ")\n",
    "\n",
    "# Initialize lists to store metrics for each fold\n",
    "accuracy_baseline_dt = []\n",
    "recall_baseline_dt = []\n",
    "f1_score_baseline_dt = []\n",
    "\n",
    "# Perform stratified k-fold cross-validation with GridSearchCV on the training+validation set\n",
    "print(\"Starting Stratified K-Fold Cross-Validation with Hyperparameter Tuning for Baseline Decision Tree...\")\n",
    "for fold, (train_index, val_index) in enumerate(stratified_kfold_dt.split(X_train_full_baseline_dt, y_train_full_baseline_dt), 1):\n",
    "    print(f\"\\nProcessing fold {fold}...\")\n",
    "\n",
    "    X_train_dt, X_val_dt = X_train_full_baseline_dt.iloc[train_index], X_train_full_baseline_dt.iloc[val_index]\n",
    "    y_train_dt, y_val_dt = y_train_full_baseline_dt[train_index], y_train_full_baseline_dt[val_index]\n",
    "\n",
    "    # Apply SMOTE to the training data\n",
    "    smote = SMOTE(random_state=42)\n",
    "    X_train_resampled_dt, y_train_resampled_dt = smote.fit_resample(X_train_dt, y_train_dt)\n",
    "\n",
    "    # Perform hyperparameter tuning with GridSearchCV on resampled data\n",
    "    print(f\"Performing GridSearchCV for fold {fold}...\")\n",
    "    grid_search_baseline.fit(X_train_resampled_dt, y_train_resampled_dt)\n",
    "\n",
    "    # Get the best estimator (model with the best hyperparameters)\n",
    "    best_dt_model_baseline = grid_search_baseline.best_estimator_\n",
    "\n",
    "    # Make predictions on the validation set using the best model\n",
    "    y_val_pred_dt_baseline = best_dt_model_baseline.predict(X_val_dt)\n",
    "\n",
    "    # Calculate metrics for the current fold\n",
    "    accuracy_baseline_dt.append(accuracy_score(y_val_dt, y_val_pred_dt_baseline))\n",
    "    recall_baseline_dt.append(recall_score(y_val_dt, y_val_pred_dt_baseline, pos_label=1))  # Assuming 'Yes' = 1\n",
    "    f1_score_baseline_dt.append(f1_score(y_val_dt, y_val_pred_dt_baseline, pos_label=1))  # Assuming 'Yes' = 1\n",
    "\n",
    "    # Print progress for this fold\n",
    "    print(f\"Fold {fold} complete. Accuracy: {accuracy_baseline_dt[-1]:.4f}, Recall: {recall_baseline_dt[-1]:.4f}, F1 Score: {f1_score_baseline_dt[-1]:.4f}\")\n",
    "\n",
    "# Calculate average metrics across all folds\n",
    "avg_accuracy_baseline_dt = np.mean(accuracy_baseline_dt)\n",
    "avg_recall_baseline_dt = np.mean(recall_baseline_dt)\n",
    "avg_f1_score_baseline_dt = np.mean(f1_score_baseline_dt)\n",
    "\n",
    "# Display average metrics\n",
    "print(\"\\nAverage Metrics for Baseline Decision Tree Across Stratified K-Fold Cross-Validation (With Hyperparameter Tuning):\")\n",
    "print(f\"Accuracy: {avg_accuracy_baseline_dt:.4f}\")\n",
    "print(f\"Recall: {avg_recall_baseline_dt:.4f}\")\n",
    "print(f\"F1 Score: {avg_f1_score_baseline_dt:.4f}\")\n",
    "\n",
    "# Display the best hyperparameters found by GridSearchCV\n",
    "print(\"\\nBest Hyperparameters from GridSearchCV:\")\n",
    "print(grid_search_baseline.best_params_)\n",
    "\n",
    "# Evaluate the final model on the completely separate test set\n",
    "final_model_baseline_dt = grid_search_baseline.best_estimator_\n",
    "y_test_pred_dt_baseline = final_model_baseline_dt.predict(X_test_baseline_dt)\n",
    "\n",
    "# Test set performance metrics\n",
    "test_accuracy_baseline_dt = accuracy_score(y_test_baseline_dt, y_test_pred_dt_baseline)\n",
    "test_recall_baseline_dt = recall_score(y_test_baseline_dt, y_test_pred_dt_baseline, pos_label=1)\n",
    "test_f1_score_baseline_dt = f1_score(y_test_baseline_dt, y_test_pred_dt_baseline, pos_label=1)\n",
    "\n",
    "# Display test set evaluation metrics\n",
    "print(\"\\nBaseline Decision Tree Model Test Set Evaluation:\")\n",
    "print(f\"Accuracy: {test_accuracy_baseline_dt:.4f}\")\n",
    "print(f\"Recall: {test_recall_baseline_dt:.4f}\")\n",
    "print(f\"F1 Score: {test_f1_score_baseline_dt:.4f}\")\n"
   ]
  },
  {
   "cell_type": "markdown",
   "metadata": {
    "application/vnd.databricks.v1+cell": {
     "cellMetadata": {},
     "inputWidgets": {},
     "nuid": "4d3f6709-7be3-479e-b242-05765185f0a3",
     "showTitle": false,
     "tableResultSettingsMap": {},
     "title": ""
    }
   },
   "source": [
    "### Model training optimal hyperparameters"
   ]
  },
  {
   "cell_type": "code",
   "execution_count": 0,
   "metadata": {
    "application/vnd.databricks.v1+cell": {
     "cellMetadata": {
      "byteLimit": 2048000,
      "rowLimit": 10000
     },
     "inputWidgets": {},
     "nuid": "0c93b301-0778-49a5-b1a6-4089f98395a0",
     "showTitle": false,
     "tableResultSettingsMap": {},
     "title": ""
    }
   },
   "outputs": [
    {
     "output_type": "stream",
     "name": "stdout",
     "output_type": "stream",
     "text": [
      "\nBaseline Decision Tree Model Test Set Evaluation:\nAccuracy: 0.8623\nRecall: 0.7525\nF1 Score: 0.7386\n"
     ]
    }
   ],
   "source": [
    "# Prepare the feature variables (X) and target variable (y)\n",
    "X_baseline_dt = df_employees_baseline_features.drop(columns=[\"Attrition\"])  # Features\n",
    "y_baseline_dt = df_employees_baseline_features[\"Attrition\"]  # Target variable\n",
    "\n",
    "# Convert the target variable to numeric (0 = \"No\", 1 = \"Yes\")\n",
    "label_encoder_dt = LabelEncoder()\n",
    "y_baseline_dt = label_encoder_dt.fit_transform(y_baseline_dt)  # \"No\" = 0, \"Yes\" = 1\n",
    "\n",
    "# Split the dataset into training+validation set and test set\n",
    "X_train_full_baseline_dt, X_test_baseline_dt, y_train_full_baseline_dt, y_test_baseline_dt = train_test_split(\n",
    "    X_baseline_dt, y_baseline_dt, test_size=0.2, stratify=y_baseline_dt, random_state=42\n",
    ")\n",
    "\n",
    "# Apply SMOTE to the training data\n",
    "smote = SMOTE(random_state=42)\n",
    "X_train_resampled_dt, y_train_resampled_dt = smote.fit_resample(X_train_full_baseline_dt, y_train_full_baseline_dt)\n",
    "\n",
    "# Create a Decision Tree Classifier with the optimal hyperparameters\n",
    "dt_classifier_baseline = DecisionTreeClassifier(\n",
    "    criterion='entropy', \n",
    "    max_depth=20,\n",
    "    max_features=None,\n",
    "    min_samples_leaf=1,\n",
    "    min_samples_split=2,\n",
    "    splitter='best',\n",
    "    random_state=42\n",
    ")\n",
    "\n",
    "# Train the model on the resampled training set\n",
    "dt_classifier_baseline.fit(X_train_resampled_dt, y_train_resampled_dt)\n",
    "\n",
    "# Predict on the separate test set\n",
    "y_test_pred_dt_baseline = dt_classifier_baseline.predict(X_test_baseline_dt)\n",
    "\n",
    "# Test set performance metrics\n",
    "test_accuracy_baseline_dt = accuracy_score(y_test_baseline_dt, y_test_pred_dt_baseline)\n",
    "test_recall_baseline_dt = recall_score(y_test_baseline_dt, y_test_pred_dt_baseline, pos_label=1)\n",
    "test_f1_score_baseline_dt = f1_score(y_test_baseline_dt, y_test_pred_dt_baseline, pos_label=1)\n",
    "\n",
    "# Display test set evaluation metrics\n",
    "print(\"\\nBaseline Decision Tree Model Test Set Evaluation:\")\n",
    "print(f\"Accuracy: {test_accuracy_baseline_dt:.4f}\")\n",
    "print(f\"Recall: {test_recall_baseline_dt:.4f}\")\n",
    "print(f\"F1 Score: {test_f1_score_baseline_dt:.4f}\")\n",
    "\n",
    "\n"
   ]
  },
  {
   "cell_type": "markdown",
   "metadata": {
    "application/vnd.databricks.v1+cell": {
     "cellMetadata": {
      "byteLimit": 2048000,
      "rowLimit": 10000
     },
     "inputWidgets": {},
     "nuid": "7d953464-3a07-4c3d-86ba-0778065ff066",
     "showTitle": false,
     "tableResultSettingsMap": {},
     "title": ""
    }
   },
   "source": [
    "## Baseline Random Forest"
   ]
  },
  {
   "cell_type": "markdown",
   "metadata": {
    "application/vnd.databricks.v1+cell": {
     "cellMetadata": {},
     "inputWidgets": {},
     "nuid": "8be4bb5f-ab9e-4dbc-970a-261927b9c82e",
     "showTitle": false,
     "tableResultSettingsMap": {},
     "title": ""
    }
   },
   "source": [
    "### Hyperparameter tuning"
   ]
  },
  {
   "cell_type": "code",
   "execution_count": 0,
   "metadata": {
    "application/vnd.databricks.v1+cell": {
     "cellMetadata": {
      "byteLimit": 2048000,
      "rowLimit": 10000
     },
     "inputWidgets": {},
     "nuid": "d9b58d22-bd64-417d-92f6-9024362c092f",
     "showTitle": false,
     "tableResultSettingsMap": {},
     "title": ""
    }
   },
   "outputs": [],
   "source": [
    "# Prepare the feature variables (X) and target variable (y)\n",
    "X_baseline_rf = df_employees_baseline_features.drop(columns=[\"Attrition\"])  # Features\n",
    "y_baseline_rf = df_employees_baseline_features[\"Attrition\"]  # Target variable\n",
    "\n",
    "# Convert the target variable to numeric (0 = \"No\", 1 = \"Yes\")\n",
    "label_encoder_rf = LabelEncoder()\n",
    "y_baseline_rf = label_encoder_rf.fit_transform(y_baseline_rf)  # \"No\" = 0, \"Yes\" = 1\n",
    "\n",
    "# Split the dataset into training+validation set and test set\n",
    "X_train_full_baseline_rf, X_test_baseline_rf, y_train_full_baseline_rf, y_test_baseline_rf = train_test_split(\n",
    "    X_baseline_rf, y_baseline_rf, test_size=0.2, stratify=y_baseline_rf, random_state=42\n",
    ")\n",
    "\n",
    "# Initialize StratifiedKFold for cross-validation on the training+validation set\n",
    "stratified_kfold_rf = StratifiedKFold(n_splits=5, shuffle=True, random_state=42)\n",
    "\n",
    "# Hyperparameter grid for Random Forest (regularized)\n",
    "param_grid_rf = {\n",
    "    'n_estimators': [50, 100, 150, 200],  # Number of trees in the forest\n",
    "    'max_depth': [20, 30, 40, 50, None],  # Maximum depth of the tree\n",
    "    'min_samples_split': [2, 5, 10],  # Minimum number of samples required to split a node\n",
    "    'min_samples_leaf': [1, 2, 4],    # Minimum number of samples required to be at a leaf node\n",
    "    'max_features': ['auto', 'sqrt', 'log2'],  # The number of features to consider for splitting\n",
    "    'bootstrap': [True, False]  # Whether bootstrap samples are used when building trees\n",
    "}\n",
    "\n",
    "# Initialize Random Forest classifier\n",
    "rf_classifier_baseline = RandomForestClassifier(random_state=42)\n",
    "\n",
    "# Initialize GridSearchCV with StratifiedKFold and Random Forest\n",
    "grid_search_rf = GridSearchCV(estimator=rf_classifier_baseline, param_grid=param_grid_rf, \n",
    "                              scoring='recall', cv=stratified_kfold_rf, n_jobs=-1, verbose=2)\n",
    "\n",
    "# Initialize lists to store metrics\n",
    "accuracy_rf_baseline = []\n",
    "recall_rf_baseline = []\n",
    "f1_score_rf_baseline = []\n",
    "\n",
    "# Perform stratified k-fold cross-validation on the training+validation set\n",
    "for train_index, val_index in stratified_kfold_rf.split(X_train_full_baseline_rf, y_train_full_baseline_rf):\n",
    "    X_train_rf, X_val_rf = (\n",
    "        X_train_full_baseline_rf.iloc[train_index],\n",
    "        X_train_full_baseline_rf.iloc[val_index],\n",
    "    )\n",
    "    y_train_rf, y_val_rf = (\n",
    "        y_train_full_baseline_rf[train_index],\n",
    "        y_train_full_baseline_rf[val_index],\n",
    "    )\n",
    "\n",
    "    # Apply SMOTE to the training data (oversampling for handling imbalanced classes)\n",
    "    smote_rf = SMOTE(random_state=42)\n",
    "    X_train_resampled_rf, y_train_resampled_rf = smote_rf.fit_resample(X_train_rf, y_train_rf)\n",
    "\n",
    "    # Perform hyperparameter tuning with GridSearchCV on resampled data\n",
    "    grid_search_rf.fit(X_train_resampled_rf, y_train_resampled_rf)\n",
    "\n",
    "    # Get the best estimator (model with the best hyperparameters)\n",
    "    best_rf_model_baseline = grid_search_rf.best_estimator_\n",
    "\n",
    "    # Make predictions on the validation set using the best model\n",
    "    y_val_pred_rf_baseline = best_rf_model_baseline.predict(X_val_rf)\n",
    "\n",
    "    # Calculate metrics for the current fold\n",
    "    accuracy_rf_baseline.append(accuracy_score(y_val_rf, y_val_pred_rf_baseline))\n",
    "    recall_rf_baseline.append(recall_score(y_val_rf, y_val_pred_rf_baseline, pos_label=1))  # Use 1 for 'Yes'\n",
    "    f1_score_rf_baseline.append(f1_score(y_val_rf, y_val_pred_rf_baseline, pos_label=1))  # Use 1 for 'Yes'\n",
    "\n",
    "# Calculate average metrics across all folds\n",
    "avg_accuracy_rf_baseline = np.mean(accuracy_rf_baseline)\n",
    "avg_recall_rf_baseline = np.mean(recall_rf_baseline)\n",
    "avg_f1_score_rf_baseline = np.mean(f1_score_rf_baseline)\n",
    "\n",
    "# Display average metrics from cross-validation\n",
    "print(\"\\nAverage Metrics for Random Forest Baseline Model Across Stratified K-Fold Cross-Validation (With Hyperparameter Tuning):\")\n",
    "print(f\"Accuracy: {avg_accuracy_rf_baseline:.4f}\")\n",
    "print(f\"Recall: {avg_recall_rf_baseline:.4f}\")\n",
    "print(f\"F1 Score: {avg_f1_score_rf_baseline:.4f}\")\n",
    "\n",
    "# Display the best hyperparameters found by GridSearchCV\n",
    "print(\"\\nBest Hyperparameters from GridSearchCV:\")\n",
    "print(grid_search_rf.best_params_)\n",
    "\n",
    "# ----------------------------------------------------\n",
    "# Evaluate the final model on the separate test set\n",
    "# ----------------------------------------------------\n",
    "\n",
    "# Apply SMOTE on the full training set (before retraining the final model)\n",
    "smote_rf = SMOTE(random_state=42)\n",
    "X_train_resampled_rf, y_train_resampled_rf = smote_rf.fit_resample(\n",
    "    X_train_full_baseline_rf, y_train_full_baseline_rf\n",
    ")\n",
    "\n",
    "# Retrain the final model on the resampled full training set using best parameters\n",
    "final_rf_classifier_baseline = grid_search_rf.best_estimator_  # Use the best model from GridSearchCV\n",
    "final_rf_classifier_baseline.fit(X_train_resampled_rf, y_train_resampled_rf)\n",
    "\n",
    "# Predict on the test set\n",
    "y_test_pred_rf_baseline = final_rf_classifier_baseline.predict(X_test_baseline_rf)\n",
    "\n",
    "# Test set performance metrics\n",
    "test_accuracy_rf_baseline = accuracy_score(y_test_baseline_rf, y_test_pred_rf_baseline)\n",
    "test_recall_rf_baseline = recall_score(y_test_baseline_rf, y_test_pred_rf_baseline, pos_label=1)\n",
    "test_f1_score_rf_baseline = f1_score(y_test_baseline_rf, y_test_pred_rf_baseline, pos_label=1)\n",
    "\n",
    "# Display test set evaluation metrics\n",
    "print(\"\\nBaseline Random Forest Model Test Set Evaluation:\")\n",
    "print(f\"Accuracy: {test_accuracy_rf_baseline:.4f}\")\n",
    "print(f\"Recall: {test_recall_rf_baseline:.4f}\")\n",
    "print(f\"F1 Score: {test_f1_score_rf_baseline:.4f}\")\n"
   ]
  },
  {
   "cell_type": "markdown",
   "metadata": {
    "application/vnd.databricks.v1+cell": {
     "cellMetadata": {},
     "inputWidgets": {},
     "nuid": "c2a48989-2a95-4886-a6b5-4863141ea74c",
     "showTitle": false,
     "tableResultSettingsMap": {},
     "title": ""
    }
   },
   "source": [
    "### Model training optimal hyperparameters"
   ]
  },
  {
   "cell_type": "code",
   "execution_count": 0,
   "metadata": {
    "application/vnd.databricks.v1+cell": {
     "cellMetadata": {
      "byteLimit": 2048000,
      "rowLimit": 10000
     },
     "inputWidgets": {},
     "nuid": "42c46593-08fa-4643-9064-4bc0e18206cd",
     "showTitle": false,
     "tableResultSettingsMap": {},
     "title": ""
    }
   },
   "outputs": [
    {
     "output_type": "stream",
     "name": "stdout",
     "output_type": "stream",
     "text": [
      "\nTest Set Evaluation for Random Forest (with optimal parameters):\nAccuracy: 0.8762\nRecall: 0.6554\nF1 Score: 0.7323\nAUC (ROC): 0.9296\nAUC-PR: 0.8595\n"
     ]
    }
   ],
   "source": [
    "# Prepare the feature variables (X) and target variable (y)\n",
    "X_baseline = df_employees_baseline_features.drop(columns=['Attrition'])  # Features\n",
    "y_baseline = df_employees_baseline_features['Attrition']  # Target variable\n",
    "\n",
    "# Convert the target variable to numeric (0 = \"No\", 1 = \"Yes\")\n",
    "label_encoder = LabelEncoder()\n",
    "y_baseline = label_encoder.fit_transform(y_baseline)  # \"No\" = 0, \"Yes\" = 1\n",
    "\n",
    "# Split the dataset into training+validation set and test set\n",
    "X_train_full_baseline, X_test_baseline, y_train_full_baseline, y_test_baseline = train_test_split(\n",
    "    X_baseline, y_baseline, test_size=0.2, stratify=y_baseline, random_state=42\n",
    ")\n",
    "\n",
    "# Apply SMOTE to handle class imbalance in the training set\n",
    "smote_baseline = SMOTE(random_state=42)\n",
    "X_train_resampled_baseline, y_train_resampled_baseline = smote_baseline.fit_resample(X_train_full_baseline, y_train_full_baseline)\n",
    "\n",
    "# Initialize the Random Forest classifier with optimal hyperparameters\n",
    "final_rf_classifier_baseline = RandomForestClassifier(\n",
    "    bootstrap=False,\n",
    "    max_depth=40,\n",
    "    max_features='sqrt',\n",
    "    min_samples_leaf=1,\n",
    "    min_samples_split=2,\n",
    "    n_estimators=150,\n",
    "    random_state=42\n",
    ")\n",
    "\n",
    "# Train the model on the resampled full training set\n",
    "final_rf_classifier_baseline.fit(X_train_resampled_baseline, y_train_resampled_baseline)\n",
    "\n",
    "# Predict on the test set\n",
    "y_test_pred_rf_baseline = final_rf_classifier_baseline.predict(X_test_baseline)\n",
    "y_test_pred_proba_rf_baseline = final_rf_classifier_baseline.predict_proba(X_test_baseline)[:, 1]  # Probabilities for AUC and AUC-PR\n",
    "\n",
    "# Test set performance metrics\n",
    "test_accuracy_rf_baseline = accuracy_score(y_test_baseline, y_test_pred_rf_baseline)\n",
    "test_recall_rf_baseline = recall_score(y_test_baseline, y_test_pred_rf_baseline, pos_label=1)\n",
    "test_f1_score_rf_baseline = f1_score(y_test_baseline, y_test_pred_rf_baseline, pos_label=1)\n",
    "\n",
    "# Compute AUC (Area Under the ROC Curve)\n",
    "auc_rf_baseline = roc_auc_score(y_test_baseline, y_test_pred_proba_rf_baseline)\n",
    "\n",
    "# Compute AUC-PR (Area Under the Precision-Recall Curve)\n",
    "auc_pr_rf_baseline = average_precision_score(y_test_baseline, y_test_pred_proba_rf_baseline)\n",
    "\n",
    "# Display test set evaluation metrics\n",
    "print(\"\\nTest Set Evaluation for Random Forest (with optimal parameters):\")\n",
    "print(f\"Accuracy: {test_accuracy_rf_baseline:.4f}\")\n",
    "print(f\"Recall: {test_recall_rf_baseline:.4f}\")\n",
    "print(f\"F1 Score: {test_f1_score_rf_baseline:.4f}\")\n",
    "print(f\"AUC (ROC): {auc_rf_baseline:.4f}\")\n",
    "print(f\"AUC-PR: {auc_pr_rf_baseline:.4f}\")\n",
    "\n"
   ]
  },
  {
   "cell_type": "markdown",
   "metadata": {
    "application/vnd.databricks.v1+cell": {
     "cellMetadata": {
      "byteLimit": 2048000,
      "rowLimit": 10000
     },
     "inputWidgets": {},
     "nuid": "daa73227-a958-41ef-9fde-c5926f649559",
     "showTitle": false,
     "tableResultSettingsMap": {},
     "title": ""
    }
   },
   "source": [
    "## Baseline Gradient Boosting Machine"
   ]
  },
  {
   "cell_type": "markdown",
   "metadata": {
    "application/vnd.databricks.v1+cell": {
     "cellMetadata": {},
     "inputWidgets": {},
     "nuid": "0e3e030e-7b06-4b47-a373-b5c40311e139",
     "showTitle": false,
     "tableResultSettingsMap": {},
     "title": ""
    }
   },
   "source": [
    "### Hyperparameter tuning"
   ]
  },
  {
   "cell_type": "code",
   "execution_count": 0,
   "metadata": {
    "application/vnd.databricks.v1+cell": {
     "cellMetadata": {
      "byteLimit": 2048000,
      "rowLimit": 10000
     },
     "inputWidgets": {},
     "nuid": "108c90f9-b9f6-481a-bff6-eceaffb10f41",
     "showTitle": false,
     "tableResultSettingsMap": {},
     "title": ""
    }
   },
   "outputs": [],
   "source": [
    "# Prepare the feature variables (X) and target variable (y) for baseline GBM\n",
    "X_baseline_gbm = df_employees_baseline_features.drop(columns=[\"Attrition\"])  # Features\n",
    "y_baseline_gbm = df_employees_baseline_features[\"Attrition\"]  # Target variable\n",
    "\n",
    "# Convert the target variable to numeric (0 = \"No\", 1 = \"Yes\") for baseline GBM\n",
    "label_encoder_baseline_gbm = LabelEncoder()\n",
    "y_baseline_gbm = label_encoder_baseline_gbm.fit_transform(y_baseline_gbm)  # \"No\" = 0, \"Yes\" = 1\n",
    "\n",
    "# Split the dataset into training+validation set and test set for baseline GBM\n",
    "X_train_full_baseline_gbm, X_test_baseline_gbm, y_train_full_baseline_gbm, y_test_baseline_gbm = train_test_split(\n",
    "    X_baseline_gbm, y_baseline_gbm, test_size=0.2, stratify=y_baseline_gbm, random_state=42\n",
    ")\n",
    "\n",
    "# Initialize StratifiedKFold for cross-validation on the training+validation set for baseline GBM\n",
    "stratified_kfold_baseline_gbm = StratifiedKFold(n_splits=5, shuffle=True, random_state=42)\n",
    "\n",
    "# Define the extended hyperparameter grid for baseline GBM\n",
    "param_grid_baseline_gbm = {\n",
    "    'n_estimators': [50, 100, 150, 200],           # Number of boosting iterations (trees)\n",
    "    'learning_rate': [0.01, 0.05, 0.1, 0.2],       # Learning rate (shrinkage)\n",
    "    'max_depth': [3, 6, 10, 15],                   # Maximum depth of the trees\n",
    "    'min_samples_split': [2, 5, 10, 15],           # Minimum number of samples required to split an internal node\n",
    "    'subsample': [0.6, 0.8, 1.0],                  # Fraction of samples used for fitting each tree\n",
    "}\n",
    "\n",
    "# Initialize Gradient Boosting Classifier for baseline GBM\n",
    "gbm_classifier_baseline = GradientBoostingClassifier(random_state=42)\n",
    "\n",
    "# Initialize GridSearchCV with StratifiedKFold and baseline GBM\n",
    "grid_search_baseline_gbm = GridSearchCV(\n",
    "    estimator=gbm_classifier_baseline, param_grid=param_grid_baseline_gbm, \n",
    "    scoring='recall', cv=stratified_kfold_baseline_gbm, n_jobs=-1, verbose=2\n",
    ")\n",
    "\n",
    "# Initialize lists to store metrics for baseline GBM\n",
    "accuracy_baseline_gbm = []\n",
    "recall_baseline_gbm = []\n",
    "f1_score_baseline_gbm = []\n",
    "\n",
    "# Perform stratified k-fold cross-validation on the training+validation set for baseline GBM\n",
    "for train_index, val_index in stratified_kfold_baseline_gbm.split(X_train_full_baseline_gbm, y_train_full_baseline_gbm):\n",
    "    X_train_gbm, X_val_gbm = (\n",
    "        X_train_full_baseline_gbm.iloc[train_index], \n",
    "        X_train_full_baseline_gbm.iloc[val_index]\n",
    "    )\n",
    "    y_train_gbm, y_val_gbm = (\n",
    "        y_train_full_baseline_gbm[train_index], \n",
    "        y_train_full_baseline_gbm[val_index]\n",
    "    )\n",
    "\n",
    "    # Apply SMOTE to the training data (oversampling for handling imbalanced classes) for baseline GBM\n",
    "    smote_gbm = SMOTE(random_state=42)\n",
    "    X_train_resampled_gbm, y_train_resampled_gbm = smote_gbm.fit_resample(X_train_gbm, y_train_gbm)\n",
    "\n",
    "    # Perform hyperparameter tuning with GridSearchCV on resampled data for baseline GBM\n",
    "    grid_search_baseline_gbm.fit(X_train_resampled_gbm, y_train_resampled_gbm)\n",
    "\n",
    "    # Get the best estimator (model with the best hyperparameters) for baseline GBM\n",
    "    best_model_baseline_gbm = grid_search_baseline_gbm.best_estimator_\n",
    "\n",
    "    # Make predictions on the validation set using the best model\n",
    "    y_val_pred_baseline_gbm = best_model_baseline_gbm.predict(X_val_gbm)\n",
    "\n",
    "    # Calculate metrics for the current fold\n",
    "    accuracy_baseline_gbm.append(accuracy_score(y_val_gbm, y_val_pred_baseline_gbm))\n",
    "    recall_baseline_gbm.append(recall_score(y_val_gbm, y_val_pred_baseline_gbm, pos_label=1))  # Use 1 for 'Yes'\n",
    "    f1_score_baseline_gbm.append(f1_score(y_val_gbm, y_val_pred_baseline_gbm, pos_label=1))  # Use 1 for 'Yes'\n",
    "\n",
    "# Calculate average metrics across all folds for baseline GBM\n",
    "avg_accuracy_baseline_gbm = np.mean(accuracy_baseline_gbm)\n",
    "avg_recall_baseline_gbm = np.mean(recall_baseline_gbm)\n",
    "avg_f1_score_baseline_gbm = np.mean(f1_score_baseline_gbm)\n",
    "\n",
    "# Display average metrics from cross-validation for baseline GBM\n",
    "print(\"\\nAverage Metrics for Gradient Boosting Baseline Model Across Stratified K-Fold Cross-Validation (With Hyperparameter Tuning):\")\n",
    "print(f\"Accuracy: {avg_accuracy_baseline_gbm:.4f}\")\n",
    "print(f\"Recall: {avg_recall_baseline_gbm:.4f}\")\n",
    "print(f\"F1 Score: {avg_f1_score_baseline_gbm:.4f}\")\n",
    "\n",
    "# Display the best hyperparameters found by GridSearchCV for baseline GBM\n",
    "print(\"\\nBest Hyperparameters from GridSearchCV for Baseline GBM:\")\n",
    "print(grid_search_baseline_gbm.best_params_)\n",
    "\n",
    "# ----------------------------------------------------\n",
    "# Evaluate the final model on the separate test set\n",
    "# ----------------------------------------------------\n",
    "\n",
    "# Apply SMOTE on the full training set (before retraining the final model)\n",
    "X_train_resampled_full_gbm, y_train_resampled_full_gbm = smote_gbm.fit_resample(\n",
    "    X_train_full_baseline_gbm, y_train_full_baseline_gbm\n",
    ")\n",
    "\n",
    "# Retrain the final model on the resampled full training set using best parameters for baseline GBM\n",
    "final_gbm_classifier_baseline = grid_search_baseline_gbm.best_estimator_  # Use the best model from GridSearchCV\n",
    "final_gbm_classifier_baseline.fit(X_train_resampled_full_gbm, y_train_resampled_full_gbm)\n",
    "\n",
    "# Predict on the test set for baseline GBM\n",
    "y_test_pred_baseline_gbm = final_gbm_classifier_baseline.predict(X_test_baseline_gbm)\n",
    "\n",
    "# Test set performance metrics for baseline GBM\n",
    "test_accuracy_baseline_gbm = accuracy_score(y_test_baseline_gbm, y_test_pred_baseline_gbm)\n",
    "test_recall_baseline_gbm = recall_score(y_test_baseline_gbm, y_test_pred_baseline_gbm, pos_label=1)\n",
    "test_f1_score_baseline_gbm = f1_score(y_test_baseline_gbm, y_test_pred_baseline_gbm, pos_label=1)\n",
    "\n",
    "# Display test set evaluation metrics for baseline GBM\n",
    "print(\"\\nBaseline Gradient Boosting Model Test Set Evaluation:\")\n",
    "print(f\"Accuracy: {test_accuracy_baseline_gbm:.4f}\")\n",
    "print(f\"Recall: {test_recall_baseline_gbm:.4f}\")\n",
    "print(f\"F1 Score: {test_f1_score_baseline_gbm:.4f}\")\n"
   ]
  },
  {
   "cell_type": "markdown",
   "metadata": {
    "application/vnd.databricks.v1+cell": {
     "cellMetadata": {},
     "inputWidgets": {},
     "nuid": "962cca9b-03b3-4b2f-8463-350ace461eef",
     "showTitle": false,
     "tableResultSettingsMap": {},
     "title": ""
    }
   },
   "source": [
    "### Model training optimal hyperparameters"
   ]
  },
  {
   "cell_type": "code",
   "execution_count": 0,
   "metadata": {
    "application/vnd.databricks.v1+cell": {
     "cellMetadata": {
      "byteLimit": 2048000,
      "rowLimit": 10000
     },
     "inputWidgets": {},
     "nuid": "260f352a-49a6-42a3-8075-167c2aa27835",
     "showTitle": false,
     "tableResultSettingsMap": {},
     "title": ""
    }
   },
   "outputs": [
    {
     "output_type": "stream",
     "name": "stdout",
     "output_type": "stream",
     "text": [
      "\nTest Set Evaluation for Gradient Boosting (with optimal parameters):\nAccuracy: 0.8992\nRecall: 0.7644\nF1 Score: 0.7967\nAUC (ROC): 0.9430\nAUC-PR: 0.8863\n"
     ]
    }
   ],
   "source": [
    "# Prepare the feature variables (X) and target variable (y)\n",
    "X_baseline_gbm = df_employees_baseline_features.drop(columns=['Attrition'])  # Features\n",
    "y_baseline_gbm = df_employees_baseline_features['Attrition']  # Target variable\n",
    "\n",
    "# Convert the target variable to numeric (0 = \"No\", 1 = \"Yes\")\n",
    "label_encoder_gbm = LabelEncoder()\n",
    "y_baseline_gbm = label_encoder_gbm.fit_transform(y_baseline_gbm)  # \"No\" = 0, \"Yes\" = 1\n",
    "\n",
    "# Split the dataset into training+validation set and test set\n",
    "X_train_full_baseline_gbm, X_test_baseline_gbm, y_train_full_baseline_gbm, y_test_baseline_gbm = train_test_split(\n",
    "    X_baseline_gbm, y_baseline_gbm, test_size=0.2, stratify=y_baseline_gbm, random_state=42\n",
    ")\n",
    "\n",
    "# Apply SMOTE to handle class imbalance in the training set\n",
    "smote_gbm = SMOTE(random_state=42)\n",
    "X_train_resampled_gbm, y_train_resampled_gbm = smote_gbm.fit_resample(X_train_full_baseline_gbm, y_train_full_baseline_gbm)\n",
    "\n",
    "# Initialize the Gradient Boosting Classifier with optimal hyperparameters\n",
    "final_gbm_classifier_baseline = GradientBoostingClassifier(\n",
    "    learning_rate=0.1,\n",
    "    max_depth=15,\n",
    "    min_samples_split=2,\n",
    "    n_estimators=150,\n",
    "    subsample=1.0,\n",
    "    random_state=42\n",
    ")\n",
    "\n",
    "# Train the model on the resampled full training set\n",
    "final_gbm_classifier_baseline.fit(X_train_resampled_gbm, y_train_resampled_gbm)\n",
    "\n",
    "# Predict on the test set\n",
    "y_test_pred_baseline_gbm = final_gbm_classifier_baseline.predict(X_test_baseline_gbm)\n",
    "y_test_pred_proba_baseline_gbm = final_gbm_classifier_baseline.predict_proba(X_test_baseline_gbm)[:, 1]  # Probabilities for AUC and AUC-PR\n",
    "\n",
    "# Test set performance metrics\n",
    "test_accuracy_baseline_gbm = accuracy_score(y_test_baseline_gbm, y_test_pred_baseline_gbm)\n",
    "test_recall_baseline_gbm = recall_score(y_test_baseline_gbm, y_test_pred_baseline_gbm, pos_label=1)\n",
    "test_f1_score_baseline_gbm = f1_score(y_test_baseline_gbm, y_test_pred_baseline_gbm, pos_label=1)\n",
    "\n",
    "# Display test set evaluation metrics\n",
    "print(\"\\nTest Set Evaluation for Gradient Boosting (with optimal parameters):\")\n",
    "print(f\"Accuracy: {test_accuracy_baseline_gbm:.4f}\")\n",
    "print(f\"Recall: {test_recall_baseline_gbm:.4f}\")\n",
    "print(f\"F1 Score: {test_f1_score_baseline_gbm:.4f}\")\n",
    "\n"
   ]
  },
  {
   "cell_type": "markdown",
   "metadata": {
    "application/vnd.databricks.v1+cell": {
     "cellMetadata": {
      "byteLimit": 2048000,
      "rowLimit": 10000
     },
     "inputWidgets": {},
     "nuid": "424dec94-f6a6-4497-9744-edf6f9864b69",
     "showTitle": false,
     "tableResultSettingsMap": {},
     "title": ""
    }
   },
   "source": [
    "## Baseline XGBoost"
   ]
  },
  {
   "cell_type": "markdown",
   "metadata": {
    "application/vnd.databricks.v1+cell": {
     "cellMetadata": {},
     "inputWidgets": {},
     "nuid": "a6a5aff1-3ef7-4c7c-9b98-0e35ed72b31b",
     "showTitle": false,
     "tableResultSettingsMap": {},
     "title": ""
    }
   },
   "source": [
    "### Hyperparameter tuning"
   ]
  },
  {
   "cell_type": "code",
   "execution_count": 0,
   "metadata": {
    "application/vnd.databricks.v1+cell": {
     "cellMetadata": {
      "byteLimit": 2048000,
      "rowLimit": 10000
     },
     "inputWidgets": {},
     "nuid": "bbdd1efc-7e9f-4daf-b05d-7abdd70a65f1",
     "showTitle": false,
     "tableResultSettingsMap": {},
     "title": ""
    }
   },
   "outputs": [],
   "source": [
    "# Prepare the feature variables (X) and target variable (y)\n",
    "X_baseline_xgb = df_employees_baseline_features.drop(columns=[\"Attrition\"])  # Features\n",
    "y_baseline_xgb = df_employees_baseline_features[\"Attrition\"]  # Target variable\n",
    "\n",
    "# Convert the target variable to numeric (0 = \"No\", 1 = \"Yes\")\n",
    "label_encoder_baseline_xgb = LabelEncoder()\n",
    "y_baseline_xgb = label_encoder_baseline_xgb.fit_transform(y_baseline_xgb)  # \"No\" = 0, \"Yes\" = 1\n",
    "\n",
    "# Split the dataset into training+validation set and test set\n",
    "X_train_full_baseline_xgb, X_test_baseline_xgb, y_train_full_baseline_xgb, y_test_baseline_xgb = train_test_split(\n",
    "    X_baseline_xgb, y_baseline_xgb, test_size=0.2, stratify=y_baseline_xgb, random_state=42\n",
    ")\n",
    "\n",
    "# Initialize StratifiedKFold for cross-validation\n",
    "stratified_kfold_baseline_xgb = StratifiedKFold(n_splits=5, shuffle=True, random_state=42)\n",
    "\n",
    "# Define the hyperparameter grid for XGBoost\n",
    "param_grid_baseline_xgb = {\n",
    "    'n_estimators': [50, 100, 150, 200],          # Number of boosting rounds (trees)\n",
    "    'learning_rate': [0.01, 0.05, 0.1, 0.3, 0.5],      # Learning rate (shrinkage)\n",
    "    'max_depth': [6, 10, 12, 15],                  # Maximum depth of a tree\n",
    "    'subsample': [0.6, 0.8, 1.0],             # Fraction of samples used for fitting trees\n",
    "    'colsample_bytree': [0.6, 0.8, 1.0],     # Fraction of features used for fitting each tree\n",
    "}\n",
    "\n",
    "# Initialize lists to store metrics for each fold\n",
    "accuracy_baseline_xgb = []\n",
    "recall_baseline_xgb = []\n",
    "f1_score_baseline_xgb = []\n",
    "\n",
    "# Perform stratified k-fold cross-validation with hyperparameter tuning\n",
    "fold = 1\n",
    "for train_index, val_index in stratified_kfold_baseline_xgb.split(X_train_full_baseline_xgb, y_train_full_baseline_xgb):\n",
    "    print(f\"\\nStarting Fold {fold}...\")\n",
    "\n",
    "    # Split into training and validation subsets\n",
    "    X_train_xgb, X_val_xgb = (\n",
    "        X_train_full_baseline_xgb.iloc[train_index],\n",
    "        X_train_full_baseline_xgb.iloc[val_index],\n",
    "    )\n",
    "    y_train_xgb, y_val_xgb = (\n",
    "        y_train_full_baseline_xgb[train_index],\n",
    "        y_train_full_baseline_xgb[val_index],\n",
    "    )\n",
    "\n",
    "    # Apply SMOTE to the training data\n",
    "    smote_baseline_xgb = SMOTE(random_state=42)\n",
    "    X_train_resampled_xgb, y_train_resampled_xgb = smote_baseline_xgb.fit_resample(X_train_xgb, y_train_xgb)\n",
    "\n",
    "    # Initialize XGBoost classifier\n",
    "    xgb_classifier_baseline = XGBClassifier(\n",
    "        random_state=42, \n",
    "        use_label_encoder=False, \n",
    "        eval_metric=\"logloss\"\n",
    "    )\n",
    "\n",
    "    # Initialize GridSearchCV with StratifiedKFold\n",
    "    grid_search_baseline_xgb = GridSearchCV(\n",
    "        estimator=xgb_classifier_baseline,\n",
    "        param_grid=param_grid_baseline_xgb,\n",
    "        scoring=\"recall\",\n",
    "        cv=stratified_kfold_baseline_xgb,\n",
    "        n_jobs=-1,\n",
    "        verbose=2,\n",
    "    )\n",
    "\n",
    "    # Perform hyperparameter tuning on resampled training data\n",
    "    grid_search_baseline_xgb.fit(X_train_resampled_xgb, y_train_resampled_xgb)\n",
    "\n",
    "    # Get the best estimator from GridSearchCV\n",
    "    best_xgb_model_baseline = grid_search_baseline_xgb.best_estimator_\n",
    "\n",
    "    # Make predictions on the validation set\n",
    "    y_val_pred_baseline_xgb = best_xgb_model_baseline.predict(X_val_xgb)\n",
    "\n",
    "    # Calculate metrics for the current fold\n",
    "    accuracy_baseline_xgb.append(accuracy_score(y_val_xgb, y_val_pred_baseline_xgb))\n",
    "    recall_baseline_xgb.append(recall_score(y_val_xgb, y_val_pred_baseline_xgb, pos_label=1))  # Assuming 'Yes' = 1\n",
    "    f1_score_baseline_xgb.append(f1_score(y_val_xgb, y_val_pred_baseline_xgb, pos_label=1))  # Assuming 'Yes' = 1\n",
    "\n",
    "    # Print fold metrics\n",
    "    print(f\"Fold {fold} - Accuracy: {accuracy_baseline_xgb[-1]:.4f}, Recall: {recall_baseline_xgb[-1]:.4f}, F1 Score: {f1_score_baseline_xgb[-1]:.4f}\")\n",
    "\n",
    "    # Increment fold counter\n",
    "    fold += 1\n",
    "\n",
    "# Calculate average metrics across all folds\n",
    "avg_accuracy_baseline_xgb = np.mean(accuracy_baseline_xgb)\n",
    "avg_recall_baseline_xgb = np.mean(recall_baseline_xgb)\n",
    "avg_f1_score_baseline_xgb = np.mean(f1_score_baseline_xgb)\n",
    "\n",
    "# Display cross-validation results\n",
    "print(\"\\nAverage Metrics for XGBoost Baseline Model Across Stratified K-Fold Cross-Validation (With Hyperparameter Tuning):\")\n",
    "print(f\"Accuracy: {avg_accuracy_baseline_xgb:.4f}\")\n",
    "print(f\"Recall: {avg_recall_baseline_xgb:.4f}\")\n",
    "print(f\"F1 Score: {avg_f1_score_baseline_xgb:.4f}\")\n",
    "\n",
    "# Display the best hyperparameters found by GridSearchCV\n",
    "print(\"\\nBest Hyperparameters from GridSearchCV:\")\n",
    "print(grid_search_baseline_xgb.best_params_)\n",
    "\n",
    "# ----------------------------------------------------\n",
    "# Retrain the final model on the full training set\n",
    "# ----------------------------------------------------\n",
    "\n",
    "# Apply SMOTE on the full training+validation set\n",
    "smote_baseline_xgb = SMOTE(random_state=42)\n",
    "X_train_resampled_baseline_xgb, y_train_resampled_baseline_xgb = smote_baseline_xgb.fit_resample(\n",
    "    X_train_full_baseline_xgb, y_train_full_baseline_xgb\n",
    ")\n",
    "\n",
    "# Retrain the model on the resampled full training+validation set\n",
    "final_xgb_classifier_baseline = grid_search_baseline_xgb.best_estimator_\n",
    "final_xgb_classifier_baseline.fit(X_train_resampled_baseline_xgb, y_train_resampled_baseline_xgb)\n",
    "\n",
    "# Predict on the test set\n",
    "y_test_pred_baseline_xgb = final_xgb_classifier_baseline.predict(X_test_baseline_xgb)\n",
    "\n",
    "# Test set performance metrics\n",
    "test_accuracy_baseline_xgb = accuracy_score(y_test_baseline_xgb, y_test_pred_baseline_xgb)\n",
    "test_recall_baseline_xgb = recall_score(y_test_baseline_xgb, y_test_pred_baseline_xgb, pos_label=1)\n",
    "test_f1_score_baseline_xgb = f1_score(y_test_baseline_xgb, y_test_pred_baseline_xgb, pos_label=1)\n",
    "\n",
    "# Display test set evaluation metrics\n",
    "print(\"\\nBaseline XGBoost Model Test Set Evaluation:\")\n",
    "print(f\"Accuracy: {test_accuracy_baseline_xgb:.4f}\")\n",
    "print(f\"Recall: {test_recall_baseline_xgb:.4f}\")\n",
    "print(f\"F1 Score: {test_f1_score_baseline_xgb:.4f}\")\n"
   ]
  },
  {
   "cell_type": "markdown",
   "metadata": {
    "application/vnd.databricks.v1+cell": {
     "cellMetadata": {},
     "inputWidgets": {},
     "nuid": "61813f55-dd34-4593-b289-79f8a5ceb583",
     "showTitle": false,
     "tableResultSettingsMap": {},
     "title": ""
    }
   },
   "source": [
    "### Model training optimal hyperparameters"
   ]
  },
  {
   "cell_type": "code",
   "execution_count": 0,
   "metadata": {
    "application/vnd.databricks.v1+cell": {
     "cellMetadata": {
      "byteLimit": 2048000,
      "rowLimit": 10000
     },
     "inputWidgets": {},
     "nuid": "abf97335-fc6c-4c5b-8606-8615503c0931",
     "showTitle": false,
     "tableResultSettingsMap": {},
     "title": ""
    }
   },
   "outputs": [
    {
     "output_type": "stream",
     "name": "stderr",
     "output_type": "stream",
     "text": [
      "/local_disk0/.ephemeral_nfs/envs/pythonEnv-8d00c0f9-fbe3-4faf-ba0b-0ae1cc6977de/lib/python3.11/site-packages/xgboost/core.py:158: UserWarning: [10:57:16] WARNING: /workspace/src/learner.cc:740: \nParameters: { \"use_label_encoder\" } are not used.\n\n  warnings.warn(smsg, UserWarning)\n"
     ]
    },
    {
     "output_type": "stream",
     "name": "stdout",
     "output_type": "stream",
     "text": [
      "\nBaseline XGBoost Model Test Set Evaluation:\nAccuracy: 0.8982\nRecall: 0.7604\nF1 Score: 0.7942\n"
     ]
    }
   ],
   "source": [
    "# Prepare the feature variables (X) and target variable (y)\n",
    "X_baseline_xgb = df_employees_baseline_features.drop(columns=[\"Attrition\"])  # Features\n",
    "y_baseline_xgb = df_employees_baseline_features[\"Attrition\"]  # Target variable\n",
    "\n",
    "# Convert the target variable to numeric (0 = \"No\", 1 = \"Yes\")\n",
    "label_encoder_xgb = LabelEncoder()\n",
    "y_baseline_xgb = label_encoder_xgb.fit_transform(y_baseline_xgb)  # \"No\" = 0, \"Yes\" = 1\n",
    "\n",
    "# Split the dataset into training+validation set and test set\n",
    "X_train_full_baseline_xgb, X_test_baseline_xgb, y_train_full_baseline_xgb, y_test_baseline_xgb = train_test_split(\n",
    "    X_baseline_xgb, y_baseline_xgb, test_size=0.2, stratify=y_baseline_xgb, random_state=42\n",
    ")\n",
    "\n",
    "# Apply SMOTE to the training data\n",
    "smote = SMOTE(random_state=42)\n",
    "X_train_resampled_xgb, y_train_resampled_xgb = smote.fit_resample(X_train_full_baseline_xgb, y_train_full_baseline_xgb)\n",
    "\n",
    "# Create an XGBoost Classifier with the optimal hyperparameters\n",
    "xgb_classifier_baseline = XGBClassifier(\n",
    "    colsample_bytree=1.0,\n",
    "    learning_rate=0.5,\n",
    "    max_depth=15,\n",
    "    n_estimators=50,\n",
    "    subsample=1.0,\n",
    "    use_label_encoder=False,\n",
    "    eval_metric=\"logloss\",\n",
    "    random_state=42\n",
    ")\n",
    "\n",
    "# Train the model on the resampled training set\n",
    "xgb_classifier_baseline.fit(X_train_resampled_xgb, y_train_resampled_xgb)\n",
    "\n",
    "# Predict on the separate test set\n",
    "y_test_pred_xgb_baseline = xgb_classifier_baseline.predict(X_test_baseline_xgb)\n",
    "\n",
    "# Test set performance metrics\n",
    "test_accuracy_baseline_xgb = accuracy_score(y_test_baseline_xgb, y_test_pred_xgb_baseline)\n",
    "test_recall_baseline_xgb = recall_score(y_test_baseline_xgb, y_test_pred_xgb_baseline, pos_label=1)\n",
    "test_f1_score_baseline_xgb = f1_score(y_test_baseline_xgb, y_test_pred_xgb_baseline, pos_label=1)\n",
    "\n",
    "# Display test set evaluation metrics\n",
    "print(\"\\nBaseline XGBoost Model Test Set Evaluation:\")\n",
    "print(f\"Accuracy: {test_accuracy_baseline_xgb:.4f}\")\n",
    "print(f\"Recall: {test_recall_baseline_xgb:.4f}\")\n",
    "print(f\"F1 Score: {test_f1_score_baseline_xgb:.4f}\")\n",
    "\n",
    "\n",
    "\n",
    "\n"
   ]
  },
  {
   "cell_type": "markdown",
   "metadata": {
    "application/vnd.databricks.v1+cell": {
     "cellMetadata": {
      "byteLimit": 2048000,
      "rowLimit": 10000
     },
     "inputWidgets": {},
     "nuid": "00958245-8c2f-4c1e-b19e-9767481e5238",
     "showTitle": false,
     "tableResultSettingsMap": {},
     "title": ""
    }
   },
   "source": [
    "## Baseline Catboost"
   ]
  },
  {
   "cell_type": "markdown",
   "metadata": {
    "application/vnd.databricks.v1+cell": {
     "cellMetadata": {},
     "inputWidgets": {},
     "nuid": "fd87d460-6add-4134-8fc7-9c1540c83963",
     "showTitle": false,
     "tableResultSettingsMap": {},
     "title": ""
    }
   },
   "source": [
    "### Hyperparameter tuning"
   ]
  },
  {
   "cell_type": "code",
   "execution_count": 0,
   "metadata": {
    "application/vnd.databricks.v1+cell": {
     "cellMetadata": {
      "byteLimit": 2048000,
      "rowLimit": 10000
     },
     "inputWidgets": {},
     "nuid": "b1d5aa7f-f999-4c8f-82ee-62facc03eff6",
     "showTitle": false,
     "tableResultSettingsMap": {},
     "title": ""
    }
   },
   "outputs": [],
   "source": [
    "# Prepare the feature variables (X) and target variable (y) for Baseline CatBoost\n",
    "X_baseline_catboost = df_employees_baseline_features.drop(columns=[\"Attrition\"])  # Features\n",
    "y_baseline_catboost = df_employees_baseline_features[\"Attrition\"]  # Target variable\n",
    "\n",
    "# Convert the target variable to numeric (0 = \"No\", 1 = \"Yes\")\n",
    "label_encoder_baseline_catboost = LabelEncoder()\n",
    "y_baseline_catboost = label_encoder_baseline_catboost.fit_transform(y_baseline_catboost)  # \"No\" = 0, \"Yes\" = 1\n",
    "\n",
    "# Split the dataset into training+validation set and test set\n",
    "X_train_full_baseline_catboost, X_test_baseline_catboost, y_train_full_baseline_catboost, y_test_baseline_catboost = train_test_split(\n",
    "    X_baseline_catboost, y_baseline_catboost, test_size=0.2, stratify=y_baseline_catboost, random_state=42\n",
    ")\n",
    "\n",
    "# Initialize StratifiedKFold for cross-validation\n",
    "stratified_kfold_baseline_catboost = StratifiedKFold(n_splits=5, shuffle=True, random_state=42)\n",
    "\n",
    "# ---------------------------------------------------\n",
    "# Define the hyperparameter grid for CatBoost\n",
    "# ---------------------------------------------------\n",
    "param_grid_baseline_catboost = {\n",
    "    'iterations': [500, 1000, 1500],              # Number of boosting iterations\n",
    "    'learning_rate': [0.05, 0.1, 0.3, 0.5],      # Learning rate\n",
    "    'depth': [4, 6, 8],                          # Depth of trees\n",
    "    'l2_leaf_reg': [3, 5, 7],                    # L2 regularization coefficient\n",
    "    'border_count': [32, 50, 128]                # Number of splits for numerical features\n",
    "}\n",
    "\n",
    "# ---------------------------------------------------\n",
    "# Initialize lists to store metrics for each fold\n",
    "# ---------------------------------------------------\n",
    "accuracy_baseline_catboost = []\n",
    "recall_baseline_catboost = []\n",
    "f1_score_baseline_catboost = []\n",
    "\n",
    "# Perform stratified k-fold cross-validation with hyperparameter tuning\n",
    "fold = 1\n",
    "for train_index, val_index in stratified_kfold_baseline_catboost.split(X_train_full_baseline_catboost, y_train_full_baseline_catboost):\n",
    "    print(f\"\\nStarting Fold {fold}...\")\n",
    "\n",
    "    # Split into training and validation subsets\n",
    "    X_train_catboost, X_val_catboost = (\n",
    "        X_train_full_baseline_catboost.iloc[train_index],\n",
    "        X_train_full_baseline_catboost.iloc[val_index],\n",
    "    )\n",
    "    y_train_catboost, y_val_catboost = (\n",
    "        y_train_full_baseline_catboost[train_index],\n",
    "        y_train_full_baseline_catboost[val_index],\n",
    "    )\n",
    "\n",
    "    # Apply SMOTE to the training data\n",
    "    smote_baseline_catboost = SMOTE(random_state=42)\n",
    "    X_train_resampled_catboost, y_train_resampled_catboost = smote_baseline_catboost.fit_resample(X_train_catboost, y_train_catboost)\n",
    "\n",
    "    # Initialize the CatBoostClassifier\n",
    "    catboost_classifier_baseline = CatBoostClassifier(verbose=0, random_seed=42)\n",
    "\n",
    "    # Initialize GridSearchCV with StratifiedKFold\n",
    "    grid_search_baseline_catboost = GridSearchCV(\n",
    "        estimator=catboost_classifier_baseline,\n",
    "        param_grid=param_grid_baseline_catboost,  # Use the new hyperparameter grid\n",
    "        scoring=\"recall\",\n",
    "        cv=stratified_kfold_baseline_catboost,\n",
    "        n_jobs=-1,\n",
    "        verbose=2,\n",
    "    )\n",
    "\n",
    "    # Perform hyperparameter tuning on resampled training data\n",
    "    grid_search_baseline_catboost.fit(X_train_resampled_catboost, y_train_resampled_catboost)\n",
    "\n",
    "    # Get the best estimator from GridSearchCV\n",
    "    best_catboost_model_baseline = grid_search_baseline_catboost.best_estimator_\n",
    "\n",
    "    # Make predictions on the validation set\n",
    "    y_val_pred_baseline_catboost = best_catboost_model_baseline.predict(X_val_catboost)\n",
    "\n",
    "    # Calculate metrics for the current fold\n",
    "    accuracy_baseline_catboost.append(accuracy_score(y_val_catboost, y_val_pred_baseline_catboost))\n",
    "    recall_baseline_catboost.append(recall_score(y_val_catboost, y_val_pred_baseline_catboost, pos_label=1))  # Assuming 'Yes' = 1\n",
    "    f1_score_baseline_catboost.append(f1_score(y_val_catboost, y_val_pred_baseline_catboost, pos_label=1))  # Assuming 'Yes' = 1\n",
    "\n",
    "    # Print fold metrics\n",
    "    print(f\"Fold {fold} - Accuracy: {accuracy_baseline_catboost[-1]:.4f}, Recall: {recall_baseline_catboost[-1]:.4f}, F1 Score: {f1_score_baseline_catboost[-1]:.4f}\")\n",
    "\n",
    "    # Increment fold counter\n",
    "    fold += 1\n",
    "\n",
    "# ---------------------------------------------------\n",
    "# Calculate average metrics across all folds\n",
    "# ---------------------------------------------------\n",
    "avg_accuracy_baseline_catboost = np.mean(accuracy_baseline_catboost)\n",
    "avg_recall_baseline_catboost = np.mean(recall_baseline_catboost)\n",
    "avg_f1_score_baseline_catboost = np.mean(f1_score_baseline_catboost)\n",
    "\n",
    "# Display cross-validation results\n",
    "print(\"\\nAverage Metrics for Baseline CatBoost Across Stratified K-Fold Cross-Validation (With Hyperparameter Tuning):\")\n",
    "print(f\"Accuracy: {avg_accuracy_baseline_catboost:.4f}\")\n",
    "print(f\"Recall: {avg_recall_baseline_catboost:.4f}\")\n",
    "print(f\"F1 Score: {avg_f1_score_baseline_catboost:.4f}\")\n",
    "\n",
    "# Display the best hyperparameters found by GridSearchCV\n",
    "print(\"\\nBest Hyperparameters from GridSearchCV for Baseline CatBoost:\")\n",
    "print(grid_search_baseline_catboost.best_params_)\n",
    "\n",
    "# ---------------------------------------------------\n",
    "# Retrain the final model on the full training set\n",
    "# ---------------------------------------------------\n",
    "# Apply SMOTE on the full training+validation set\n",
    "smote_baseline_catboost = SMOTE(random_state=42)\n",
    "X_train_resampled_baseline_catboost, y_train_resampled_baseline_catboost = smote_baseline_catboost.fit_resample(\n",
    "    X_train_full_baseline_catboost, y_train_full_baseline_catboost\n",
    ")\n",
    "\n",
    "# Retrain the model on the resampled full training+validation set\n",
    "final_catboost_classifier_baseline = grid_search_baseline_catboost.best_estimator_\n",
    "final_catboost_classifier_baseline.fit(X_train_resampled_baseline_catboost, y_train_resampled_baseline_catboost)\n",
    "\n",
    "# ---------------------------------------------------\n",
    "# Evaluate the final model on the separate test set\n",
    "# ---------------------------------------------------\n",
    "y_test_pred_baseline_catboost = final_catboost_classifier_baseline.predict(X_test_baseline_catboost)\n",
    "\n",
    "# Test set performance metrics\n",
    "test_accuracy_baseline_catboost = accuracy_score(y_test_baseline_catboost, y_test_pred_baseline_catboost)\n",
    "test_recall_baseline_catboost = recall_score(y_test_baseline_catboost, y_test_pred_baseline_catboost, pos_label=1)\n",
    "test_f1_score_baseline_catboost = f1_score(y_test_baseline_catboost, y_test_pred_baseline_catboost, pos_label=1)\n",
    "\n",
    "# Display test set evaluation metrics\n",
    "print(\"\\nBaseline CatBoost Model Test Set Evaluation:\")\n",
    "print(f\"Accuracy: {test_accuracy_baseline_catboost:.4f}\")\n",
    "print(f\"Recall: {test_recall_baseline_catboost:.4f}\")\n",
    "print(f\"F1 Score: {test_f1_score_baseline_catboost:.4f}\")\n"
   ]
  },
  {
   "cell_type": "markdown",
   "metadata": {
    "application/vnd.databricks.v1+cell": {
     "cellMetadata": {},
     "inputWidgets": {},
     "nuid": "7b0d03a3-f1fb-4810-b4af-cb94706529fa",
     "showTitle": false,
     "tableResultSettingsMap": {},
     "title": ""
    }
   },
   "source": [
    "### Model training optimal hyperparameters"
   ]
  },
  {
   "cell_type": "code",
   "execution_count": 0,
   "metadata": {
    "application/vnd.databricks.v1+cell": {
     "cellMetadata": {
      "byteLimit": 2048000,
      "rowLimit": 10000
     },
     "inputWidgets": {},
     "nuid": "946668a7-cf75-4514-ad3e-0a61801599b2",
     "showTitle": false,
     "tableResultSettingsMap": {},
     "title": ""
    }
   },
   "outputs": [
    {
     "output_type": "stream",
     "name": "stdout",
     "output_type": "stream",
     "text": [
      "\nBaseline CatBoost Model Test Set Evaluation:\nAccuracy: 0.9023\nRecall: 0.7624\nF1 Score: 0.8012\n"
     ]
    }
   ],
   "source": [
    "# Prepare the feature variables (X) and target variable (y)\n",
    "X_baseline_catboost = df_employees_baseline_features.drop(columns=[\"Attrition\"])  # Features\n",
    "y_baseline_catboost = df_employees_baseline_features[\"Attrition\"]  # Target variable\n",
    "\n",
    "# Convert the target variable to numeric (0 = \"No\", 1 = \"Yes\")\n",
    "label_encoder_catboost = LabelEncoder()\n",
    "y_baseline_catboost = label_encoder_catboost.fit_transform(y_baseline_catboost)  # \"No\" = 0, \"Yes\" = 1\n",
    "\n",
    "# Split the dataset into training+validation set and test set\n",
    "X_train_full_baseline_catboost, X_test_baseline_catboost, y_train_full_baseline_catboost, y_test_baseline_catboost = train_test_split(\n",
    "    X_baseline_catboost, y_baseline_catboost, test_size=0.2, stratify=y_baseline_catboost, random_state=42\n",
    ")\n",
    "\n",
    "# Apply SMOTE to the training data\n",
    "smote = SMOTE(random_state=42)\n",
    "X_train_resampled_catboost, y_train_resampled_catboost = smote.fit_resample(X_train_full_baseline_catboost, y_train_full_baseline_catboost)\n",
    "\n",
    "# Create a CatBoost Classifier with the optimal hyperparameters\n",
    "catboost_classifier_baseline = CatBoostClassifier(\n",
    "    border_count=128,\n",
    "    depth=6,\n",
    "    iterations=500,\n",
    "    l2_leaf_reg=7,\n",
    "    learning_rate=0.3,\n",
    "    cat_features=[],  # Assuming there are no categorical features or list them if applicable\n",
    "    random_state=42,\n",
    "    silent=True  # Suppresses verbose output during training\n",
    ")\n",
    "\n",
    "# Train the model on the resampled training set\n",
    "catboost_classifier_baseline.fit(X_train_resampled_catboost, y_train_resampled_catboost)\n",
    "\n",
    "# Predict on the separate test set\n",
    "y_test_pred_catboost_baseline = catboost_classifier_baseline.predict(X_test_baseline_catboost)\n",
    "\n",
    "# Test set performance metrics\n",
    "test_accuracy_baseline_catboost = accuracy_score(y_test_baseline_catboost, y_test_pred_catboost_baseline)\n",
    "test_recall_baseline_catboost = recall_score(y_test_baseline_catboost, y_test_pred_catboost_baseline, pos_label=1)\n",
    "test_f1_score_baseline_catboost = f1_score(y_test_baseline_catboost, y_test_pred_catboost_baseline, pos_label=1)\n",
    "\n",
    "# Display test set evaluation metrics\n",
    "print(\"\\nBaseline CatBoost Model Test Set Evaluation:\")\n",
    "print(f\"Accuracy: {test_accuracy_baseline_catboost:.4f}\")\n",
    "print(f\"Recall: {test_recall_baseline_catboost:.4f}\")\n",
    "print(f\"F1 Score: {test_f1_score_baseline_catboost:.4f}\")\n",
    "\n",
    "\n",
    "\n"
   ]
  },
  {
   "cell_type": "markdown",
   "metadata": {
    "application/vnd.databricks.v1+cell": {
     "cellMetadata": {
      "byteLimit": 2048000,
      "rowLimit": 10000
     },
     "inputWidgets": {},
     "nuid": "788fd8a1-8a91-46e4-9288-9347a421df13",
     "showTitle": false,
     "tableResultSettingsMap": {},
     "title": ""
    }
   },
   "source": [
    "## Baseline LightGBM"
   ]
  },
  {
   "cell_type": "markdown",
   "metadata": {
    "application/vnd.databricks.v1+cell": {
     "cellMetadata": {},
     "inputWidgets": {},
     "nuid": "c9d460df-f0a6-4c21-ba2e-2f353afa7bee",
     "showTitle": false,
     "tableResultSettingsMap": {},
     "title": ""
    }
   },
   "source": [
    "### Hyperparameter tuning"
   ]
  },
  {
   "cell_type": "code",
   "execution_count": 0,
   "metadata": {
    "application/vnd.databricks.v1+cell": {
     "cellMetadata": {
      "byteLimit": 2048000,
      "rowLimit": 10000
     },
     "inputWidgets": {},
     "nuid": "d6f5ca1e-45cb-4ad1-9a97-b35290bafce6",
     "showTitle": false,
     "tableResultSettingsMap": {},
     "title": ""
    }
   },
   "outputs": [],
   "source": [
    "X_baseline_lgbm = df_employees_baseline_features.drop(columns=[\"Attrition\"])  # Features\n",
    "y_baseline_lgbm = df_employees_baseline_features[\"Attrition\"]  # Target variable\n",
    "\n",
    "# Convert the target variable to numeric (0 = \"No\", 1 = \"Yes\")\n",
    "label_encoder_baseline_lgbm = LabelEncoder()\n",
    "y_baseline_lgbm = label_encoder_baseline_lgbm.fit_transform(y_baseline_lgbm)  # \"No\" = 0, \"Yes\" = 1\n",
    "\n",
    "# Split the dataset into training+validation set and test set\n",
    "X_train_full_baseline_lgbm, X_test_baseline_lgbm, y_train_full_baseline_lgbm, y_test_baseline_lgbm = train_test_split(\n",
    "    X_baseline_lgbm, y_baseline_lgbm, test_size=0.2, stratify=y_baseline_lgbm, random_state=42\n",
    ")\n",
    "\n",
    "# Initialize StratifiedKFold for cross-validation\n",
    "stratified_kfold_baseline_lgbm = StratifiedKFold(n_splits=2, shuffle=True, random_state=42)\n",
    "\n",
    "# ---------------------------------------------------\n",
    "# Define the hyperparameter grid for LGBM\n",
    "# ---------------------------------------------------\n",
    "param_grid_baseline_lgbm = {\n",
    "    'n_estimators': [50, 100, 150, 200],         # Number of boosting rounds (trees)\n",
    "    'learning_rate': [0.05, 0.1, 0.3, 0.5],     # Learning rate (shrinkage)\n",
    "    'max_depth': [-1, 3, 6, 10, 12, 15],         # Maximum depth of a tree\n",
    "    'num_leaves': [20, 31, 50, 100],             # Number of leaves in one tree\n",
    "    'subsample': [0.6, 0.8, 1.0],                # Fraction of samples used for fitting trees\n",
    "}\n",
    "\n",
    "# ---------------------------------------------------\n",
    "# Initialize lists to store metrics for each fold\n",
    "# ---------------------------------------------------\n",
    "accuracy_baseline_lgbm = []\n",
    "recall_baseline_lgbm = []\n",
    "f1_score_baseline_lgbm = []\n",
    "\n",
    "# Perform stratified k-fold cross-validation with hyperparameter tuning\n",
    "fold = 1\n",
    "for train_index, val_index in stratified_kfold_baseline_lgbm.split(X_train_full_baseline_lgbm, y_train_full_baseline_lgbm):\n",
    "    print(f\"\\nStarting Fold {fold}...\")\n",
    "\n",
    "    # Split into training and validation subsets\n",
    "    X_train_lgbm, X_val_lgbm = (\n",
    "        X_train_full_baseline_lgbm.iloc[train_index],\n",
    "        X_train_full_baseline_lgbm.iloc[val_index],\n",
    "    )\n",
    "    y_train_lgbm, y_val_lgbm = (\n",
    "        y_train_full_baseline_lgbm[train_index],\n",
    "        y_train_full_baseline_lgbm[val_index],\n",
    "    )\n",
    "\n",
    "    # Apply SMOTE to the training data\n",
    "    smote_baseline_lgbm = SMOTE(random_state=42)\n",
    "    X_train_resampled_lgbm, y_train_resampled_lgbm = smote_baseline_lgbm.fit_resample(X_train_lgbm, y_train_lgbm)\n",
    "\n",
    "    # Initialize the LGBMClassifier\n",
    "    lgbm_classifier_baseline = LGBMClassifier(random_state=42)\n",
    "\n",
    "    # Initialize GridSearchCV with StratifiedKFold\n",
    "    grid_search_baseline_lgbm = GridSearchCV(\n",
    "        estimator=lgbm_classifier_baseline,\n",
    "        param_grid=param_grid_baseline_lgbm,  # Use the new hyperparameter grid\n",
    "        scoring=\"recall\",\n",
    "        cv=stratified_kfold_baseline_lgbm,\n",
    "        n_jobs=-1,\n",
    "        verbose=2,\n",
    "    )\n",
    "\n",
    "    # Perform hyperparameter tuning on resampled training data\n",
    "    grid_search_baseline_lgbm.fit(X_train_resampled_lgbm, y_train_resampled_lgbm)\n",
    "\n",
    "    # Get the best estimator from GridSearchCV\n",
    "    best_lgbm_model_baseline = grid_search_baseline_lgbm.best_estimator_\n",
    "\n",
    "    # Make predictions on the validation set\n",
    "    y_val_pred_baseline_lgbm = best_lgbm_model_baseline.predict(X_val_lgbm)\n",
    "\n",
    "    # Calculate metrics for the current fold\n",
    "    accuracy_baseline_lgbm.append(accuracy_score(y_val_lgbm, y_val_pred_baseline_lgbm))\n",
    "    recall_baseline_lgbm.append(recall_score(y_val_lgbm, y_val_pred_baseline_lgbm, pos_label=1))  # Assuming 'Yes' = 1\n",
    "    f1_score_baseline_lgbm.append(f1_score(y_val_lgbm, y_val_pred_baseline_lgbm, pos_label=1))  # Assuming 'Yes' = 1\n",
    "\n",
    "    # Print fold metrics\n",
    "    print(f\"Fold {fold} - Accuracy: {accuracy_baseline_lgbm[-1]:.4f}, Recall: {recall_baseline_lgbm[-1]:.4f}, F1 Score: {f1_score_baseline_lgbm[-1]:.4f}\")\n",
    "\n",
    "    # Increment fold counter\n",
    "    fold += 1\n",
    "\n",
    "# ---------------------------------------------------\n",
    "# Calculate average metrics across all folds\n",
    "# ---------------------------------------------------\n",
    "avg_accuracy_baseline_lgbm = np.mean(accuracy_baseline_lgbm)\n",
    "avg_recall_baseline_lgbm = np.mean(recall_baseline_lgbm)\n",
    "avg_f1_score_baseline_lgbm = np.mean(f1_score_baseline_lgbm)\n",
    "\n",
    "# Display cross-validation results\n",
    "print(\"\\nAverage Metrics for Baseline LGBM Across Stratified K-Fold Cross-Validation (With Hyperparameter Tuning):\")\n",
    "print(f\"Accuracy: {avg_accuracy_baseline_lgbm:.4f}\")\n",
    "print(f\"Recall: {avg_recall_baseline_lgbm:.4f}\")\n",
    "print(f\"F1 Score: {avg_f1_score_baseline_lgbm:.4f}\")\n",
    "\n",
    "# Display the best hyperparameters found by GridSearchCV\n",
    "print(\"\\nBest Hyperparameters from GridSearchCV for Baseline LGBM:\")\n",
    "print(grid_search_baseline_lgbm.best_params_)\n",
    "\n",
    "# ---------------------------------------------------\n",
    "# Retrain the final model on the full training set\n",
    "# ---------------------------------------------------\n",
    "# Apply SMOTE on the full training+validation set\n",
    "smote_baseline_lgbm = SMOTE(random_state=42)\n",
    "X_train_resampled_baseline_lgbm, y_train_resampled_baseline_lgbm = smote_baseline_lgbm.fit_resample(\n",
    "    X_train_full_baseline_lgbm, y_train_full_baseline_lgbm\n",
    ")\n",
    "\n",
    "# Retrain the model on the resampled full training+validation set\n",
    "final_lgbm_classifier_baseline = grid_search_baseline_lgbm.best_estimator_\n",
    "final_lgbm_classifier_baseline.fit(X_train_resampled_baseline_lgbm, y_train_resampled_baseline_lgbm)\n",
    "\n",
    "# ---------------------------------------------------\n",
    "# Evaluate the final model on the separate test set\n",
    "# ---------------------------------------------------\n",
    "y_test_pred_baseline_lgbm = final_lgbm_classifier_baseline.predict(X_test_baseline_lgbm)\n",
    "\n",
    "# Test set performance metrics\n",
    "test_accuracy_baseline_lgbm = accuracy_score(y_test_baseline_lgbm, y_test_pred_baseline_lgbm)\n",
    "test_recall_baseline_lgbm = recall_score(y_test_baseline_lgbm, y_test_pred_baseline_lgbm, pos_label=1)\n",
    "test_f1_score_baseline_lgbm = f1_score(y_test_baseline_lgbm, y_test_pred_baseline_lgbm, pos_label=1)\n",
    "\n",
    "# Display test set evaluation metrics\n",
    "print(\"\\nBaseline LGBM Model Test Set Evaluation:\")\n",
    "print(f\"Accuracy: {test_accuracy_baseline_lgbm:.4f}\")\n",
    "print(f\"Recall: {test_recall_baseline_lgbm:.4f}\")\n",
    "print(f\"F1 Score: {test_f1_score_baseline_lgbm:.4f}\")\n",
    "\n"
   ]
  },
  {
   "cell_type": "markdown",
   "metadata": {
    "application/vnd.databricks.v1+cell": {
     "cellMetadata": {},
     "inputWidgets": {},
     "nuid": "e7472a5c-e509-43f7-9aaa-369feef3528a",
     "showTitle": false,
     "tableResultSettingsMap": {},
     "title": ""
    }
   },
   "source": [
    "### Model training optimal hyperparameters"
   ]
  },
  {
   "cell_type": "code",
   "execution_count": 0,
   "metadata": {
    "application/vnd.databricks.v1+cell": {
     "cellMetadata": {
      "byteLimit": 2048000,
      "rowLimit": 10000
     },
     "inputWidgets": {},
     "nuid": "364b9549-bcd1-43c6-bffc-4ec06f78ae82",
     "showTitle": false,
     "tableResultSettingsMap": {},
     "title": ""
    }
   },
   "outputs": [
    {
     "output_type": "stream",
     "name": "stdout",
     "output_type": "stream",
     "text": [
      "[LightGBM] [Warning] Found whitespace in feature_names, replace with underlines\n[LightGBM] [Info] Number of positive: 5795, number of negative: 5795\n[LightGBM] [Info] Auto-choosing row-wise multi-threading, the overhead of testing was 0.001231 seconds.\nYou can set `force_row_wise=true` to remove the overhead.\nAnd if memory is not enough, you can set `force_col_wise=true`.\n[LightGBM] [Info] Total Bins 546\n[LightGBM] [Info] Number of data points in the train set: 11590, number of used features: 67\n[LightGBM] [Info] [binary:BoostFromScore]: pavg=0.500000 -> initscore=0.000000\n\nBaseline LightGBM Model Test Set Evaluation:\nAccuracy: 0.8992\nRecall: 0.7465\nF1 Score: 0.7928\n"
     ]
    }
   ],
   "source": [
    "# Prepare the feature variables (X) and target variable (y)\n",
    "X_baseline_lgbm = df_employees_baseline_features.drop(columns=[\"Attrition\"])  # Features\n",
    "y_baseline_lgbm = df_employees_baseline_features[\"Attrition\"]  # Target variable\n",
    "\n",
    "# Convert the target variable to numeric (0 = \"No\", 1 = \"Yes\")\n",
    "label_encoder_lgbm = LabelEncoder()\n",
    "y_baseline_lgbm = label_encoder_lgbm.fit_transform(y_baseline_lgbm)  # \"No\" = 0, \"Yes\" = 1\n",
    "\n",
    "# Split the dataset into training+validation set and test set\n",
    "X_train_full_baseline_lgbm, X_test_baseline_lgbm, y_train_full_baseline_lgbm, y_test_baseline_lgbm = train_test_split(\n",
    "    X_baseline_lgbm, y_baseline_lgbm, test_size=0.2, stratify=y_baseline_lgbm, random_state=42\n",
    ")\n",
    "\n",
    "# Apply SMOTE to the training data\n",
    "smote = SMOTE(random_state=42)\n",
    "X_train_resampled_lgbm, y_train_resampled_lgbm = smote.fit_resample(X_train_full_baseline_lgbm, y_train_full_baseline_lgbm)\n",
    "\n",
    "# Create an LGBM Classifier with the optimal hyperparameters\n",
    "lgbm_classifier_baseline = LGBMClassifier(\n",
    "    n_estimators=100,\n",
    "    learning_rate=0.1,\n",
    "    max_depth=-1,\n",
    "    num_leaves=31,\n",
    "    subsample=1.0,\n",
    "    random_state=42\n",
    ")\n",
    "\n",
    "# Train the model on the resampled training set\n",
    "lgbm_classifier_baseline.fit(X_train_resampled_lgbm, y_train_resampled_lgbm)\n",
    "\n",
    "# Predict on the separate test set\n",
    "y_test_pred_lgbm_baseline = lgbm_classifier_baseline.predict(X_test_baseline_lgbm)\n",
    "\n",
    "# Test set performance metrics\n",
    "test_accuracy_baseline_lgbm = accuracy_score(y_test_baseline_lgbm, y_test_pred_lgbm_baseline)\n",
    "test_recall_baseline_lgbm = recall_score(y_test_baseline_lgbm, y_test_pred_lgbm_baseline, pos_label=1)\n",
    "test_f1_score_baseline_lgbm = f1_score(y_test_baseline_lgbm, y_test_pred_lgbm_baseline, pos_label=1)\n",
    "\n",
    "# Display test set evaluation metrics\n",
    "print(\"\\nBaseline LightGBM Model Test Set Evaluation:\")\n",
    "print(f\"Accuracy: {test_accuracy_baseline_lgbm:.4f}\")\n",
    "print(f\"Recall: {test_recall_baseline_lgbm:.4f}\")\n",
    "print(f\"F1 Score: {test_f1_score_baseline_lgbm:.4f}\")\n",
    "\n",
    "\n"
   ]
  },
  {
   "cell_type": "markdown",
   "metadata": {
    "application/vnd.databricks.v1+cell": {
     "cellMetadata": {
      "byteLimit": 2048000,
      "rowLimit": 10000
     },
     "inputWidgets": {},
     "nuid": "1fec5151-2e4b-4a15-a5c0-bab70852cfc9",
     "showTitle": false,
     "tableResultSettingsMap": {},
     "title": ""
    }
   },
   "source": [
    "# Model performance comparison "
   ]
  },
  {
   "cell_type": "code",
   "execution_count": 0,
   "metadata": {
    "application/vnd.databricks.v1+cell": {
     "cellMetadata": {
      "byteLimit": 2048000,
      "rowLimit": 10000
     },
     "inputWidgets": {},
     "nuid": "ec7f7cd2-ec82-476c-8e51-9d12731896c3",
     "showTitle": false,
     "tableResultSettingsMap": {},
     "title": ""
    }
   },
   "outputs": [
    {
     "output_type": "stream",
     "name": "stdout",
     "output_type": "stream",
     "text": [
      "\nMetrics for all models:\n            Model  Accuracy   Recall  F1 Score\n    Decision Tree  0.895599 0.803960  0.799213\n    Random Forest  0.924258 0.760396  0.838428\n          XGBoost  0.959058 0.863366  0.915966\nGradient Boosting  0.952405 0.843564  0.901587\n         CatBoost  0.952405 0.863366  0.903627\n         LightGBM  0.957011 0.861386  0.911950\n"
     ]
    }
   ],
   "source": [
    "# Collect test metrics for each model\n",
    "metrics = [\n",
    "    ['Decision Tree', test_accuracy_dt, test_recall_dt, test_f1_score_dt],\n",
    "    ['Random Forest', test_accuracy_rf, test_recall_rf, test_f1_score_rf],\n",
    "    # ['Weighted Quadratic Random Forest', test_accuracy_wqrf, test_recall_wqrf, test_f1_score_wqrf], \n",
    "    ['XGBoost', test_accuracy_xgb, test_recall_xgb, test_f1_score_xgb],\n",
    "    ['Gradient Boosting', test_accuracy_gbm, test_recall_gbm, test_f1_score_gbm],\n",
    "    ['CatBoost', test_accuracy_catboost, test_recall_catboost, test_f1_score_catboost],\n",
    "    ['LightGBM', test_accuracy_lgbm, test_recall_lgbm, test_f1_score_lgbm],\n",
    "]\n",
    "\n",
    "# Create a DataFrame to display the metrics\n",
    "metrics_df = pd.DataFrame(metrics, columns=['Model', 'Accuracy', 'Recall', 'F1 Score'])\n",
    "\n",
    "# Print the metrics DataFrame for a visual check\n",
    "print(\"\\nMetrics for all models:\")\n",
    "print(metrics_df.to_string(index=False))\n",
    "\n",
    "\n",
    "\n"
   ]
  },
  {
   "cell_type": "markdown",
   "metadata": {
    "application/vnd.databricks.v1+cell": {
     "cellMetadata": {
      "byteLimit": 2048000,
      "rowLimit": 10000
     },
     "inputWidgets": {},
     "nuid": "c739cb2e-876a-4016-87c6-5b7b94100144",
     "showTitle": false,
     "tableResultSettingsMap": {},
     "title": ""
    }
   },
   "source": [
    "# Confusion matrices comparison"
   ]
  },
  {
   "cell_type": "code",
   "execution_count": 0,
   "metadata": {
    "application/vnd.databricks.v1+cell": {
     "cellMetadata": {
      "byteLimit": 2048000,
      "rowLimit": 10000
     },
     "inputWidgets": {},
     "nuid": "3b520d06-c4a5-4d35-9055-36a25179e3a2",
     "showTitle": false,
     "tableResultSettingsMap": {},
     "title": ""
    }
   },
   "outputs": [],
   "source": [
    "# List of model names and predictions\n",
    "model_info = [\n",
    "    ('Decision Tree', y_test_pred_dt),\n",
    "    ('Random Forest', y_test_pred_rf),\n",
    "    ('LGBM', y_test_pred_lgbm),\n",
    "    ('CatBoost', y_test_pred_catboost),\n",
    "    ('GBM', y_test_pred_gbm),\n",
    "    ('XGBoost', y_test_pred_xgb)\n",
    "]\n",
    "\n",
    "# Initialize figure with 4 rows, 2 columns\n",
    "fig, axes = plt.subplots(4, 2, figsize=(12, 16))  # 4 rows, 2 columns\n",
    "\n",
    "# Loop through models to create subplots\n",
    "for i, (model_name, y_pred) in enumerate(model_info):\n",
    "    # Compute confusion matrix\n",
    "    cm = confusion_matrix(y_test, y_pred)\n",
    "    \n",
    "    # Get the current axis\n",
    "    ax = axes[i // 2, i % 2]\n",
    "    \n",
    "    # Create the heatmap\n",
    "    sns.heatmap(cm, annot=True, fmt='d', cmap=sns.light_palette(\"#8DD3C7\", as_cmap=True), \n",
    "                xticklabels=['No', 'Yes'], yticklabels=['No', 'Yes'], ax=ax, cbar=True)\n",
    "    \n",
    "    # Set equal aspect ratio to ensure square\n",
    "    ax.set_aspect('equal')\n",
    "    \n",
    "    # Set the title and labels\n",
    "    ax.set_title(f'Confusion Matrix {model_name}')\n",
    "    ax.set_xlabel('Predicted')\n",
    "    ax.set_ylabel('Actual')\n",
    "\n",
    "# Remove the empty subplot in the last row on the right\n",
    "axes[3, 1].axis('off')  # Turn off the axis of the empty subplot\n",
    "\n",
    "# Adjust layout and remove white space\n",
    "plt.tight_layout(pad=2.0)  # Increase padding for proper spacing\n",
    "plt.show()\n",
    "\n"
   ]
  },
  {
   "cell_type": "markdown",
   "metadata": {
    "application/vnd.databricks.v1+cell": {
     "cellMetadata": {
      "byteLimit": 2048000,
      "rowLimit": 10000
     },
     "inputWidgets": {},
     "nuid": "a489b9e3-090b-445f-9c9e-2dee14b8ab08",
     "showTitle": false,
     "tableResultSettingsMap": {},
     "title": ""
    }
   },
   "source": [
    "# Distribution of Attrition per feature"
   ]
  },
  {
   "cell_type": "code",
   "execution_count": 0,
   "metadata": {
    "application/vnd.databricks.v1+cell": {
     "cellMetadata": {
      "byteLimit": 2048000,
      "rowLimit": 10000
     },
     "inputWidgets": {},
     "nuid": "dc9659f0-77b0-4b49-b1ca-af5a235a0faa",
     "showTitle": false,
     "tableResultSettingsMap": {},
     "title": ""
    }
   },
   "outputs": [
    {
     "output_type": "display_data",
     "data": {
      "image/png": "[encoded data removed]",
      "text/plain": [
       "<Figure size 1000x600 with 1 Axes>"
      ]
     },
     "metadata": {},
     "output_type": "display_data"
    }
   ],
   "source": [
    "import pandas as pd\n",
    "import matplotlib.pyplot as plt\n",
    "import seaborn as sns\n",
    "\n",
    "# Define the order of the AgeGroup\n",
    "age_order = [\n",
    "    'under 20',   # 0\n",
    "    '20-24',      # 1\n",
    "    '25-29',      # 2\n",
    "    '30-34',      # 3\n",
    "    '35-39',      # 4\n",
    "    '40-44',      # 5\n",
    "    '45-49',      # 6\n",
    "    '50-54',      # 7\n",
    "    '55-59',      # 8\n",
    "    '60-64',      # 9\n",
    "    '65+'         # 10\n",
    "]\n",
    "\n",
    "# Copy the DataFrame to ensure original df_employees_cleaned is not changed\n",
    "df_copy = df_employees_cleaned.copy()\n",
    "\n",
    "# Convert Attrition to numeric values (0 for 'No', 1 for 'Yes')\n",
    "df_copy['Attrition'] = df_copy['Attrition'].map({'No': 0, 'Yes': 1})\n",
    "\n",
    "# Create a cross-tabulation of AgeGroup and Attrition\n",
    "attrition_agegroup = pd.crosstab(df_copy['AgeGroup'], df_copy['Attrition'])\n",
    "\n",
    "# Ensure the data is numeric (just in case)\n",
    "attrition_agegroup = attrition_agegroup.astype(int)\n",
    "\n",
    "# Get the first and third colors from Set3 color palette (more visible alternative)\n",
    "colors = [sns.color_palette(\"Set3\", n_colors=12)[0], sns.color_palette(\"Set3\", n_colors=12)[3]]  # First and third colors\n",
    "\n",
    "# Plotting a stacked bar plot\n",
    "ax = attrition_agegroup.plot(kind='bar', stacked=True, figsize=(10, 6), color=colors)\n",
    "\n",
    "# Add title and labels\n",
    "ax.set_title('Distribution of Attrition per AgeGroup')\n",
    "ax.set_xlabel('Age Group')\n",
    "ax.set_ylabel('Count')\n",
    "\n",
    "# Set custom labels for the x-axis using the age_order (use the original labels)\n",
    "ax.set_xticklabels(age_order, rotation=45)\n",
    "\n",
    "# Add legend and show the plot\n",
    "ax.legend(title='Attrition', labels=['No', 'Yes'])\n",
    "plt.tight_layout()\n",
    "plt.show()\n",
    "\n",
    "\n"
   ]
  },
  {
   "cell_type": "code",
   "execution_count": 0,
   "metadata": {
    "application/vnd.databricks.v1+cell": {
     "cellMetadata": {
      "byteLimit": 2048000,
      "rowLimit": 10000
     },
     "inputWidgets": {},
     "nuid": "d6a38043-c575-422d-97dc-40cd3867c9a5",
     "showTitle": false,
     "tableResultSettingsMap": {},
     "title": ""
    }
   },
   "outputs": [
    {
     "output_type": "display_data",
     "data": {
      "image/png": "[encoded data removed]",
      "text/plain": [
       "<Figure size 1000x600 with 1 Axes>"
      ]
     },
     "metadata": {},
     "output_type": "display_data"
    }
   ],
   "source": [
    "import pandas as pd\n",
    "import matplotlib.pyplot as plt\n",
    "import seaborn as sns\n",
    "\n",
    "# Define the year range\n",
    "min_year = 1977\n",
    "max_year = 2024\n",
    "\n",
    "# Create a mapping from year to ordinal value\n",
    "year_mapping = {year: year - min_year for year in range(min_year, max_year + 1)}\n",
    "\n",
    "# Copy the DataFrame to ensure original df_employees_cleaned is not changed\n",
    "df_copy = df_employees_cleaned.copy()\n",
    "\n",
    "# Convert Attrition to numeric values (0 for 'No', 1 for 'Yes')\n",
    "df_copy['Attrition'] = df_copy['Attrition'].map({'No': 0, 'Yes': 1})\n",
    "\n",
    "# Create a cross-tabulation of YearDateService and Attrition\n",
    "attrition_service_year = pd.crosstab(df_copy['YearDateService'], df_copy['Attrition'], margins=False)\n",
    "\n",
    "# Ensure the data is numeric (just in case)\n",
    "attrition_service_year = attrition_service_year.astype(int)\n",
    "\n",
    "# Get the first and third colors from Set3 color palette (more visible alternative)\n",
    "colors = [sns.color_palette(\"Set3\", n_colors=12)[0], sns.color_palette(\"Set3\", n_colors=12)[3]]  # First and third colors\n",
    "\n",
    "# Map the ordinal year values back to the original years for plotting (use the reverse of year_mapping)\n",
    "reverse_year_mapping = {v: k for k, v in year_mapping.items()}\n",
    "attrition_service_year.index = attrition_service_year.index.map(reverse_year_mapping)\n",
    "\n",
    "# Get the last 15 years (from 2009 to 2024)\n",
    "last_15_years = attrition_service_year.tail(15)\n",
    "\n",
    "# Plotting a stacked bar plot for the last 15 years only\n",
    "ax = last_15_years.plot(kind='bar', stacked=True, figsize=(10, 6), color=colors)\n",
    "\n",
    "# Add title and labels\n",
    "ax.set_title('Distribution of Attrition per YearDateService')\n",
    "ax.set_xlabel('Starting Year of Employment')\n",
    "ax.set_ylabel('Count')\n",
    "\n",
    "# Set custom labels for the x-axis using the YearDateService (now in original year format)\n",
    "ax.set_xticklabels(last_15_years.index, rotation=45)\n",
    "\n",
    "# Add legend and show the plot\n",
    "ax.legend(title='Attrition', labels=['No', 'Yes'])\n",
    "plt.tight_layout()\n",
    "plt.show()\n",
    "\n"
   ]
  },
  {
   "cell_type": "code",
   "execution_count": 0,
   "metadata": {
    "application/vnd.databricks.v1+cell": {
     "cellMetadata": {
      "byteLimit": 2048000,
      "rowLimit": 10000
     },
     "inputWidgets": {},
     "nuid": "c54a49e7-02d9-4121-9f3a-0affa115651d",
     "showTitle": false,
     "tableResultSettingsMap": {},
     "title": ""
    }
   },
   "outputs": [
    {
     "output_type": "display_data",
     "data": {
      "image/png": "[encoded data removed]",
      "text/plain": [
       "<Figure size 1000x600 with 1 Axes>"
      ]
     },
     "metadata": {},
     "output_type": "display_data"
    }
   ],
   "source": [
    "import pandas as pd\n",
    "import matplotlib.pyplot as plt\n",
    "import seaborn as sns\n",
    "\n",
    "def plot_attrition_by_salary_range(df, salary_column, title, xlabel, ylabel):\n",
    "    \"\"\"\n",
    "    Plots a stacked bar chart showing the distribution of Attrition based on salary ranges.\n",
    "    \n",
    "    Parameters:\n",
    "    - df (pd.DataFrame): The input DataFrame containing employee data.\n",
    "    - salary_column (str): The column representing the monthly salary.\n",
    "    - title (str): The title of the plot.\n",
    "    - xlabel (str): Label for the x-axis.\n",
    "    - ylabel (str): Label for the y-axis.\n",
    "    \"\"\"\n",
    "    # Copy the DataFrame to ensure the original is not modified\n",
    "    df_copy = df.copy()\n",
    "\n",
    "    # Define cleaner salary bins and labels\n",
    "    salary_bins = [0, 1000, 2000, 3000, 4000, 5000, 6000, 7000, 8000, 9000, 10000, float('inf')]\n",
    "    salary_labels = ['0-1000', '1001-2000', '2001-3000', '3001-4000', \n",
    "                     '4001-5000', '5001-6000', '6001-7000', '7001-8000', \n",
    "                     '8001-9000', '9001-10000', '10001+']\n",
    "\n",
    "    # Create a new column for salary ranges\n",
    "    df_copy['SalaryRange'] = pd.cut(df_copy[salary_column], bins=salary_bins, labels=salary_labels, right=True)\n",
    "\n",
    "    # Convert Attrition to numeric values (0 for 'No', 1 for 'Yes')\n",
    "    df_copy['Attrition'] = df_copy['Attrition'].map({'No': 0, 'Yes': 1})\n",
    "\n",
    "    # Create a cross-tabulation of SalaryRange and Attrition\n",
    "    attrition_salary_range = pd.crosstab(df_copy['SalaryRange'], df_copy['Attrition'], margins=False)\n",
    "\n",
    "    # Ensure the data is numeric (just in case)\n",
    "    attrition_salary_range = attrition_salary_range.astype(int)\n",
    "\n",
    "    # Get the first and third colors from Set3 color palette (more visible alternative)\n",
    "    colors = [sns.color_palette(\"Set3\", n_colors=12)[0], sns.color_palette(\"Set3\", n_colors=12)[3]]\n",
    "\n",
    "    # Plotting a stacked bar plot for salary ranges\n",
    "    ax = attrition_salary_range.plot(kind='bar', stacked=True, figsize=(10, 6), color=colors)\n",
    "\n",
    "    # Add title and labels\n",
    "    ax.set_title(title)\n",
    "    ax.set_xlabel(xlabel)\n",
    "    ax.set_ylabel(ylabel)\n",
    "\n",
    "    # Set custom labels for the x-axis\n",
    "    ax.set_xticklabels(attrition_salary_range.index, rotation=45)\n",
    "\n",
    "    # Add legend and show the plot\n",
    "    ax.legend(title='Attrition', labels=['No', 'Yes'])\n",
    "    plt.tight_layout()\n",
    "    plt.show()\n",
    "\n",
    "# Example usage:\n",
    "plot_attrition_by_salary_range(\n",
    "    df=df_employees_cleaned,\n",
    "    salary_column='MonthlySalary',\n",
    "    title='Distribution of Attrition per MonthlySalary range',\n",
    "    xlabel='Monthly Salary Range',\n",
    "    ylabel='Count'\n",
    ")\n",
    "\n"
   ]
  },
  {
   "cell_type": "code",
   "execution_count": 0,
   "metadata": {
    "application/vnd.databricks.v1+cell": {
     "cellMetadata": {
      "byteLimit": 2048000,
      "rowLimit": 10000
     },
     "inputWidgets": {},
     "nuid": "1bedd7bc-a382-444d-8e54-ad1d8b3cd0e7",
     "showTitle": false,
     "tableResultSettingsMap": {},
     "title": ""
    }
   },
   "outputs": [
    {
     "output_type": "display_data",
     "data": {
      "image/png": "[encoded data removed]",
      "text/plain": [
       "<Figure size 1000x600 with 1 Axes>"
      ]
     },
     "metadata": {},
     "output_type": "display_data"
    }
   ],
   "source": [
    "import pandas as pd\n",
    "import matplotlib.pyplot as plt\n",
    "import seaborn as sns\n",
    "\n",
    "def plot_attrition_by_function_level(df, function_level_column, title, xlabel, ylabel):\n",
    "    \"\"\"\n",
    "    Plots a stacked bar chart showing the distribution of Attrition based on FunctionLevel with custom labels.\n",
    "    \n",
    "    Parameters:\n",
    "    - df (pd.DataFrame): The input DataFrame containing employee data.\n",
    "    - function_level_column (str): The column representing the Function Level.\n",
    "    - title (str): The title of the plot.\n",
    "    - xlabel (str): Label for the x-axis.\n",
    "    - ylabel (str): Label for the y-axis.\n",
    "    \"\"\"\n",
    "    # Define the order of categories\n",
    "    category_order = [\n",
    "        'Intern', \n",
    "        'Flex worker', \n",
    "        'Junior', \n",
    "        'General Level', \n",
    "        'Medior', \n",
    "        'Lead or Supervisor', \n",
    "        'Manager', \n",
    "        'Senior', \n",
    "        'Partner and C-level'\n",
    "    ]\n",
    "    \n",
    "    # Create a mapping from category to ordinal number\n",
    "    category_mapping = {category: index for index, category in enumerate(category_order)}\n",
    "\n",
    "    # Copy the DataFrame to ensure the original is not modified\n",
    "    df_copy = df.copy()\n",
    "\n",
    "    # Perform ordinal encoding\n",
    "    df_copy['FunctionLevel'] = df_copy[function_level_column].replace(category_mapping)\n",
    "\n",
    "    # Convert Attrition to numeric values (0 for 'No', 1 for 'Yes')\n",
    "    df_copy['Attrition'] = df_copy['Attrition'].map({'No': 0, 'Yes': 1})\n",
    "\n",
    "    # Create a cross-tabulation of FunctionLevel and Attrition\n",
    "    attrition_function_level = pd.crosstab(df_copy['FunctionLevel'], df_copy['Attrition'], margins=False)\n",
    "\n",
    "    # Ensure the data is numeric (just in case)\n",
    "    attrition_function_level = attrition_function_level.astype(int)\n",
    "\n",
    "    # Get the first and third colors from Set3 color palette (more visible alternative)\n",
    "    colors = [sns.color_palette(\"Set3\", n_colors=12)[0], sns.color_palette(\"Set3\", n_colors=12)[3]]\n",
    "\n",
    "    # Plotting a stacked bar plot for FunctionLevel\n",
    "    ax = attrition_function_level.plot(kind='bar', stacked=True, figsize=(10, 6), color=colors)\n",
    "\n",
    "    # Add title and labels\n",
    "    ax.set_title(title)\n",
    "    ax.set_xlabel(xlabel)\n",
    "    ax.set_ylabel(ylabel)\n",
    "\n",
    "    # Set custom labels for the x-axis using the FunctionLevel labels (map ordinal back to category labels)\n",
    "    ax.set_xticklabels(category_order, rotation=45)\n",
    "\n",
    "    # Add legend and show the plot\n",
    "    ax.legend(title='Attrition', labels=['No', 'Yes'])\n",
    "    plt.tight_layout()\n",
    "    plt.show()\n",
    "\n",
    "# Example usage:\n",
    "plot_attrition_by_function_level(\n",
    "    df=df_employees_cleaned,\n",
    "    function_level_column='FunctionLevel',  # This column should be 'FunctionLevel'\n",
    "    title='Distribution of Attrition per FunctionLevel',\n",
    "    xlabel='Function Level',\n",
    "    ylabel='Count'\n",
    ")\n",
    "\n"
   ]
  },
  {
   "cell_type": "markdown",
   "metadata": {
    "application/vnd.databricks.v1+cell": {
     "cellMetadata": {},
     "inputWidgets": {},
     "nuid": "5f7466d7-c734-44a7-a375-ae9c4902cee4",
     "showTitle": false,
     "tableResultSettingsMap": {},
     "title": ""
    }
   },
   "source": [
    "# AUC-ROC and AUC-PR plots"
   ]
  },
  {
   "cell_type": "code",
   "execution_count": 0,
   "metadata": {
    "application/vnd.databricks.v1+cell": {
     "cellMetadata": {
      "byteLimit": 2048000,
      "rowLimit": 10000
     },
     "inputWidgets": {},
     "nuid": "4a9e66ba-06d8-4ba7-aaec-ac8b5736de41",
     "showTitle": false,
     "tableResultSettingsMap": {},
     "title": ""
    }
   },
   "outputs": [
    {
     "output_type": "stream",
     "name": "stdout",
     "output_type": "stream",
     "text": [
      "[LightGBM] [Warning] Found whitespace in feature_names, replace with underlines\n[LightGBM] [Info] Number of positive: 5793, number of negative: 5793\n[LightGBM] [Info] Auto-choosing row-wise multi-threading, the overhead of testing was 0.003184 seconds.\nYou can set `force_row_wise=true` to remove the overhead.\nAnd if memory is not enough, you can set `force_col_wise=true`.\n[LightGBM] [Info] Total Bins 2067\n[LightGBM] [Info] Number of data points in the train set: 11586, number of used features: 78\n[LightGBM] [Info] [binary:BoostFromScore]: pavg=0.500000 -> initscore=0.000000\n"
     ]
    },
    {
     "output_type": "stream",
     "name": "stderr",
     "output_type": "stream",
     "text": [
      "/root/.ipykernel/1703/command-833495483671375-2410270489:58: UserWarning: color is redundantly defined by the 'color' keyword argument and the fmt string \"k--\" (-> color='k'). The keyword argument will take precedence.\n  axes[0].plot([0, 1], [0, 1], 'k--', label='Random', color='gray')  # Diagonal line\n"
     ]
    },
    {
     "output_type": "display_data",
     "data": {
      "image/png": "[encoded data removed]",
      "text/plain": [
       "<Figure size 1800x800 with 2 Axes>"
      ]
     },
     "metadata": {},
     "output_type": "display_data"
    }
   ],
   "source": [
    "# Import necessary libraries\n",
    "import matplotlib.pyplot as plt\n",
    "from sklearn.metrics import roc_curve, auc, precision_recall_curve, average_precision_score\n",
    "from sklearn.model_selection import train_test_split\n",
    "from imblearn.over_sampling import SMOTE\n",
    "from sklearn.preprocessing import LabelEncoder\n",
    "\n",
    "# Initialize dictionaries to store the metrics\n",
    "fpr_dict = {}\n",
    "tpr_dict = {}\n",
    "roc_auc_values = {}\n",
    "precision_dict = {}\n",
    "recall_dict = {}\n",
    "pr_auc_values = {}\n",
    "\n",
    "# Define the models dictionary with all the classifiers\n",
    "models = {\n",
    "    'CatBoost': final_catboost_classifier,\n",
    "    'LGBM': final_lgbm_classifier,\n",
    "    'Random Forest': final_rf_classifier,\n",
    "    'Gradient Boosting': final_gbm_classifier,\n",
    "    'XGBoost': final_xgb_classifier  # Ensure you have this model defined\n",
    "}\n",
    "\n",
    "# Calculate ROC and AUC values, and Precision-Recall for each model\n",
    "for model_name, model in models.items():\n",
    "    # Fit the model to the resampled training data\n",
    "    model.fit(X_train_resampled, y_train_resampled)\n",
    "    \n",
    "    # Get the predicted probabilities (for the positive class)\n",
    "    y_pred_proba = model.predict_proba(X_test)[:, 1]\n",
    "    \n",
    "    # Compute ROC curve\n",
    "    fpr, tpr, _ = roc_curve(y_test, y_pred_proba)\n",
    "    roc_auc = auc(fpr, tpr)\n",
    "    \n",
    "    # Store ROC values\n",
    "    fpr_dict[model_name] = fpr\n",
    "    tpr_dict[model_name] = tpr\n",
    "    roc_auc_values[model_name] = roc_auc\n",
    "    \n",
    "    # Compute Precision-Recall curve\n",
    "    precision, recall, _ = precision_recall_curve(y_test, y_pred_proba)\n",
    "    pr_auc = average_precision_score(y_test, y_pred_proba)\n",
    "    \n",
    "    # Store Precision-Recall values\n",
    "    precision_dict[model_name] = precision\n",
    "    recall_dict[model_name] = recall\n",
    "    pr_auc_values[model_name] = pr_auc\n",
    "\n",
    "# Create subplots with two plots side by side\n",
    "fig, axes = plt.subplots(1, 2, figsize=(18, 8))\n",
    "\n",
    "# Plot the ROC curves\n",
    "for model_name in roc_auc_values.keys():\n",
    "    axes[0].plot(fpr_dict[model_name], tpr_dict[model_name], label=f'{model_name} (AUC = {roc_auc_values[model_name]:.4f})')\n",
    "\n",
    "axes[0].plot([0, 1], [0, 1], 'k--', label='Random', color='gray')  # Diagonal line\n",
    "axes[0].set_xlim([0.0, 1.0])\n",
    "axes[0].set_ylim([0.0, 1.05])\n",
    "axes[0].set_xlabel('False Positive Rate')\n",
    "axes[0].set_ylabel('True Positive Rate')\n",
    "axes[0].set_title('AUC-ROC')\n",
    "axes[0].legend(loc=\"lower right\")\n",
    "\n",
    "# Plot the Precision-Recall curves\n",
    "for model_name in pr_auc_values.keys():\n",
    "    axes[1].plot(recall_dict[model_name], precision_dict[model_name], label=f'{model_name} (AUC-PR = {pr_auc_values[model_name]:.4f})')\n",
    "\n",
    "axes[1].set_xlabel('Recall')\n",
    "axes[1].set_ylabel('Precision')\n",
    "axes[1].set_title('AUC-PR')\n",
    "axes[1].legend(loc=\"lower left\")\n",
    "\n",
    "plt.tight_layout()\n",
    "plt.show()\n",
    "\n",
    "\n",
    "\n",
    "\n",
    "\n"
   ]
  }
 ],
 "metadata": {
  "application/vnd.databricks.v1+notebook": {
   "dashboards": [],
   "environmentMetadata": {
    "base_environment": "",
    "client": "1"
   },
   "language": "python",
   "notebookMetadata": {
    "pythonIndentUnit": 2
   },
   "notebookName": "models",
   "widgets": {}
  },
  "language_info": {
   "name": "python"
  }
 },
 "nbformat": 4,
 "nbformat_minor": 0
}